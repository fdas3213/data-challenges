{
 "cells": [
  {
   "cell_type": "code",
   "execution_count": 1,
   "metadata": {},
   "outputs": [],
   "source": [
    "import numpy as np\n",
    "import pandas as pd\n",
    "import matplotlib.pyplot as plt\n",
    "import seaborn as sns\n",
    "%matplotlib inline"
   ]
  },
  {
   "cell_type": "markdown",
   "metadata": {},
   "source": [
    "# Questions \n",
    "1. ids that have never spent more than limit\n",
    "2. return users(daily basis) who spent more than limit\n",
    "3. use unsupervised learning to find out unusual transactions"
   ]
  },
  {
   "cell_type": "markdown",
   "metadata": {},
   "source": [
    "## Read data, merge tables"
   ]
  },
  {
   "cell_type": "code",
   "execution_count": 2,
   "metadata": {},
   "outputs": [],
   "source": [
    "#read data\n",
    "cc = pd.read_csv(\"cc_info.csv\")\n",
    "transaction = pd.read_csv(\"transactions.csv\")"
   ]
  },
  {
   "cell_type": "code",
   "execution_count": 3,
   "metadata": {},
   "outputs": [
    {
     "data": {
      "text/html": [
       "<div>\n",
       "<style scoped>\n",
       "    .dataframe tbody tr th:only-of-type {\n",
       "        vertical-align: middle;\n",
       "    }\n",
       "\n",
       "    .dataframe tbody tr th {\n",
       "        vertical-align: top;\n",
       "    }\n",
       "\n",
       "    .dataframe thead th {\n",
       "        text-align: right;\n",
       "    }\n",
       "</style>\n",
       "<table border=\"1\" class=\"dataframe\">\n",
       "  <thead>\n",
       "    <tr style=\"text-align: right;\">\n",
       "      <th></th>\n",
       "      <th>credit_card</th>\n",
       "      <th>city</th>\n",
       "      <th>state</th>\n",
       "      <th>zipcode</th>\n",
       "      <th>credit_card_limit</th>\n",
       "    </tr>\n",
       "  </thead>\n",
       "  <tbody>\n",
       "    <tr>\n",
       "      <th>0</th>\n",
       "      <td>1280981422329509</td>\n",
       "      <td>Dallas</td>\n",
       "      <td>PA</td>\n",
       "      <td>18612</td>\n",
       "      <td>6000</td>\n",
       "    </tr>\n",
       "    <tr>\n",
       "      <th>1</th>\n",
       "      <td>9737219864179988</td>\n",
       "      <td>Houston</td>\n",
       "      <td>PA</td>\n",
       "      <td>15342</td>\n",
       "      <td>16000</td>\n",
       "    </tr>\n",
       "    <tr>\n",
       "      <th>2</th>\n",
       "      <td>4749889059323202</td>\n",
       "      <td>Auburn</td>\n",
       "      <td>MA</td>\n",
       "      <td>1501</td>\n",
       "      <td>14000</td>\n",
       "    </tr>\n",
       "  </tbody>\n",
       "</table>\n",
       "</div>"
      ],
      "text/plain": [
       "        credit_card     city state  zipcode  credit_card_limit\n",
       "0  1280981422329509   Dallas    PA    18612               6000\n",
       "1  9737219864179988  Houston    PA    15342              16000\n",
       "2  4749889059323202   Auburn    MA     1501              14000"
      ]
     },
     "execution_count": 3,
     "metadata": {},
     "output_type": "execute_result"
    }
   ],
   "source": [
    "cc.head(3)"
   ]
  },
  {
   "cell_type": "code",
   "execution_count": 4,
   "metadata": {},
   "outputs": [
    {
     "data": {
      "text/html": [
       "<div>\n",
       "<style scoped>\n",
       "    .dataframe tbody tr th:only-of-type {\n",
       "        vertical-align: middle;\n",
       "    }\n",
       "\n",
       "    .dataframe tbody tr th {\n",
       "        vertical-align: top;\n",
       "    }\n",
       "\n",
       "    .dataframe thead th {\n",
       "        text-align: right;\n",
       "    }\n",
       "</style>\n",
       "<table border=\"1\" class=\"dataframe\">\n",
       "  <thead>\n",
       "    <tr style=\"text-align: right;\">\n",
       "      <th></th>\n",
       "      <th>credit_card</th>\n",
       "      <th>date</th>\n",
       "      <th>transaction_dollar_amount</th>\n",
       "      <th>Long</th>\n",
       "      <th>Lat</th>\n",
       "    </tr>\n",
       "  </thead>\n",
       "  <tbody>\n",
       "    <tr>\n",
       "      <th>0</th>\n",
       "      <td>1003715054175576</td>\n",
       "      <td>2015-09-11 00:32:40</td>\n",
       "      <td>43.78</td>\n",
       "      <td>-80.174132</td>\n",
       "      <td>40.267370</td>\n",
       "    </tr>\n",
       "    <tr>\n",
       "      <th>1</th>\n",
       "      <td>1003715054175576</td>\n",
       "      <td>2015-10-24 22:23:08</td>\n",
       "      <td>103.15</td>\n",
       "      <td>-80.194240</td>\n",
       "      <td>40.180114</td>\n",
       "    </tr>\n",
       "    <tr>\n",
       "      <th>2</th>\n",
       "      <td>1003715054175576</td>\n",
       "      <td>2015-10-26 18:19:36</td>\n",
       "      <td>48.55</td>\n",
       "      <td>-80.211033</td>\n",
       "      <td>40.313004</td>\n",
       "    </tr>\n",
       "  </tbody>\n",
       "</table>\n",
       "</div>"
      ],
      "text/plain": [
       "        credit_card                 date  transaction_dollar_amount  \\\n",
       "0  1003715054175576  2015-09-11 00:32:40                      43.78   \n",
       "1  1003715054175576  2015-10-24 22:23:08                     103.15   \n",
       "2  1003715054175576  2015-10-26 18:19:36                      48.55   \n",
       "\n",
       "        Long        Lat  \n",
       "0 -80.174132  40.267370  \n",
       "1 -80.194240  40.180114  \n",
       "2 -80.211033  40.313004  "
      ]
     },
     "execution_count": 4,
     "metadata": {},
     "output_type": "execute_result"
    }
   ],
   "source": [
    "transaction.head(3)"
   ]
  },
  {
   "cell_type": "markdown",
   "metadata": {},
   "source": [
    "Its good to know that both tables have 984 unique credit cards"
   ]
  },
  {
   "cell_type": "code",
   "execution_count": 5,
   "metadata": {},
   "outputs": [
    {
     "name": "stdout",
     "output_type": "stream",
     "text": [
      "credit card table has shape:  (984, 5)\n",
      "transaction table has shape:  (294588, 5)\n",
      "Number of unique credit cards in cc table: 984, in transaction table: 984\n"
     ]
    }
   ],
   "source": [
    "#check out table size\n",
    "print(\"credit card table has shape: \", cc.shape)\n",
    "print(\"transaction table has shape: \", transaction.shape)\n",
    "print(\"Number of unique credit cards in cc table: {}, in transaction table: {}\".format(\\\n",
    "                                            len(cc['credit_card'].unique()), len(transaction['credit_card'].unique())))"
   ]
  },
  {
   "cell_type": "code",
   "execution_count": 6,
   "metadata": {},
   "outputs": [
    {
     "name": "stdout",
     "output_type": "stream",
     "text": [
      "Merged table has shape:  (294588, 9)\n",
      "<class 'pandas.core.frame.DataFrame'>\n",
      "Int64Index: 294588 entries, 0 to 294587\n",
      "Data columns (total 9 columns):\n",
      "credit_card                  294588 non-null int64\n",
      "city                         294588 non-null object\n",
      "state                        294588 non-null object\n",
      "zipcode                      294588 non-null int64\n",
      "credit_card_limit            294588 non-null int64\n",
      "date                         294588 non-null object\n",
      "transaction_dollar_amount    294588 non-null float64\n",
      "Long                         294588 non-null float64\n",
      "Lat                          294588 non-null float64\n",
      "dtypes: float64(3), int64(3), object(3)\n",
      "memory usage: 22.5+ MB\n"
     ]
    }
   ],
   "source": [
    "#merge two tables\n",
    "data = pd.merge(cc, transaction, on = 'credit_card', how = 'inner')\n",
    "print(\"Merged table has shape: \", data.shape)\n",
    "data.info()"
   ]
  },
  {
   "cell_type": "code",
   "execution_count": 7,
   "metadata": {},
   "outputs": [
    {
     "data": {
      "text/plain": [
       "credit_card                  0\n",
       "city                         0\n",
       "state                        0\n",
       "zipcode                      0\n",
       "credit_card_limit            0\n",
       "date                         0\n",
       "transaction_dollar_amount    0\n",
       "Long                         0\n",
       "Lat                          0\n",
       "dtype: int64"
      ]
     },
     "execution_count": 7,
     "metadata": {},
     "output_type": "execute_result"
    }
   ],
   "source": [
    "#check null\n",
    "data.isnull().sum()"
   ]
  },
  {
   "cell_type": "code",
   "execution_count": 8,
   "metadata": {},
   "outputs": [],
   "source": [
    "#transform date to pd.Datetime object, and create new features: month, day,hour,dayofweek\n",
    "data['date'] = pd.to_datetime(data['date'])\n",
    "data['month'] = data['date'].apply(lambda d: d.month)\n",
    "data['day'] = data['date'].apply(lambda d: d.day)\n",
    "data['dayofweek'] = data['date'].apply(lambda d: d.dayofweek)\n",
    "data['hour'] = data['date'].apply(lambda d: d.hour)\n",
    "\n",
    "data.drop('date', axis = 1,inplace=True)"
   ]
  },
  {
   "cell_type": "code",
   "execution_count": 9,
   "metadata": {},
   "outputs": [
    {
     "data": {
      "text/html": [
       "<div>\n",
       "<style scoped>\n",
       "    .dataframe tbody tr th:only-of-type {\n",
       "        vertical-align: middle;\n",
       "    }\n",
       "\n",
       "    .dataframe tbody tr th {\n",
       "        vertical-align: top;\n",
       "    }\n",
       "\n",
       "    .dataframe thead th {\n",
       "        text-align: right;\n",
       "    }\n",
       "</style>\n",
       "<table border=\"1\" class=\"dataframe\">\n",
       "  <thead>\n",
       "    <tr style=\"text-align: right;\">\n",
       "      <th></th>\n",
       "      <th>credit_card</th>\n",
       "      <th>city</th>\n",
       "      <th>state</th>\n",
       "      <th>zipcode</th>\n",
       "      <th>credit_card_limit</th>\n",
       "      <th>transaction_dollar_amount</th>\n",
       "      <th>Long</th>\n",
       "      <th>Lat</th>\n",
       "      <th>month</th>\n",
       "      <th>day</th>\n",
       "      <th>dayofweek</th>\n",
       "      <th>hour</th>\n",
       "    </tr>\n",
       "  </thead>\n",
       "  <tbody>\n",
       "    <tr>\n",
       "      <th>0</th>\n",
       "      <td>1280981422329509</td>\n",
       "      <td>Dallas</td>\n",
       "      <td>PA</td>\n",
       "      <td>18612</td>\n",
       "      <td>6000</td>\n",
       "      <td>11.94</td>\n",
       "      <td>-75.964527</td>\n",
       "      <td>41.353578</td>\n",
       "      <td>8</td>\n",
       "      <td>5</td>\n",
       "      <td>2</td>\n",
       "      <td>0</td>\n",
       "    </tr>\n",
       "    <tr>\n",
       "      <th>1</th>\n",
       "      <td>1280981422329509</td>\n",
       "      <td>Dallas</td>\n",
       "      <td>PA</td>\n",
       "      <td>18612</td>\n",
       "      <td>6000</td>\n",
       "      <td>5.76</td>\n",
       "      <td>-76.019703</td>\n",
       "      <td>41.311467</td>\n",
       "      <td>10</td>\n",
       "      <td>29</td>\n",
       "      <td>3</td>\n",
       "      <td>18</td>\n",
       "    </tr>\n",
       "    <tr>\n",
       "      <th>2</th>\n",
       "      <td>1280981422329509</td>\n",
       "      <td>Dallas</td>\n",
       "      <td>PA</td>\n",
       "      <td>18612</td>\n",
       "      <td>6000</td>\n",
       "      <td>25.84</td>\n",
       "      <td>-76.043031</td>\n",
       "      <td>41.291053</td>\n",
       "      <td>10</td>\n",
       "      <td>25</td>\n",
       "      <td>6</td>\n",
       "      <td>17</td>\n",
       "    </tr>\n",
       "  </tbody>\n",
       "</table>\n",
       "</div>"
      ],
      "text/plain": [
       "        credit_card    city state  zipcode  credit_card_limit  \\\n",
       "0  1280981422329509  Dallas    PA    18612               6000   \n",
       "1  1280981422329509  Dallas    PA    18612               6000   \n",
       "2  1280981422329509  Dallas    PA    18612               6000   \n",
       "\n",
       "   transaction_dollar_amount       Long        Lat  month  day  dayofweek  \\\n",
       "0                      11.94 -75.964527  41.353578      8    5          2   \n",
       "1                       5.76 -76.019703  41.311467     10   29          3   \n",
       "2                      25.84 -76.043031  41.291053     10   25          6   \n",
       "\n",
       "   hour  \n",
       "0     0  \n",
       "1    18  \n",
       "2    17  "
      ]
     },
     "execution_count": 9,
     "metadata": {},
     "output_type": "execute_result"
    }
   ],
   "source": [
    "data.head(3)"
   ]
  },
  {
   "cell_type": "markdown",
   "metadata": {},
   "source": [
    "**Q1. Users who never spent more than limit**"
   ]
  },
  {
   "cell_type": "code",
   "execution_count": 10,
   "metadata": {},
   "outputs": [],
   "source": [
    "#group by users(credit card number)\n",
    "users = data.groupby(['credit_card','month', 'credit_card_limit'])['transaction_dollar_amount'].sum().reset_index()\n",
    "users = users.rename(columns = {\"transaction_dollar_amount\":\"total_monthly_transaction_amount\"})"
   ]
  },
  {
   "cell_type": "code",
   "execution_count": 11,
   "metadata": {},
   "outputs": [
    {
     "data": {
      "text/html": [
       "<div>\n",
       "<style scoped>\n",
       "    .dataframe tbody tr th:only-of-type {\n",
       "        vertical-align: middle;\n",
       "    }\n",
       "\n",
       "    .dataframe tbody tr th {\n",
       "        vertical-align: top;\n",
       "    }\n",
       "\n",
       "    .dataframe thead th {\n",
       "        text-align: right;\n",
       "    }\n",
       "</style>\n",
       "<table border=\"1\" class=\"dataframe\">\n",
       "  <thead>\n",
       "    <tr style=\"text-align: right;\">\n",
       "      <th></th>\n",
       "      <th>credit_card</th>\n",
       "      <th>month</th>\n",
       "      <th>credit_card_limit</th>\n",
       "      <th>total_monthly_transaction_amount</th>\n",
       "    </tr>\n",
       "  </thead>\n",
       "  <tbody>\n",
       "    <tr>\n",
       "      <th>0</th>\n",
       "      <td>1003715054175576</td>\n",
       "      <td>7</td>\n",
       "      <td>20000</td>\n",
       "      <td>162.56</td>\n",
       "    </tr>\n",
       "    <tr>\n",
       "      <th>1</th>\n",
       "      <td>1003715054175576</td>\n",
       "      <td>8</td>\n",
       "      <td>20000</td>\n",
       "      <td>8441.51</td>\n",
       "    </tr>\n",
       "    <tr>\n",
       "      <th>2</th>\n",
       "      <td>1003715054175576</td>\n",
       "      <td>9</td>\n",
       "      <td>20000</td>\n",
       "      <td>11281.56</td>\n",
       "    </tr>\n",
       "    <tr>\n",
       "      <th>3</th>\n",
       "      <td>1003715054175576</td>\n",
       "      <td>10</td>\n",
       "      <td>20000</td>\n",
       "      <td>8954.21</td>\n",
       "    </tr>\n",
       "    <tr>\n",
       "      <th>4</th>\n",
       "      <td>1013870087888817</td>\n",
       "      <td>7</td>\n",
       "      <td>15000</td>\n",
       "      <td>281.43</td>\n",
       "    </tr>\n",
       "  </tbody>\n",
       "</table>\n",
       "</div>"
      ],
      "text/plain": [
       "        credit_card  month  credit_card_limit  \\\n",
       "0  1003715054175576      7              20000   \n",
       "1  1003715054175576      8              20000   \n",
       "2  1003715054175576      9              20000   \n",
       "3  1003715054175576     10              20000   \n",
       "4  1013870087888817      7              15000   \n",
       "\n",
       "   total_monthly_transaction_amount  \n",
       "0                            162.56  \n",
       "1                           8441.51  \n",
       "2                          11281.56  \n",
       "3                           8954.21  \n",
       "4                            281.43  "
      ]
     },
     "execution_count": 11,
     "metadata": {},
     "output_type": "execute_result"
    }
   ],
   "source": [
    "users.head()"
   ]
  },
  {
   "cell_type": "code",
   "execution_count": 12,
   "metadata": {},
   "outputs": [
    {
     "name": "stdout",
     "output_type": "stream",
     "text": [
      "There are 862 users who never spent more than monthly limit\n"
     ]
    }
   ],
   "source": [
    "over_limit_users = users.query('total_monthly_transaction_amount > credit_card_limit')['credit_card'].unique()\n",
    "clean_users = np.setdiff1d(users['credit_card'].unique(), over_limit_users)\n",
    "print(\"There are {} users who never spent more than monthly limit\".format(len(clean_users)))"
   ]
  },
  {
   "cell_type": "markdown",
   "metadata": {},
   "source": [
    "**Q2. users(daily basis) who spent more than limit**"
   ]
  },
  {
   "cell_type": "code",
   "execution_count": 13,
   "metadata": {},
   "outputs": [],
   "source": [
    "def send_warning(df, month, day):\n",
    "    subdata = df[(df['month'] == month) & (df['day']<=day)]\n",
    "    transaction_sum = subdata.groupby('credit_card')['transaction_dollar_amount'].sum().reset_index()\n",
    "    limit = subdata.groupby('credit_card')['credit_card_limit'].min().reset_index()\n",
    "    \n",
    "    warning_df = pd.merge(transaction_sum, limit, on = 'credit_card', how='left')\n",
    "    return warning_df.query('transaction_dollar_amount > credit_card_limit')"
   ]
  },
  {
   "cell_type": "code",
   "execution_count": 14,
   "metadata": {},
   "outputs": [
    {
     "data": {
      "text/html": [
       "<div>\n",
       "<style scoped>\n",
       "    .dataframe tbody tr th:only-of-type {\n",
       "        vertical-align: middle;\n",
       "    }\n",
       "\n",
       "    .dataframe tbody tr th {\n",
       "        vertical-align: top;\n",
       "    }\n",
       "\n",
       "    .dataframe thead th {\n",
       "        text-align: right;\n",
       "    }\n",
       "</style>\n",
       "<table border=\"1\" class=\"dataframe\">\n",
       "  <thead>\n",
       "    <tr style=\"text-align: right;\">\n",
       "      <th></th>\n",
       "      <th>credit_card</th>\n",
       "      <th>transaction_dollar_amount</th>\n",
       "      <th>credit_card_limit</th>\n",
       "    </tr>\n",
       "  </thead>\n",
       "  <tbody>\n",
       "    <tr>\n",
       "      <th>167</th>\n",
       "      <td>2505223645294729</td>\n",
       "      <td>4279.94</td>\n",
       "      <td>4000</td>\n",
       "    </tr>\n",
       "    <tr>\n",
       "      <th>238</th>\n",
       "      <td>3276369883343727</td>\n",
       "      <td>10795.77</td>\n",
       "      <td>10000</td>\n",
       "    </tr>\n",
       "    <tr>\n",
       "      <th>252</th>\n",
       "      <td>3369600965634913</td>\n",
       "      <td>2007.45</td>\n",
       "      <td>2000</td>\n",
       "    </tr>\n",
       "    <tr>\n",
       "      <th>285</th>\n",
       "      <td>3676109815092640</td>\n",
       "      <td>2007.41</td>\n",
       "      <td>2000</td>\n",
       "    </tr>\n",
       "    <tr>\n",
       "      <th>597</th>\n",
       "      <td>6292410823269309</td>\n",
       "      <td>2046.93</td>\n",
       "      <td>2000</td>\n",
       "    </tr>\n",
       "    <tr>\n",
       "      <th>640</th>\n",
       "      <td>6766253113444560</td>\n",
       "      <td>2842.09</td>\n",
       "      <td>2000</td>\n",
       "    </tr>\n",
       "    <tr>\n",
       "      <th>699</th>\n",
       "      <td>7299183791723634</td>\n",
       "      <td>7370.72</td>\n",
       "      <td>7000</td>\n",
       "    </tr>\n",
       "    <tr>\n",
       "      <th>798</th>\n",
       "      <td>8117664962797683</td>\n",
       "      <td>2316.71</td>\n",
       "      <td>2000</td>\n",
       "    </tr>\n",
       "    <tr>\n",
       "      <th>874</th>\n",
       "      <td>8972201384562696</td>\n",
       "      <td>6102.04</td>\n",
       "      <td>5000</td>\n",
       "    </tr>\n",
       "    <tr>\n",
       "      <th>937</th>\n",
       "      <td>9632319271199136</td>\n",
       "      <td>4459.61</td>\n",
       "      <td>4000</td>\n",
       "    </tr>\n",
       "  </tbody>\n",
       "</table>\n",
       "</div>"
      ],
      "text/plain": [
       "          credit_card  transaction_dollar_amount  credit_card_limit\n",
       "167  2505223645294729                    4279.94               4000\n",
       "238  3276369883343727                   10795.77              10000\n",
       "252  3369600965634913                    2007.45               2000\n",
       "285  3676109815092640                    2007.41               2000\n",
       "597  6292410823269309                    2046.93               2000\n",
       "640  6766253113444560                    2842.09               2000\n",
       "699  7299183791723634                    7370.72               7000\n",
       "798  8117664962797683                    2316.71               2000\n",
       "874  8972201384562696                    6102.04               5000\n",
       "937  9632319271199136                    4459.61               4000"
      ]
     },
     "execution_count": 14,
     "metadata": {},
     "output_type": "execute_result"
    }
   ],
   "source": [
    "#example\n",
    "send_warning(data, 10, 18)"
   ]
  },
  {
   "cell_type": "markdown",
   "metadata": {},
   "source": [
    "**Q3. unsupervised learning to find fraud transaction**\n",
    "\n",
    "*Methods*\n",
    "1. Clustering might be a good idea: fraud and nonfraud groups\n",
    "2. Anomaly detection\n",
    "\n",
    "*Anomaly types*\n",
    "1. The transaction amount is way above usual transaction amount\n",
    "2. The transaction location is different from usual location\n",
    "3. The transaction happens at an unusual hour"
   ]
  },
  {
   "cell_type": "markdown",
   "metadata": {},
   "source": [
    "Some data explorations first"
   ]
  },
  {
   "cell_type": "code",
   "execution_count": 15,
   "metadata": {},
   "outputs": [
    {
     "data": {
      "text/html": [
       "<div>\n",
       "<style scoped>\n",
       "    .dataframe tbody tr th:only-of-type {\n",
       "        vertical-align: middle;\n",
       "    }\n",
       "\n",
       "    .dataframe tbody tr th {\n",
       "        vertical-align: top;\n",
       "    }\n",
       "\n",
       "    .dataframe thead th {\n",
       "        text-align: right;\n",
       "    }\n",
       "</style>\n",
       "<table border=\"1\" class=\"dataframe\">\n",
       "  <thead>\n",
       "    <tr style=\"text-align: right;\">\n",
       "      <th></th>\n",
       "      <th>credit_card</th>\n",
       "      <th>city</th>\n",
       "      <th>state</th>\n",
       "      <th>zipcode</th>\n",
       "      <th>credit_card_limit</th>\n",
       "      <th>transaction_dollar_amount</th>\n",
       "      <th>Long</th>\n",
       "      <th>Lat</th>\n",
       "      <th>month</th>\n",
       "      <th>day</th>\n",
       "      <th>dayofweek</th>\n",
       "      <th>hour</th>\n",
       "    </tr>\n",
       "  </thead>\n",
       "  <tbody>\n",
       "    <tr>\n",
       "      <th>0</th>\n",
       "      <td>1280981422329509</td>\n",
       "      <td>Dallas</td>\n",
       "      <td>PA</td>\n",
       "      <td>18612</td>\n",
       "      <td>6000</td>\n",
       "      <td>11.94</td>\n",
       "      <td>-75.964527</td>\n",
       "      <td>41.353578</td>\n",
       "      <td>8</td>\n",
       "      <td>5</td>\n",
       "      <td>2</td>\n",
       "      <td>0</td>\n",
       "    </tr>\n",
       "    <tr>\n",
       "      <th>1</th>\n",
       "      <td>1280981422329509</td>\n",
       "      <td>Dallas</td>\n",
       "      <td>PA</td>\n",
       "      <td>18612</td>\n",
       "      <td>6000</td>\n",
       "      <td>5.76</td>\n",
       "      <td>-76.019703</td>\n",
       "      <td>41.311467</td>\n",
       "      <td>10</td>\n",
       "      <td>29</td>\n",
       "      <td>3</td>\n",
       "      <td>18</td>\n",
       "    </tr>\n",
       "    <tr>\n",
       "      <th>2</th>\n",
       "      <td>1280981422329509</td>\n",
       "      <td>Dallas</td>\n",
       "      <td>PA</td>\n",
       "      <td>18612</td>\n",
       "      <td>6000</td>\n",
       "      <td>25.84</td>\n",
       "      <td>-76.043031</td>\n",
       "      <td>41.291053</td>\n",
       "      <td>10</td>\n",
       "      <td>25</td>\n",
       "      <td>6</td>\n",
       "      <td>17</td>\n",
       "    </tr>\n",
       "    <tr>\n",
       "      <th>3</th>\n",
       "      <td>1280981422329509</td>\n",
       "      <td>Dallas</td>\n",
       "      <td>PA</td>\n",
       "      <td>18612</td>\n",
       "      <td>6000</td>\n",
       "      <td>68.89</td>\n",
       "      <td>-75.944299</td>\n",
       "      <td>41.327282</td>\n",
       "      <td>9</td>\n",
       "      <td>5</td>\n",
       "      <td>5</td>\n",
       "      <td>17</td>\n",
       "    </tr>\n",
       "    <tr>\n",
       "      <th>4</th>\n",
       "      <td>1280981422329509</td>\n",
       "      <td>Dallas</td>\n",
       "      <td>PA</td>\n",
       "      <td>18612</td>\n",
       "      <td>6000</td>\n",
       "      <td>27.01</td>\n",
       "      <td>-75.997259</td>\n",
       "      <td>41.352099</td>\n",
       "      <td>9</td>\n",
       "      <td>4</td>\n",
       "      <td>4</td>\n",
       "      <td>14</td>\n",
       "    </tr>\n",
       "  </tbody>\n",
       "</table>\n",
       "</div>"
      ],
      "text/plain": [
       "        credit_card    city state  zipcode  credit_card_limit  \\\n",
       "0  1280981422329509  Dallas    PA    18612               6000   \n",
       "1  1280981422329509  Dallas    PA    18612               6000   \n",
       "2  1280981422329509  Dallas    PA    18612               6000   \n",
       "3  1280981422329509  Dallas    PA    18612               6000   \n",
       "4  1280981422329509  Dallas    PA    18612               6000   \n",
       "\n",
       "   transaction_dollar_amount       Long        Lat  month  day  dayofweek  \\\n",
       "0                      11.94 -75.964527  41.353578      8    5          2   \n",
       "1                       5.76 -76.019703  41.311467     10   29          3   \n",
       "2                      25.84 -76.043031  41.291053     10   25          6   \n",
       "3                      68.89 -75.944299  41.327282      9    5          5   \n",
       "4                      27.01 -75.997259  41.352099      9    4          4   \n",
       "\n",
       "   hour  \n",
       "0     0  \n",
       "1    18  \n",
       "2    17  \n",
       "3    17  \n",
       "4    14  "
      ]
     },
     "execution_count": 15,
     "metadata": {},
     "output_type": "execute_result"
    }
   ],
   "source": [
    "data.head()"
   ]
  },
  {
   "cell_type": "markdown",
   "metadata": {},
   "source": [
    "most transactions have dollar amount of less than 400"
   ]
  },
  {
   "cell_type": "code",
   "execution_count": 16,
   "metadata": {},
   "outputs": [
    {
     "data": {
      "text/plain": [
       "<matplotlib.axes._subplots.AxesSubplot at 0x230cbfaa208>"
      ]
     },
     "execution_count": 16,
     "metadata": {},
     "output_type": "execute_result"
    },
    {
     "data": {
      "image/png": "[encoded data removed]",
      "text/plain": [
       "<Figure size 432x288 with 1 Axes>"
      ]
     },
     "metadata": {},
     "output_type": "display_data"
    }
   ],
   "source": [
    "#distribution of transaction\n",
    "data['transaction_dollar_amount'].hist(bins =  30)"
   ]
  },
  {
   "cell_type": "markdown",
   "metadata": {},
   "source": [
    "We now create features based on *amount*, *location*, and *time*\n",
    "1. Get the mean latitute and logitute for each user\n",
    "2. Calculate distance of each transaction to (mean latitude, mean logitude)\n",
    "3. Get median transaction amount. Here median is more reliable than mean because mean is likely to be affected by outliers\n",
    "4. Get mean transaction hour per user and dayofweek, and subtract this mean by hour"
   ]
  },
  {
   "cell_type": "code",
   "execution_count": 17,
   "metadata": {},
   "outputs": [],
   "source": [
    "#create mean latitude, longitude, and l2 distance\n",
    "lat_log = data.groupby('credit_card')['Long','Lat'].mean().reset_index()\n",
    "lat_log.rename(columns = {\"Long\": \"Mean Long\", \"Lat\":\"Mean Lat\"}, inplace = True)\n",
    "data = pd.merge(data, lat_log, on = 'credit_card', how = 'inner')\n",
    "data['dist'] = np.sqrt(np.square(data['Long'] - data['Mean Long']) + np.square(data['Lat'] - data['Mean Lat']))"
   ]
  },
  {
   "cell_type": "code",
   "execution_count": 18,
   "metadata": {},
   "outputs": [],
   "source": [
    "#get median transaction amount, and rate of each transaction over median\n",
    "trans = data.groupby('credit_card')['transaction_dollar_amount'].median().reset_index()\n",
    "trans.rename(columns = {\"transaction_dollar_amount\": \"median_transaction_amount\"}, inplace = True)\n",
    "data = pd.merge(data, trans, on = 'credit_card', how = 'inner')\n",
    "data['transaction_to_median'] = data['transaction_dollar_amount'] / data['median_transaction_amount']\n",
    "data['transaction_to_limit'] = data['transaction_dollar_amount'] / data['credit_card_limit']"
   ]
  },
  {
   "cell_type": "code",
   "execution_count": 19,
   "metadata": {},
   "outputs": [],
   "source": [
    "time = data.groupby(['credit_card', 'dayofweek'])['hour'].mean().reset_index()\n",
    "time.rename(columns={\"hour\":\"mean_trans_hour\"}, inplace = True)\n",
    "data = pd.merge(data, time, on = ['credit_card', 'dayofweek'], how = 'left')\n",
    "data['transaction_hour_deviation'] = data['hour'] - data['mean_trans_hour']"
   ]
  },
  {
   "cell_type": "code",
   "execution_count": 20,
   "metadata": {},
   "outputs": [
    {
     "data": {
      "text/html": [
       "<div>\n",
       "<style scoped>\n",
       "    .dataframe tbody tr th:only-of-type {\n",
       "        vertical-align: middle;\n",
       "    }\n",
       "\n",
       "    .dataframe tbody tr th {\n",
       "        vertical-align: top;\n",
       "    }\n",
       "\n",
       "    .dataframe thead th {\n",
       "        text-align: right;\n",
       "    }\n",
       "</style>\n",
       "<table border=\"1\" class=\"dataframe\">\n",
       "  <thead>\n",
       "    <tr style=\"text-align: right;\">\n",
       "      <th></th>\n",
       "      <th>credit_card</th>\n",
       "      <th>transaction_dollar_amount</th>\n",
       "      <th>dist</th>\n",
       "      <th>transaction_to_median</th>\n",
       "      <th>transaction_to_limit</th>\n",
       "      <th>transaction_hour_deviation</th>\n",
       "    </tr>\n",
       "  </thead>\n",
       "  <tbody>\n",
       "    <tr>\n",
       "      <th>0</th>\n",
       "      <td>1280981422329509</td>\n",
       "      <td>11.94</td>\n",
       "      <td>1.009821</td>\n",
       "      <td>0.347396</td>\n",
       "      <td>0.001990</td>\n",
       "      <td>-18.027027</td>\n",
       "    </tr>\n",
       "    <tr>\n",
       "      <th>1</th>\n",
       "      <td>1280981422329509</td>\n",
       "      <td>5.76</td>\n",
       "      <td>1.067499</td>\n",
       "      <td>0.167588</td>\n",
       "      <td>0.000960</td>\n",
       "      <td>-0.608696</td>\n",
       "    </tr>\n",
       "    <tr>\n",
       "      <th>2</th>\n",
       "      <td>1280981422329509</td>\n",
       "      <td>25.84</td>\n",
       "      <td>1.092546</td>\n",
       "      <td>0.751818</td>\n",
       "      <td>0.004307</td>\n",
       "      <td>1.142857</td>\n",
       "    </tr>\n",
       "    <tr>\n",
       "      <th>3</th>\n",
       "      <td>1280981422329509</td>\n",
       "      <td>68.89</td>\n",
       "      <td>0.991118</td>\n",
       "      <td>2.004364</td>\n",
       "      <td>0.011482</td>\n",
       "      <td>1.500000</td>\n",
       "    </tr>\n",
       "    <tr>\n",
       "      <th>4</th>\n",
       "      <td>1280981422329509</td>\n",
       "      <td>27.01</td>\n",
       "      <td>1.042587</td>\n",
       "      <td>0.785860</td>\n",
       "      <td>0.004502</td>\n",
       "      <td>-1.577465</td>\n",
       "    </tr>\n",
       "  </tbody>\n",
       "</table>\n",
       "</div>"
      ],
      "text/plain": [
       "        credit_card  transaction_dollar_amount      dist  \\\n",
       "0  1280981422329509                      11.94  1.009821   \n",
       "1  1280981422329509                       5.76  1.067499   \n",
       "2  1280981422329509                      25.84  1.092546   \n",
       "3  1280981422329509                      68.89  0.991118   \n",
       "4  1280981422329509                      27.01  1.042587   \n",
       "\n",
       "   transaction_to_median  transaction_to_limit  transaction_hour_deviation  \n",
       "0               0.347396              0.001990                  -18.027027  \n",
       "1               0.167588              0.000960                   -0.608696  \n",
       "2               0.751818              0.004307                    1.142857  \n",
       "3               2.004364              0.011482                    1.500000  \n",
       "4               0.785860              0.004502                   -1.577465  "
      ]
     },
     "execution_count": 20,
     "metadata": {},
     "output_type": "execute_result"
    }
   ],
   "source": [
    "#remove some nonapplicable features\n",
    "to_drop = ['city','state','zipcode','Long','Lat','month','day',\\\n",
    "           'dayofweek','hour','Mean Long','Mean Lat','median_transaction_amount', 'mean_trans_hour', 'credit_card_limit']\n",
    "data.drop(to_drop, axis = 1, inplace = True)\n",
    "data.head()"
   ]
  },
  {
   "cell_type": "markdown",
   "metadata": {},
   "source": [
    "Now we have data ready. We will need to scale each column before PCA, and after scaling, we use PCA to visualize and cluster"
   ]
  },
  {
   "cell_type": "code",
   "execution_count": 21,
   "metadata": {},
   "outputs": [
    {
     "name": "stderr",
     "output_type": "stream",
     "text": [
      "C:\\Users\\sz\\Anaconda3\\lib\\site-packages\\ipykernel_launcher.py:5: FutureWarning: reshape is deprecated and will raise in a subsequent release. Please use .values.reshape(...) instead\n",
      "  \"\"\"\n"
     ]
    }
   ],
   "source": [
    "from sklearn.preprocessing import StandardScaler\n",
    "\n",
    "scaler = StandardScaler()\n",
    "for col in data.columns[1:]:\n",
    "    data[col] = scaler.fit_transform(data[col].reshape(-1,1))"
   ]
  },
  {
   "cell_type": "markdown",
   "metadata": {},
   "source": [
    "From 2d PCA plot below, it looks like there are four clusters. <br\\> \n",
    "1. PC2 = 0\n",
    "2. PC2 = 1.8\n",
    "3. PC1 = 0\n",
    "4. Between 1st PC and 2nd PC"
   ]
  },
  {
   "cell_type": "code",
   "execution_count": 22,
   "metadata": {},
   "outputs": [
    {
     "data": {
      "text/plain": [
       "Text(0,0.5,'2nd PCA component')"
      ]
     },
     "execution_count": 22,
     "metadata": {},
     "output_type": "execute_result"
    },
    {
     "data": {
      "image/png": "[encoded data removed]",
      "text/plain": [
       "<Figure size 720x432 with 1 Axes>"
      ]
     },
     "metadata": {},
     "output_type": "display_data"
    }
   ],
   "source": [
    "from sklearn.decomposition import PCA\n",
    "\n",
    "pca = PCA(n_components=2, random_state = 10)\n",
    "new_X = pca.fit_transform(data.loc[:, data.columns != 'credit_card'])\n",
    "\n",
    "fig, ax = plt.subplots(figsize = (10,6))\n",
    "ax.scatter(new_X[:,0], new_X[:,1], alpha = 0.3)\n",
    "ax.set_xlabel(\"1st PCA component\")\n",
    "ax.set_ylabel(\"2nd PCA component\")"
   ]
  },
  {
   "cell_type": "code",
   "execution_count": 23,
   "metadata": {},
   "outputs": [
    {
     "data": {
      "text/plain": [
       "KMeans(algorithm='auto', copy_x=True, init='k-means++', max_iter=300,\n",
       "    n_clusters=4, n_init=10, n_jobs=-1, precompute_distances='auto',\n",
       "    random_state=18, tol=0.0001, verbose=0)"
      ]
     },
     "execution_count": 23,
     "metadata": {},
     "output_type": "execute_result"
    }
   ],
   "source": [
    "from sklearn.cluster import KMeans\n",
    "\n",
    "kmeans = KMeans(n_clusters=4, init = \"k-means++\", random_state = 18, n_jobs = -1)\n",
    "kmeans.fit(data.loc[:, data.columns != 'credit_card'])"
   ]
  },
  {
   "cell_type": "markdown",
   "metadata": {},
   "source": [
    "cluster result corresponds with PCA visualization since points between PC1 and PC2 are fewest. Lets visualize data again by cluster"
   ]
  },
  {
   "cell_type": "code",
   "execution_count": 24,
   "metadata": {},
   "outputs": [
    {
     "name": "stdout",
     "output_type": "stream",
     "text": [
      "0    239344\n",
      "2     45876\n",
      "1      5445\n",
      "3      3923\n",
      "Name: cluster_label, dtype: int64\n"
     ]
    }
   ],
   "source": [
    "#result \n",
    "data['cluster_label'] = kmeans.labels_\n",
    "data['PC1'] = new_X[:,0]\n",
    "data['PC2'] = new_X[:,1]\n",
    "print(data['cluster_label'].value_counts())"
   ]
  },
  {
   "cell_type": "code",
   "execution_count": 25,
   "metadata": {},
   "outputs": [
    {
     "data": {
      "text/plain": [
       "<matplotlib.legend.Legend at 0x230cf365e10>"
      ]
     },
     "execution_count": 25,
     "metadata": {},
     "output_type": "execute_result"
    },
    {
     "data": {
      "image/png": "[encoded data removed]",
      "text/plain": [
       "<Figure size 720x576 with 1 Axes>"
      ]
     },
     "metadata": {},
     "output_type": "display_data"
    }
   ],
   "source": [
    "fig, ax = plt.subplots(figsize = (10,8))\n",
    "colors = ['r','g','b','c']\n",
    "for n_cluster, color in enumerate(colors):\n",
    "    tmp = data[data['cluster_label'] == n_cluster]\n",
    "    ax.scatter(tmp['PC1'],tmp['PC2'], label = n_cluster, color = color, alpha = 0.3)\n",
    "ax.set_xlabel('PC1')\n",
    "ax.set_ylabel('PC2')\n",
    "ax.legend(loc = 'best')"
   ]
  },
  {
   "cell_type": "markdown",
   "metadata": {},
   "source": [
    "We see that those whose distance is way different from normal transaction location fall into cluster 3. This seems reasonable because if a transaction happens very differently from a usual location, then maybe its other people using the credit card somewhere else"
   ]
  },
  {
   "cell_type": "code",
   "execution_count": 26,
   "metadata": {},
   "outputs": [
    {
     "data": {
      "text/html": [
       "<div>\n",
       "<style scoped>\n",
       "    .dataframe tbody tr th:only-of-type {\n",
       "        vertical-align: middle;\n",
       "    }\n",
       "\n",
       "    .dataframe tbody tr th {\n",
       "        vertical-align: top;\n",
       "    }\n",
       "\n",
       "    .dataframe thead th {\n",
       "        text-align: right;\n",
       "    }\n",
       "</style>\n",
       "<table border=\"1\" class=\"dataframe\">\n",
       "  <thead>\n",
       "    <tr style=\"text-align: right;\">\n",
       "      <th></th>\n",
       "      <th>transaction_dollar_amount</th>\n",
       "      <th>dist</th>\n",
       "      <th>transaction_to_median</th>\n",
       "      <th>transaction_to_limit</th>\n",
       "    </tr>\n",
       "  </thead>\n",
       "  <tbody>\n",
       "    <tr>\n",
       "      <th>45</th>\n",
       "      <td>-0.386248</td>\n",
       "      <td>6.715056</td>\n",
       "      <td>-0.077835</td>\n",
       "      <td>-0.022786</td>\n",
       "    </tr>\n",
       "    <tr>\n",
       "      <th>108</th>\n",
       "      <td>-0.356085</td>\n",
       "      <td>7.290577</td>\n",
       "      <td>-0.043658</td>\n",
       "      <td>0.025027</td>\n",
       "    </tr>\n",
       "    <tr>\n",
       "      <th>279</th>\n",
       "      <td>-0.398361</td>\n",
       "      <td>4.425915</td>\n",
       "      <td>-0.091561</td>\n",
       "      <td>-0.041988</td>\n",
       "    </tr>\n",
       "    <tr>\n",
       "      <th>405</th>\n",
       "      <td>0.456553</td>\n",
       "      <td>9.422864</td>\n",
       "      <td>0.132483</td>\n",
       "      <td>0.177304</td>\n",
       "    </tr>\n",
       "    <tr>\n",
       "      <th>422</th>\n",
       "      <td>-0.100100</td>\n",
       "      <td>12.885838</td>\n",
       "      <td>-0.136715</td>\n",
       "      <td>-0.153589</td>\n",
       "    </tr>\n",
       "  </tbody>\n",
       "</table>\n",
       "</div>"
      ],
      "text/plain": [
       "     transaction_dollar_amount       dist  transaction_to_median  \\\n",
       "45                   -0.386248   6.715056              -0.077835   \n",
       "108                  -0.356085   7.290577              -0.043658   \n",
       "279                  -0.398361   4.425915              -0.091561   \n",
       "405                   0.456553   9.422864               0.132483   \n",
       "422                  -0.100100  12.885838              -0.136715   \n",
       "\n",
       "     transaction_to_limit  \n",
       "45              -0.022786  \n",
       "108              0.025027  \n",
       "279             -0.041988  \n",
       "405              0.177304  \n",
       "422             -0.153589  "
      ]
     },
     "execution_count": 26,
     "metadata": {},
     "output_type": "execute_result"
    }
   ],
   "source": [
    "#lets take a look at cluster three elements\n",
    "data.loc[data['cluster_label'] == 3, ['transaction_dollar_amount','dist','transaction_to_median', 'transaction_to_limit']].head()"
   ]
  },
  {
   "cell_type": "code",
   "execution_count": null,
   "metadata": {},
   "outputs": [],
   "source": []
  }
 ],
 "metadata": {
  "kernelspec": {
   "display_name": "Python 3",
   "language": "python",
   "name": "python3"
  },
  "language_info": {
   "codemirror_mode": {
    "name": "ipython",
    "version": 3
   },
   "file_extension": ".py",
   "mimetype": "text/x-python",
   "name": "python",
   "nbconvert_exporter": "python",
   "pygments_lexer": "ipython3",
   "version": "3.6.4"
  }
 },
 "nbformat": 4,
 "nbformat_minor": 2
}

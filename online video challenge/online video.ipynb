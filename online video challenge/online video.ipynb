{
 "cells": [
  {
   "cell_type": "markdown",
   "metadata": {},
   "source": [
    "## Tasks\n",
    "1. Classify each video into one the 3 categories: 'Hot', 'Stable and Popular', 'Everything else'\n",
    "2. What are the main characteristics of the \"hot videos\"?\n",
    "3. how would you use this information from a product standpoint?"
   ]
  },
  {
   "cell_type": "code",
   "execution_count": 1,
   "metadata": {},
   "outputs": [
    {
     "name": "stdout",
     "output_type": "stream",
     "text": [
      "total 688\r\n",
      "-rw-r--r--  1 parker  staff     921 Feb 20 14:33 online video.ipynb\r\n",
      "-rw-r--r--@ 1 parker  staff  304718 Feb 20 14:33 online_videos.zip\r\n"
     ]
    }
   ],
   "source": [
    "!ls -l"
   ]
  },
  {
   "cell_type": "code",
   "execution_count": 2,
   "metadata": {},
   "outputs": [
    {
     "name": "stdout",
     "output_type": "stream",
     "text": [
      "Archive:  online_videos.zip\r\n",
      "  inflating: video_count.csv         \r\n",
      "  inflating: video_features.csv      \r\n"
     ]
    }
   ],
   "source": [
    "!unzip online_videos.zip"
   ]
  },
  {
   "cell_type": "code",
   "execution_count": 3,
   "metadata": {},
   "outputs": [
    {
     "name": "stdout",
     "output_type": "stream",
     "text": [
      "\"video_id\",\"count\",\"date\"\r\n",
      "2303,22,\"2015-01-07\"\r\n",
      "1193,54854,\"2015-01-12\"\r\n",
      "1219,1788779,\"2015-01-03\"\r\n",
      "cat: stdout: Broken pipe\r\n"
     ]
    }
   ],
   "source": [
    "!cat video_count.csv |head -4"
   ]
  },
  {
   "cell_type": "code",
   "execution_count": 4,
   "metadata": {},
   "outputs": [
    {
     "name": "stdout",
     "output_type": "stream",
     "text": [
      "\"video_id\",\"video_length\",\"video_language\",\"video_upload_date\",\"video_quality\"\r\n",
      "2374,1760,\"Cn\",\"2014-12-06\",\"480p\"\r\n",
      "1897,489,\"Cn\",\"2014-12-10\",\"720p\"\r\n",
      "2386,1273,\"Es\",\"2014-12-05\",\"480p\"\r\n",
      "cat: stdout: Broken pipe\r\n"
     ]
    }
   ],
   "source": [
    "!cat video_features.csv |head -4"
   ]
  },
  {
   "cell_type": "code",
   "execution_count": 9,
   "metadata": {},
   "outputs": [
    {
     "name": "stdout",
     "output_type": "stream",
     "text": [
      "    2786\n",
      "   41776\n"
     ]
    }
   ],
   "source": [
    "!cat video_features.csv | wc -l\n",
    "!cat video_count.csv | wc -l"
   ]
  },
  {
   "cell_type": "code",
   "execution_count": 1,
   "metadata": {
    "collapsed": true
   },
   "outputs": [],
   "source": [
    "import pandas as pd\n",
    "import warnings\n",
    "warnings.filterwarnings('ignore')\n",
    "import matplotlib.pyplot as plt\n",
    "import seaborn as sns\n",
    "%matplotlib inline"
   ]
  },
  {
   "cell_type": "code",
   "execution_count": 2,
   "metadata": {},
   "outputs": [
    {
     "name": "stdout",
     "output_type": "stream",
     "text": [
      "Merged df has shape:  (41775, 7)\n"
     ]
    },
    {
     "data": {
      "text/html": [
       "<div>\n",
       "<style scoped>\n",
       "    .dataframe tbody tr th:only-of-type {\n",
       "        vertical-align: middle;\n",
       "    }\n",
       "\n",
       "    .dataframe tbody tr th {\n",
       "        vertical-align: top;\n",
       "    }\n",
       "\n",
       "    .dataframe thead th {\n",
       "        text-align: right;\n",
       "    }\n",
       "</style>\n",
       "<table border=\"1\" class=\"dataframe\">\n",
       "  <thead>\n",
       "    <tr style=\"text-align: right;\">\n",
       "      <th></th>\n",
       "      <th>video_id</th>\n",
       "      <th>count</th>\n",
       "      <th>date</th>\n",
       "      <th>video_length</th>\n",
       "      <th>video_language</th>\n",
       "      <th>video_upload_date</th>\n",
       "      <th>video_quality</th>\n",
       "    </tr>\n",
       "  </thead>\n",
       "  <tbody>\n",
       "    <tr>\n",
       "      <th>0</th>\n",
       "      <td>2303</td>\n",
       "      <td>22</td>\n",
       "      <td>2015-01-07</td>\n",
       "      <td>17.85</td>\n",
       "      <td>Cn</td>\n",
       "      <td>2014-12-10</td>\n",
       "      <td>1080p</td>\n",
       "    </tr>\n",
       "    <tr>\n",
       "      <th>1</th>\n",
       "      <td>2303</td>\n",
       "      <td>21</td>\n",
       "      <td>2015-01-10</td>\n",
       "      <td>17.85</td>\n",
       "      <td>Cn</td>\n",
       "      <td>2014-12-10</td>\n",
       "      <td>1080p</td>\n",
       "    </tr>\n",
       "    <tr>\n",
       "      <th>2</th>\n",
       "      <td>2303</td>\n",
       "      <td>22</td>\n",
       "      <td>2015-01-01</td>\n",
       "      <td>17.85</td>\n",
       "      <td>Cn</td>\n",
       "      <td>2014-12-10</td>\n",
       "      <td>1080p</td>\n",
       "    </tr>\n",
       "  </tbody>\n",
       "</table>\n",
       "</div>"
      ],
      "text/plain": [
       "   video_id  count       date  video_length video_language video_upload_date  \\\n",
       "0      2303     22 2015-01-07         17.85             Cn        2014-12-10   \n",
       "1      2303     21 2015-01-10         17.85             Cn        2014-12-10   \n",
       "2      2303     22 2015-01-01         17.85             Cn        2014-12-10   \n",
       "\n",
       "  video_quality  \n",
       "0         1080p  \n",
       "1         1080p  \n",
       "2         1080p  "
      ]
     },
     "execution_count": 2,
     "metadata": {},
     "output_type": "execute_result"
    }
   ],
   "source": [
    "v_cnt = pd.read_csv(\"video_count.csv\")\n",
    "v_feature = pd.read_csv(\"video_features.csv\")\n",
    "v_df = pd.merge(left = v_cnt, right=v_feature, how='inner', on= 'video_id')\n",
    "print(\"Merged df has shape: \", v_df.shape)\n",
    "for col in ['date', 'video_upload_date']:\n",
    "    v_df[col] = pd.to_datetime(v_df[col])\n",
    "v_df['video_length'] /= 60\n",
    "v_df.head(3)"
   ]
  },
  {
   "cell_type": "code",
   "execution_count": 3,
   "metadata": {},
   "outputs": [
    {
     "data": {
      "image/png": "[encoded data removed]",
      "text/plain": [
       "<Figure size 576x288 with 1 Axes>"
      ]
     },
     "metadata": {},
     "output_type": "display_data"
    }
   ],
   "source": [
    "#some visualizations\n",
    "#we see that most of the counts are within 1M\n",
    "fig, ax = plt.subplots(figsize=(8,4))\n",
    "sns.kdeplot(data = v_df['count'], shade = True, ax = ax)\n",
    "ax.set_title(\"Distribution of counts\")\n",
    "plt.tight_layout()"
   ]
  },
  {
   "cell_type": "code",
   "execution_count": 4,
   "metadata": {},
   "outputs": [
    {
     "data": {
      "image/png": "[encoded data removed]",
      "text/plain": [
       "<Figure size 576x288 with 1 Axes>"
      ]
     },
     "metadata": {},
     "output_type": "display_data"
    }
   ],
   "source": [
    "fig, ax = plt.subplots(figsize=(8,4))\n",
    "sns.kdeplot(data = v_df['video_length'], shade = True, ax = ax)\n",
    "ax.set_title(\"Distribution of video length\")\n",
    "plt.tight_layout()"
   ]
  },
  {
   "cell_type": "code",
   "execution_count": 15,
   "metadata": {},
   "outputs": [
    {
     "data": {
      "image/png": "[encoded data removed]",
      "text/plain": [
       "<Figure size 1152x432 with 2 Axes>"
      ]
     },
     "metadata": {},
     "output_type": "display_data"
    }
   ],
   "source": [
    "fig, ax = plt.subplots(ncols=2, figsize=(16,6))\n",
    "sns.countplot(x = 'video_language', data = v_df, ax = ax[0])\n",
    "ax[0].set_title(\"Count of video languages\")\n",
    "sns.barplot(x = 'video_language', y = 'count', data= v_df, ax= ax[1])\n",
    "ax[1].set_title(\"video count vs. language\")\n",
    "plt.tight_layout()"
   ]
  },
  {
   "cell_type": "code",
   "execution_count": 16,
   "metadata": {},
   "outputs": [
    {
     "data": {
      "image/png": "[encoded data removed]",
      "text/plain": [
       "<Figure size 1152x432 with 2 Axes>"
      ]
     },
     "metadata": {},
     "output_type": "display_data"
    }
   ],
   "source": [
    "fig, ax = plt.subplots(ncols=2, figsize=(16,6))\n",
    "sns.countplot(x = 'video_quality', data = v_df, ax = ax[0])\n",
    "ax[0].set_title(\"Count of video quality\")\n",
    "sns.barplot(x = 'video_quality', y = 'count', data= v_df, ax= ax[1])\n",
    "ax[1].set_title(\"video count vs. quality\")\n",
    "plt.tight_layout()"
   ]
  },
  {
   "cell_type": "markdown",
   "metadata": {},
   "source": [
    "**1. classify each video to 1 of 3 categories**\n",
    "\n",
    "Before classification, we need to first define hotness. Here I borrowed this great function from: https://github.com/JifuZhao/DS-Take-Home/blob/master/18.%20On-Line%20Video%20Challenge.ipynb"
   ]
  },
  {
   "cell_type": "code",
   "execution_count": 19,
   "metadata": {},
   "outputs": [
    {
     "data": {
      "text/html": [
       "<div>\n",
       "<style scoped>\n",
       "    .dataframe tbody tr th:only-of-type {\n",
       "        vertical-align: middle;\n",
       "    }\n",
       "\n",
       "    .dataframe tbody tr th {\n",
       "        vertical-align: top;\n",
       "    }\n",
       "\n",
       "    .dataframe thead th {\n",
       "        text-align: right;\n",
       "    }\n",
       "</style>\n",
       "<table border=\"1\" class=\"dataframe\">\n",
       "  <thead>\n",
       "    <tr style=\"text-align: right;\">\n",
       "      <th></th>\n",
       "      <th>ct_mean</th>\n",
       "      <th>ct_std</th>\n",
       "      <th>ct_min</th>\n",
       "      <th>ct_25%</th>\n",
       "      <th>ct_50%</th>\n",
       "      <th>ct_75%</th>\n",
       "      <th>ct_max</th>\n",
       "      <th>cg_mean</th>\n",
       "      <th>cg_std</th>\n",
       "      <th>cg_min</th>\n",
       "      <th>cg_25%</th>\n",
       "      <th>cg_50%</th>\n",
       "      <th>cg_75%</th>\n",
       "      <th>cg_max</th>\n",
       "    </tr>\n",
       "    <tr>\n",
       "      <th>video_id</th>\n",
       "      <th></th>\n",
       "      <th></th>\n",
       "      <th></th>\n",
       "      <th></th>\n",
       "      <th></th>\n",
       "      <th></th>\n",
       "      <th></th>\n",
       "      <th></th>\n",
       "      <th></th>\n",
       "      <th></th>\n",
       "      <th></th>\n",
       "      <th></th>\n",
       "      <th></th>\n",
       "      <th></th>\n",
       "    </tr>\n",
       "  </thead>\n",
       "  <tbody>\n",
       "    <tr>\n",
       "      <th>1</th>\n",
       "      <td>7.063560e+04</td>\n",
       "      <td>39200.460092</td>\n",
       "      <td>19382.0</td>\n",
       "      <td>41099.0</td>\n",
       "      <td>65907.0</td>\n",
       "      <td>96335.0</td>\n",
       "      <td>140460.0</td>\n",
       "      <td>-0.127437</td>\n",
       "      <td>0.092392</td>\n",
       "      <td>-0.271522</td>\n",
       "      <td>-0.186381</td>\n",
       "      <td>-0.151384</td>\n",
       "      <td>-0.067977</td>\n",
       "      <td>0.030277</td>\n",
       "    </tr>\n",
       "    <tr>\n",
       "      <th>2</th>\n",
       "      <td>1.737141e+06</td>\n",
       "      <td>114254.355156</td>\n",
       "      <td>1550493.0</td>\n",
       "      <td>1673415.5</td>\n",
       "      <td>1718352.0</td>\n",
       "      <td>1782226.5</td>\n",
       "      <td>2011096.0</td>\n",
       "      <td>-0.014184</td>\n",
       "      <td>0.061794</td>\n",
       "      <td>-0.084904</td>\n",
       "      <td>-0.061459</td>\n",
       "      <td>-0.043876</td>\n",
       "      <td>0.030687</td>\n",
       "      <td>0.095038</td>\n",
       "    </tr>\n",
       "    <tr>\n",
       "      <th>3</th>\n",
       "      <td>2.292781e+06</td>\n",
       "      <td>218636.897779</td>\n",
       "      <td>2016210.0</td>\n",
       "      <td>2132336.5</td>\n",
       "      <td>2247587.0</td>\n",
       "      <td>2436222.5</td>\n",
       "      <td>2653063.0</td>\n",
       "      <td>0.008923</td>\n",
       "      <td>0.054069</td>\n",
       "      <td>-0.075863</td>\n",
       "      <td>-0.028293</td>\n",
       "      <td>-0.001068</td>\n",
       "      <td>0.056393</td>\n",
       "      <td>0.097053</td>\n",
       "    </tr>\n",
       "    <tr>\n",
       "      <th>4</th>\n",
       "      <td>2.740392e+06</td>\n",
       "      <td>169611.440727</td>\n",
       "      <td>2474228.0</td>\n",
       "      <td>2611162.0</td>\n",
       "      <td>2719547.0</td>\n",
       "      <td>2880268.5</td>\n",
       "      <td>2984146.0</td>\n",
       "      <td>0.011310</td>\n",
       "      <td>0.050495</td>\n",
       "      <td>-0.063991</td>\n",
       "      <td>-0.027125</td>\n",
       "      <td>0.001606</td>\n",
       "      <td>0.050860</td>\n",
       "      <td>0.090804</td>\n",
       "    </tr>\n",
       "    <tr>\n",
       "      <th>5</th>\n",
       "      <td>4.479973e+05</td>\n",
       "      <td>237137.305768</td>\n",
       "      <td>169730.0</td>\n",
       "      <td>255574.5</td>\n",
       "      <td>388594.0</td>\n",
       "      <td>609508.0</td>\n",
       "      <td>983058.0</td>\n",
       "      <td>-0.111811</td>\n",
       "      <td>0.107193</td>\n",
       "      <td>-0.269337</td>\n",
       "      <td>-0.177432</td>\n",
       "      <td>-0.133447</td>\n",
       "      <td>-0.012729</td>\n",
       "      <td>0.031766</td>\n",
       "    </tr>\n",
       "  </tbody>\n",
       "</table>\n",
       "</div>"
      ],
      "text/plain": [
       "               ct_mean         ct_std     ct_min     ct_25%     ct_50%  \\\n",
       "video_id                                                                 \n",
       "1         7.063560e+04   39200.460092    19382.0    41099.0    65907.0   \n",
       "2         1.737141e+06  114254.355156  1550493.0  1673415.5  1718352.0   \n",
       "3         2.292781e+06  218636.897779  2016210.0  2132336.5  2247587.0   \n",
       "4         2.740392e+06  169611.440727  2474228.0  2611162.0  2719547.0   \n",
       "5         4.479973e+05  237137.305768   169730.0   255574.5   388594.0   \n",
       "\n",
       "             ct_75%     ct_max   cg_mean    cg_std    cg_min    cg_25%  \\\n",
       "video_id                                                                 \n",
       "1           96335.0   140460.0 -0.127437  0.092392 -0.271522 -0.186381   \n",
       "2         1782226.5  2011096.0 -0.014184  0.061794 -0.084904 -0.061459   \n",
       "3         2436222.5  2653063.0  0.008923  0.054069 -0.075863 -0.028293   \n",
       "4         2880268.5  2984146.0  0.011310  0.050495 -0.063991 -0.027125   \n",
       "5          609508.0   983058.0 -0.111811  0.107193 -0.269337 -0.177432   \n",
       "\n",
       "            cg_50%    cg_75%    cg_max  \n",
       "video_id                                \n",
       "1        -0.151384 -0.067977  0.030277  \n",
       "2        -0.043876  0.030687  0.095038  \n",
       "3        -0.001068  0.056393  0.097053  \n",
       "4         0.001606  0.050860  0.090804  \n",
       "5        -0.133447 -0.012729  0.031766  "
      ]
     },
     "execution_count": 19,
     "metadata": {},
     "output_type": "execute_result"
    }
   ],
   "source": [
    "def parse_data(df):\n",
    "    counts = df.sort_values(by = 'date')['count'].values\n",
    "    change = (counts[1:] - counts[:-1])/counts[:-1]\n",
    "    \n",
    "    index = ['ct_mean', 'ct_std', 'ct_min', 'ct_25%', 'ct_50%', 'ct_75%', 'ct_max', \n",
    "             'cg_mean', 'cg_std', 'cg_min', 'cg_25%', 'cg_50%', 'cg_75%', 'cg_max']\n",
    "    \n",
    "    ct_vals = pd.Series(counts).describe()\n",
    "    cg_vals = pd.Series(change).describe()\n",
    "    \n",
    "    ct_values = [ct_vals['mean'], ct_vals['std'], ct_vals['min'], ct_vals['25%'], \n",
    "                 ct_vals['50%'], ct_vals['75%'], ct_vals['max']]\n",
    "    cg_values = [cg_vals['mean'], cg_vals['std'], cg_vals['min'], cg_vals['25%'], \n",
    "                 cg_vals['50%'], cg_vals['75%'], cg_vals['max']]\n",
    "    return pd.Series(ct_values + cg_values, index = index)\n",
    "\n",
    "data_stats = v_df.groupby('video_id').apply(parse_data)\n",
    "data_stats.head()"
   ]
  },
  {
   "cell_type": "code",
   "execution_count": 20,
   "metadata": {},
   "outputs": [
    {
     "name": "stderr",
     "output_type": "stream",
     "text": [
      "/Users/parker/anaconda/lib/python3.6/site-packages/matplotlib/axes/_axes.py:6571: UserWarning: The 'normed' kwarg is deprecated, and has been replaced by the 'density' kwarg.\n",
      "  warnings.warn(\"The 'normed' kwarg is deprecated, and has been \"\n"
     ]
    },
    {
     "data": {
      "image/png": "[encoded data removed]",
      "text/plain": [
       "<Figure size 576x288 with 1 Axes>"
      ]
     },
     "metadata": {},
     "output_type": "display_data"
    }
   ],
   "source": [
    "#popularity\n",
    "fig, ax = plt.subplots(figsize = (8,4))\n",
    "sns.distplot(data_stats['ct_mean'], ax = ax)\n",
    "plt.tight_layout()"
   ]
  },
  {
   "cell_type": "markdown",
   "metadata": {},
   "source": [
    "Here, we define *'stable and popular'* videos as those whose mean value is greater than 1.5M(a randomly chosen threshold)"
   ]
  },
  {
   "cell_type": "code",
   "execution_count": 25,
   "metadata": {},
   "outputs": [
    {
     "data": {
      "text/html": [
       "<div>\n",
       "<style scoped>\n",
       "    .dataframe tbody tr th:only-of-type {\n",
       "        vertical-align: middle;\n",
       "    }\n",
       "\n",
       "    .dataframe tbody tr th {\n",
       "        vertical-align: top;\n",
       "    }\n",
       "\n",
       "    .dataframe thead th {\n",
       "        text-align: right;\n",
       "    }\n",
       "</style>\n",
       "<table border=\"1\" class=\"dataframe\">\n",
       "  <thead>\n",
       "    <tr style=\"text-align: right;\">\n",
       "      <th></th>\n",
       "      <th>ct_mean</th>\n",
       "      <th>ct_std</th>\n",
       "      <th>ct_min</th>\n",
       "      <th>ct_25%</th>\n",
       "      <th>ct_50%</th>\n",
       "      <th>ct_75%</th>\n",
       "      <th>ct_max</th>\n",
       "      <th>cg_mean</th>\n",
       "      <th>cg_std</th>\n",
       "      <th>cg_min</th>\n",
       "      <th>cg_25%</th>\n",
       "      <th>cg_50%</th>\n",
       "      <th>cg_75%</th>\n",
       "      <th>cg_max</th>\n",
       "    </tr>\n",
       "    <tr>\n",
       "      <th>video_id</th>\n",
       "      <th></th>\n",
       "      <th></th>\n",
       "      <th></th>\n",
       "      <th></th>\n",
       "      <th></th>\n",
       "      <th></th>\n",
       "      <th></th>\n",
       "      <th></th>\n",
       "      <th></th>\n",
       "      <th></th>\n",
       "      <th></th>\n",
       "      <th></th>\n",
       "      <th></th>\n",
       "      <th></th>\n",
       "    </tr>\n",
       "  </thead>\n",
       "  <tbody>\n",
       "    <tr>\n",
       "      <th>2</th>\n",
       "      <td>1.737141e+06</td>\n",
       "      <td>114254.355156</td>\n",
       "      <td>1550493.0</td>\n",
       "      <td>1673415.5</td>\n",
       "      <td>1718352.0</td>\n",
       "      <td>1782226.5</td>\n",
       "      <td>2011096.0</td>\n",
       "      <td>-0.014184</td>\n",
       "      <td>0.061794</td>\n",
       "      <td>-0.084904</td>\n",
       "      <td>-0.061459</td>\n",
       "      <td>-0.043876</td>\n",
       "      <td>0.030687</td>\n",
       "      <td>0.095038</td>\n",
       "    </tr>\n",
       "    <tr>\n",
       "      <th>3</th>\n",
       "      <td>2.292781e+06</td>\n",
       "      <td>218636.897779</td>\n",
       "      <td>2016210.0</td>\n",
       "      <td>2132336.5</td>\n",
       "      <td>2247587.0</td>\n",
       "      <td>2436222.5</td>\n",
       "      <td>2653063.0</td>\n",
       "      <td>0.008923</td>\n",
       "      <td>0.054069</td>\n",
       "      <td>-0.075863</td>\n",
       "      <td>-0.028293</td>\n",
       "      <td>-0.001068</td>\n",
       "      <td>0.056393</td>\n",
       "      <td>0.097053</td>\n",
       "    </tr>\n",
       "    <tr>\n",
       "      <th>4</th>\n",
       "      <td>2.740392e+06</td>\n",
       "      <td>169611.440727</td>\n",
       "      <td>2474228.0</td>\n",
       "      <td>2611162.0</td>\n",
       "      <td>2719547.0</td>\n",
       "      <td>2880268.5</td>\n",
       "      <td>2984146.0</td>\n",
       "      <td>0.011310</td>\n",
       "      <td>0.050495</td>\n",
       "      <td>-0.063991</td>\n",
       "      <td>-0.027125</td>\n",
       "      <td>0.001606</td>\n",
       "      <td>0.050860</td>\n",
       "      <td>0.090804</td>\n",
       "    </tr>\n",
       "    <tr>\n",
       "      <th>8</th>\n",
       "      <td>2.049360e+06</td>\n",
       "      <td>157190.210173</td>\n",
       "      <td>1776574.0</td>\n",
       "      <td>1950028.5</td>\n",
       "      <td>2042499.0</td>\n",
       "      <td>2154066.5</td>\n",
       "      <td>2328022.0</td>\n",
       "      <td>0.004013</td>\n",
       "      <td>0.055904</td>\n",
       "      <td>-0.090772</td>\n",
       "      <td>-0.034195</td>\n",
       "      <td>0.009304</td>\n",
       "      <td>0.046501</td>\n",
       "      <td>0.081409</td>\n",
       "    </tr>\n",
       "    <tr>\n",
       "      <th>14</th>\n",
       "      <td>1.593414e+06</td>\n",
       "      <td>249941.247042</td>\n",
       "      <td>1301816.0</td>\n",
       "      <td>1380598.0</td>\n",
       "      <td>1502636.0</td>\n",
       "      <td>1793568.0</td>\n",
       "      <td>2056101.0</td>\n",
       "      <td>-0.011086</td>\n",
       "      <td>0.063787</td>\n",
       "      <td>-0.095199</td>\n",
       "      <td>-0.074206</td>\n",
       "      <td>-0.005127</td>\n",
       "      <td>0.049045</td>\n",
       "      <td>0.092254</td>\n",
       "    </tr>\n",
       "  </tbody>\n",
       "</table>\n",
       "</div>"
      ],
      "text/plain": [
       "               ct_mean         ct_std     ct_min     ct_25%     ct_50%  \\\n",
       "video_id                                                                 \n",
       "2         1.737141e+06  114254.355156  1550493.0  1673415.5  1718352.0   \n",
       "3         2.292781e+06  218636.897779  2016210.0  2132336.5  2247587.0   \n",
       "4         2.740392e+06  169611.440727  2474228.0  2611162.0  2719547.0   \n",
       "8         2.049360e+06  157190.210173  1776574.0  1950028.5  2042499.0   \n",
       "14        1.593414e+06  249941.247042  1301816.0  1380598.0  1502636.0   \n",
       "\n",
       "             ct_75%     ct_max   cg_mean    cg_std    cg_min    cg_25%  \\\n",
       "video_id                                                                 \n",
       "2         1782226.5  2011096.0 -0.014184  0.061794 -0.084904 -0.061459   \n",
       "3         2436222.5  2653063.0  0.008923  0.054069 -0.075863 -0.028293   \n",
       "4         2880268.5  2984146.0  0.011310  0.050495 -0.063991 -0.027125   \n",
       "8         2154066.5  2328022.0  0.004013  0.055904 -0.090772 -0.034195   \n",
       "14        1793568.0  2056101.0 -0.011086  0.063787 -0.095199 -0.074206   \n",
       "\n",
       "            cg_50%    cg_75%    cg_max  \n",
       "video_id                                \n",
       "2        -0.043876  0.030687  0.095038  \n",
       "3        -0.001068  0.056393  0.097053  \n",
       "4         0.001606  0.050860  0.090804  \n",
       "8         0.009304  0.046501  0.081409  \n",
       "14       -0.005127  0.049045  0.092254  "
      ]
     },
     "execution_count": 25,
     "metadata": {},
     "output_type": "execute_result"
    }
   ],
   "source": [
    "popular_videos = data_stats[data_stats['ct_mean'] > 1500000]\n",
    "popular_videos.head()"
   ]
  },
  {
   "cell_type": "markdown",
   "metadata": {},
   "source": [
    "For hot videos, we need to take a look at their daily change rate. Based on below density plot, we see a clear threshold at 0.2, and we define *hot* videos to be those whose daily change rate > 0.2"
   ]
  },
  {
   "cell_type": "code",
   "execution_count": 23,
   "metadata": {},
   "outputs": [
    {
     "name": "stderr",
     "output_type": "stream",
     "text": [
      "/Users/parker/anaconda/lib/python3.6/site-packages/matplotlib/axes/_axes.py:6571: UserWarning: The 'normed' kwarg is deprecated, and has been replaced by the 'density' kwarg.\n",
      "  warnings.warn(\"The 'normed' kwarg is deprecated, and has been \"\n"
     ]
    },
    {
     "data": {
      "image/png": "[encoded data removed]",
      "text/plain": [
       "<Figure size 576x288 with 1 Axes>"
      ]
     },
     "metadata": {},
     "output_type": "display_data"
    }
   ],
   "source": [
    "fig, ax = plt.subplots(figsize = (8,4))\n",
    "sns.distplot(data_stats['cg_mean'], ax = ax)\n",
    "plt.tight_layout()"
   ]
  },
  {
   "cell_type": "code",
   "execution_count": 26,
   "metadata": {},
   "outputs": [
    {
     "data": {
      "text/html": [
       "<div>\n",
       "<style scoped>\n",
       "    .dataframe tbody tr th:only-of-type {\n",
       "        vertical-align: middle;\n",
       "    }\n",
       "\n",
       "    .dataframe tbody tr th {\n",
       "        vertical-align: top;\n",
       "    }\n",
       "\n",
       "    .dataframe thead th {\n",
       "        text-align: right;\n",
       "    }\n",
       "</style>\n",
       "<table border=\"1\" class=\"dataframe\">\n",
       "  <thead>\n",
       "    <tr style=\"text-align: right;\">\n",
       "      <th></th>\n",
       "      <th>ct_mean</th>\n",
       "      <th>ct_std</th>\n",
       "      <th>ct_min</th>\n",
       "      <th>ct_25%</th>\n",
       "      <th>ct_50%</th>\n",
       "      <th>ct_75%</th>\n",
       "      <th>ct_max</th>\n",
       "      <th>cg_mean</th>\n",
       "      <th>cg_std</th>\n",
       "      <th>cg_min</th>\n",
       "      <th>cg_25%</th>\n",
       "      <th>cg_50%</th>\n",
       "      <th>cg_75%</th>\n",
       "      <th>cg_max</th>\n",
       "    </tr>\n",
       "    <tr>\n",
       "      <th>video_id</th>\n",
       "      <th></th>\n",
       "      <th></th>\n",
       "      <th></th>\n",
       "      <th></th>\n",
       "      <th></th>\n",
       "      <th></th>\n",
       "      <th></th>\n",
       "      <th></th>\n",
       "      <th></th>\n",
       "      <th></th>\n",
       "      <th></th>\n",
       "      <th></th>\n",
       "      <th></th>\n",
       "      <th></th>\n",
       "    </tr>\n",
       "  </thead>\n",
       "  <tbody>\n",
       "    <tr>\n",
       "      <th>10</th>\n",
       "      <td>8903.133333</td>\n",
       "      <td>10248.629782</td>\n",
       "      <td>591.0</td>\n",
       "      <td>1882.5</td>\n",
       "      <td>5483.0</td>\n",
       "      <td>11318.5</td>\n",
       "      <td>34789.0</td>\n",
       "      <td>0.353819</td>\n",
       "      <td>0.220112</td>\n",
       "      <td>0.006865</td>\n",
       "      <td>0.238332</td>\n",
       "      <td>0.324975</td>\n",
       "      <td>0.416434</td>\n",
       "      <td>0.780195</td>\n",
       "    </tr>\n",
       "    <tr>\n",
       "      <th>13</th>\n",
       "      <td>91228.200000</td>\n",
       "      <td>91574.506421</td>\n",
       "      <td>4746.0</td>\n",
       "      <td>16688.0</td>\n",
       "      <td>45930.0</td>\n",
       "      <td>153985.5</td>\n",
       "      <td>264570.0</td>\n",
       "      <td>0.350798</td>\n",
       "      <td>0.223287</td>\n",
       "      <td>-0.000643</td>\n",
       "      <td>0.171082</td>\n",
       "      <td>0.373361</td>\n",
       "      <td>0.514471</td>\n",
       "      <td>0.629066</td>\n",
       "    </tr>\n",
       "    <tr>\n",
       "      <th>15</th>\n",
       "      <td>6184.400000</td>\n",
       "      <td>9384.882059</td>\n",
       "      <td>494.0</td>\n",
       "      <td>1190.0</td>\n",
       "      <td>1705.0</td>\n",
       "      <td>6231.5</td>\n",
       "      <td>33208.0</td>\n",
       "      <td>0.381382</td>\n",
       "      <td>0.313682</td>\n",
       "      <td>-0.048170</td>\n",
       "      <td>0.026856</td>\n",
       "      <td>0.471749</td>\n",
       "      <td>0.656678</td>\n",
       "      <td>0.740953</td>\n",
       "    </tr>\n",
       "    <tr>\n",
       "      <th>28</th>\n",
       "      <td>105011.600000</td>\n",
       "      <td>132346.803029</td>\n",
       "      <td>6152.0</td>\n",
       "      <td>14399.0</td>\n",
       "      <td>30084.0</td>\n",
       "      <td>152599.5</td>\n",
       "      <td>405278.0</td>\n",
       "      <td>0.367767</td>\n",
       "      <td>0.239208</td>\n",
       "      <td>-0.045739</td>\n",
       "      <td>0.206640</td>\n",
       "      <td>0.300966</td>\n",
       "      <td>0.502638</td>\n",
       "      <td>0.778389</td>\n",
       "    </tr>\n",
       "    <tr>\n",
       "      <th>29</th>\n",
       "      <td>78372.866667</td>\n",
       "      <td>70559.053747</td>\n",
       "      <td>9118.0</td>\n",
       "      <td>16789.5</td>\n",
       "      <td>45226.0</td>\n",
       "      <td>131717.0</td>\n",
       "      <td>212419.0</td>\n",
       "      <td>0.271285</td>\n",
       "      <td>0.228626</td>\n",
       "      <td>-0.028478</td>\n",
       "      <td>0.046231</td>\n",
       "      <td>0.293353</td>\n",
       "      <td>0.455947</td>\n",
       "      <td>0.665369</td>\n",
       "    </tr>\n",
       "  </tbody>\n",
       "</table>\n",
       "</div>"
      ],
      "text/plain": [
       "                ct_mean         ct_std  ct_min   ct_25%   ct_50%    ct_75%  \\\n",
       "video_id                                                                     \n",
       "10          8903.133333   10248.629782   591.0   1882.5   5483.0   11318.5   \n",
       "13         91228.200000   91574.506421  4746.0  16688.0  45930.0  153985.5   \n",
       "15          6184.400000    9384.882059   494.0   1190.0   1705.0    6231.5   \n",
       "28        105011.600000  132346.803029  6152.0  14399.0  30084.0  152599.5   \n",
       "29         78372.866667   70559.053747  9118.0  16789.5  45226.0  131717.0   \n",
       "\n",
       "            ct_max   cg_mean    cg_std    cg_min    cg_25%    cg_50%  \\\n",
       "video_id                                                               \n",
       "10         34789.0  0.353819  0.220112  0.006865  0.238332  0.324975   \n",
       "13        264570.0  0.350798  0.223287 -0.000643  0.171082  0.373361   \n",
       "15         33208.0  0.381382  0.313682 -0.048170  0.026856  0.471749   \n",
       "28        405278.0  0.367767  0.239208 -0.045739  0.206640  0.300966   \n",
       "29        212419.0  0.271285  0.228626 -0.028478  0.046231  0.293353   \n",
       "\n",
       "            cg_75%    cg_max  \n",
       "video_id                      \n",
       "10        0.416434  0.780195  \n",
       "13        0.514471  0.629066  \n",
       "15        0.656678  0.740953  \n",
       "28        0.502638  0.778389  \n",
       "29        0.455947  0.665369  "
      ]
     },
     "execution_count": 26,
     "metadata": {},
     "output_type": "execute_result"
    }
   ],
   "source": [
    "hot_videos = data_stats[data_stats['cg_mean'] > 0.2]\n",
    "hot_videos.head()"
   ]
  },
  {
   "cell_type": "markdown",
   "metadata": {},
   "source": [
    "**2. Characteristics of hot videos**"
   ]
  },
  {
   "cell_type": "code",
   "execution_count": 28,
   "metadata": {},
   "outputs": [
    {
     "data": {
      "text/html": [
       "<div>\n",
       "<style scoped>\n",
       "    .dataframe tbody tr th:only-of-type {\n",
       "        vertical-align: middle;\n",
       "    }\n",
       "\n",
       "    .dataframe tbody tr th {\n",
       "        vertical-align: top;\n",
       "    }\n",
       "\n",
       "    .dataframe thead th {\n",
       "        text-align: right;\n",
       "    }\n",
       "</style>\n",
       "<table border=\"1\" class=\"dataframe\">\n",
       "  <thead>\n",
       "    <tr style=\"text-align: right;\">\n",
       "      <th></th>\n",
       "      <th>video_id</th>\n",
       "      <th>count</th>\n",
       "      <th>date</th>\n",
       "      <th>video_length</th>\n",
       "      <th>video_language</th>\n",
       "      <th>video_upload_date</th>\n",
       "      <th>video_quality</th>\n",
       "      <th>hot</th>\n",
       "    </tr>\n",
       "  </thead>\n",
       "  <tbody>\n",
       "    <tr>\n",
       "      <th>0</th>\n",
       "      <td>2303</td>\n",
       "      <td>22</td>\n",
       "      <td>2015-01-07</td>\n",
       "      <td>17.85</td>\n",
       "      <td>Cn</td>\n",
       "      <td>2014-12-10</td>\n",
       "      <td>1080p</td>\n",
       "      <td>False</td>\n",
       "    </tr>\n",
       "    <tr>\n",
       "      <th>1</th>\n",
       "      <td>2303</td>\n",
       "      <td>21</td>\n",
       "      <td>2015-01-10</td>\n",
       "      <td>17.85</td>\n",
       "      <td>Cn</td>\n",
       "      <td>2014-12-10</td>\n",
       "      <td>1080p</td>\n",
       "      <td>False</td>\n",
       "    </tr>\n",
       "    <tr>\n",
       "      <th>2</th>\n",
       "      <td>2303</td>\n",
       "      <td>22</td>\n",
       "      <td>2015-01-01</td>\n",
       "      <td>17.85</td>\n",
       "      <td>Cn</td>\n",
       "      <td>2014-12-10</td>\n",
       "      <td>1080p</td>\n",
       "      <td>False</td>\n",
       "    </tr>\n",
       "    <tr>\n",
       "      <th>3</th>\n",
       "      <td>2303</td>\n",
       "      <td>21</td>\n",
       "      <td>2015-01-09</td>\n",
       "      <td>17.85</td>\n",
       "      <td>Cn</td>\n",
       "      <td>2014-12-10</td>\n",
       "      <td>1080p</td>\n",
       "      <td>False</td>\n",
       "    </tr>\n",
       "    <tr>\n",
       "      <th>4</th>\n",
       "      <td>2303</td>\n",
       "      <td>22</td>\n",
       "      <td>2015-01-11</td>\n",
       "      <td>17.85</td>\n",
       "      <td>Cn</td>\n",
       "      <td>2014-12-10</td>\n",
       "      <td>1080p</td>\n",
       "      <td>False</td>\n",
       "    </tr>\n",
       "  </tbody>\n",
       "</table>\n",
       "</div>"
      ],
      "text/plain": [
       "   video_id  count       date  video_length video_language video_upload_date  \\\n",
       "0      2303     22 2015-01-07         17.85             Cn        2014-12-10   \n",
       "1      2303     21 2015-01-10         17.85             Cn        2014-12-10   \n",
       "2      2303     22 2015-01-01         17.85             Cn        2014-12-10   \n",
       "3      2303     21 2015-01-09         17.85             Cn        2014-12-10   \n",
       "4      2303     22 2015-01-11         17.85             Cn        2014-12-10   \n",
       "\n",
       "  video_quality    hot  \n",
       "0         1080p  False  \n",
       "1         1080p  False  \n",
       "2         1080p  False  \n",
       "3         1080p  False  \n",
       "4         1080p  False  "
      ]
     },
     "execution_count": 28,
     "metadata": {},
     "output_type": "execute_result"
    }
   ],
   "source": [
    "v_df['hot'] = False\n",
    "v_df.loc[v_df.index.isin(hot_videos.index), 'hot'] = True\n",
    "v_df.head()"
   ]
  },
  {
   "cell_type": "code",
   "execution_count": 31,
   "metadata": {},
   "outputs": [
    {
     "name": "stderr",
     "output_type": "stream",
     "text": [
      "/Users/parker/anaconda/lib/python3.6/site-packages/matplotlib/axes/_axes.py:6571: UserWarning: The 'normed' kwarg is deprecated, and has been replaced by the 'density' kwarg.\n",
      "  warnings.warn(\"The 'normed' kwarg is deprecated, and has been \"\n",
      "/Users/parker/anaconda/lib/python3.6/site-packages/matplotlib/axes/_axes.py:6571: UserWarning: The 'normed' kwarg is deprecated, and has been replaced by the 'density' kwarg.\n",
      "  warnings.warn(\"The 'normed' kwarg is deprecated, and has been \"\n"
     ]
    },
    {
     "data": {
      "image/png": "[encoded data removed]",
      "text/plain": [
       "<Figure size 576x360 with 1 Axes>"
      ]
     },
     "metadata": {},
     "output_type": "display_data"
    }
   ],
   "source": [
    "#look at video length characteristic\n",
    "fig, ax = plt.subplots(figsize = (8,5))\n",
    "sns.distplot(v_df.loc[v_df['hot'] == True, 'video_length'], label='HOT', ax = ax)\n",
    "sns.distplot(v_df.loc[v_df['hot'] == False, 'video_length'], label = 'NOT HOT', ax = ax)\n",
    "ax.legend(fontsize = 10)\n",
    "plt.tight_layout()"
   ]
  },
  {
   "cell_type": "code",
   "execution_count": 45,
   "metadata": {},
   "outputs": [
    {
     "data": {
      "image/png": "[encoded data removed]",
      "text/plain": [
       "<Figure size 1296x432 with 2 Axes>"
      ]
     },
     "metadata": {},
     "output_type": "display_data"
    }
   ],
   "source": [
    "#look at language and quality characteristic\n",
    "#For hot videos, there are more ES and less DE; there are less 480p and more 240p\n",
    "fig, ax = plt.subplots(ncols = 2, figsize = (18,6))\n",
    "language_df = v_df.groupby('hot')['video_language'].apply(lambda x: x.value_counts(normalize = True)).unstack()\n",
    "language_df.plot(kind = 'bar', ax = ax[0])\n",
    "quality_df = v_df.groupby('hot')['video_quality'].apply(lambda x:x.value_counts(normalize = True)).unstack()\n",
    "quality_df.plot(kind = 'bar', ax=ax[1])\n",
    "plt.tight_layout()"
   ]
  },
  {
   "cell_type": "markdown",
   "metadata": {},
   "source": [
    "**3. what to do next**\n",
    "- build a classification model\n",
    "- analyze certain characteristics"
   ]
  },
  {
   "cell_type": "code",
   "execution_count": null,
   "metadata": {
    "collapsed": true
   },
   "outputs": [],
   "source": []
  }
 ],
 "metadata": {
  "kernelspec": {
   "display_name": "Python 3",
   "language": "python",
   "name": "python3"
  },
  "language_info": {
   "codemirror_mode": {
    "name": "ipython",
    "version": 3
   },
   "file_extension": ".py",
   "mimetype": "text/x-python",
   "name": "python",
   "nbconvert_exporter": "python",
   "pygments_lexer": "ipython3",
   "version": "3.6.8"
  }
 },
 "nbformat": 4,
 "nbformat_minor": 2
}

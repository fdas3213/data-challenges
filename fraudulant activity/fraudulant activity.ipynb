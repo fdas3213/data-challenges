{
 "cells": [
  {
   "cell_type": "code",
   "execution_count": 1,
   "metadata": {},
   "outputs": [],
   "source": [
    "import pandas as pd\n",
    "import numpy as np\n",
    "import matplotlib.pyplot as plt\n",
    "import sys\n",
    "sys.path.append(\"/home/jovyan/sz/practice/take_home_challenges/\")\n",
    "import helper_f\n",
    "%matplotlib inline\n",
    "from datetime import datetime"
   ]
  },
  {
   "cell_type": "markdown",
   "metadata": {},
   "source": [
    "## 4 goals\n",
    "1. find out country of the user\n",
    "2. build a ML model to predict fraud\n",
    "3. explain what variables differentiate two groups"
   ]
  },
  {
   "cell_type": "code",
   "execution_count": null,
   "metadata": {},
   "outputs": [],
   "source": [
    "country = pd.read_csv(\"IpAddress_to_Country.csv\")\n",
    "user = pd.read_csv(\"Fraud_Data.csv\")"
   ]
  },
  {
   "cell_type": "code",
   "execution_count": null,
   "metadata": {},
   "outputs": [],
   "source": [
    "#basic exploration of user table\n",
    "#1. find out null value percentage\n",
    "for col in user.columns:\n",
    "    print(col, \" has: {}% null values\".format(user[col].isnull().sum() / user.shape[0]))\n",
    "\n",
    "#Good to know that no column has null values, now we map id by country"
   ]
  },
  {
   "cell_type": "markdown",
   "metadata": {},
   "source": [
    "### Map ip_address to country\n",
    "There are some ip addresses that have no map, and in that case, it is simply null."
   ]
  },
  {
   "cell_type": "code",
   "execution_count": null,
   "metadata": {
    "scrolled": true
   },
   "outputs": [],
   "source": [
    "user['country'] = user['ip_address'].map(lambda val: country.loc[(country.lower_bound_ip_address < val) & \\\n",
    "                                                    (country.upper_bound_ip_address > val), 'country'].values)\n",
    "user['country'] = user['country'].map(lambda row: row[0] if len(row) > 0 else '')"
   ]
  },
  {
   "cell_type": "code",
   "execution_count": null,
   "metadata": {},
   "outputs": [],
   "source": [
    "#create a new feature purchase duration = purchase_time - signup_time in days\n",
    "user['signup_time'] = user['signup_time'].apply(lambda row: datetime.strptime(row, \"%Y-%m-%d %H:%M:%S\"))\n",
    "user['purchase_time'] = user['purchase_time'].apply(lambda row: datetime.strptime(row, \"%Y-%m-%d %H:%M:%S\"))\n",
    "user['purchase_duration'] = user.apply(lambda x: (x['purchase_time'].to_pydatetime() - x['signup_time'].to_pydatetime()).days, axis = 1)"
   ]
  },
  {
   "cell_type": "code",
   "execution_count": null,
   "metadata": {},
   "outputs": [],
   "source": [
    "user.head(3)"
   ]
  },
  {
   "cell_type": "code",
   "execution_count": null,
   "metadata": {},
   "outputs": [],
   "source": [
    "#check out number of unique values of each column\n",
    "for col in user.columns:\n",
    "    print(\"{} has {} unique values\".format(col, len(user[col].unique())))"
   ]
  },
  {
   "cell_type": "code",
   "execution_count": null,
   "metadata": {},
   "outputs": [],
   "source": [
    "user.describe()"
   ]
  },
  {
   "cell_type": "markdown",
   "metadata": {},
   "source": [
    "### Exploratory data analysis with graphs using helper_f\n",
    "\n",
    "we can see that these three varibles have very balanced distribution for each class of target variable"
   ]
  },
  {
   "cell_type": "code",
   "execution_count": null,
   "metadata": {},
   "outputs": [],
   "source": [
    "helper_f.plot_freq(columns=['sex','source','browser'], label= 'class', df=user, ylabel= 'fraud rate', rotation=True)"
   ]
  },
  {
   "cell_type": "markdown",
   "metadata": {},
   "source": [
    "1. **purchase value**, we can see that for those types that are not fraud, most of purchases occur from 10 - 50<br>\n",
    "2. **age**, most of fraud activities happen to age between 30 - 40"
   ]
  },
  {
   "cell_type": "code",
   "execution_count": null,
   "metadata": {},
   "outputs": [],
   "source": [
    "helper_f.plot_continuous(columns= ['purchase_value', 'age', 'purchase_duration'], label = 'class', df= user)"
   ]
  },
  {
   "cell_type": "code",
   "execution_count": null,
   "metadata": {},
   "outputs": [],
   "source": [
    "helper_f.plot_target('class',user)"
   ]
  },
  {
   "cell_type": "markdown",
   "metadata": {},
   "source": [
    "### Build a machine learning model for prediction"
   ]
  },
  {
   "cell_type": "code",
   "execution_count": null,
   "metadata": {},
   "outputs": [],
   "source": [
    "from sklearn.preprocessing import LabelEncoder\n",
    "le = LabelEncoder()\n",
    "\n",
    "#drop these columns\n",
    "to_drop = ['user_id', 'signup_time', 'purchase_time', 'device_id', 'ip_address']\n",
    "user.drop(to_drop, axis = 1, inplace=True)\n",
    "\n",
    "#categorize purchase duration to short and long\n",
    "user['purchase_duration'] = pd.cut(x = user['purchase_duration'], bins = 3, labels= ['short', 'medium','long'])\n",
    "\n",
    "#encode these string columns to categorical values\n",
    "to_encode = ['source', 'browser', 'sex','purchase_duration']\n",
    "for col in to_encode:\n",
    "    user[col] = le.fit_transform(user[col])"
   ]
  },
  {
   "cell_type": "code",
   "execution_count": null,
   "metadata": {},
   "outputs": [],
   "source": [
    "dummy_country = pd.get_dummies(user['country'])\n",
    "user.drop(['country'], axis = 1, inplace = True)\n",
    "user = pd.concat([user,dummy_country], axis = 1)"
   ]
  },
  {
   "cell_type": "code",
   "execution_count": null,
   "metadata": {},
   "outputs": [],
   "source": [
    "helper_f.plot_classifier(user.loc[:,user.columns != 'class'].values, user['class'].values)"
   ]
  },
  {
   "cell_type": "code",
   "execution_count": null,
   "metadata": {},
   "outputs": [],
   "source": []
  }
 ],
 "metadata": {
  "kernelspec": {
   "display_name": "Python 3",
   "language": "python",
   "name": "python3"
  },
  "language_info": {
   "codemirror_mode": {
    "name": "ipython",
    "version": 3
   },
   "file_extension": ".py",
   "mimetype": "text/x-python",
   "name": "python",
   "nbconvert_exporter": "python",
   "pygments_lexer": "ipython3",
   "version": "3.6.3"
  }
 },
 "nbformat": 4,
 "nbformat_minor": 2
}

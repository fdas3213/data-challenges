{
 "cells": [
  {
   "cell_type": "code",
   "execution_count": 1,
   "metadata": {},
   "outputs": [],
   "source": [
    "import pandas as pd\n",
    "import numpy as np\n",
    "import matplotlib.pyplot as plt\n",
    "import sys\n",
    "sys.path.append(\"C://Users/sz/Desktop/practice/take_home_challenges/\")\n",
    "import helper_f\n",
    "%matplotlib inline\n",
    "from datetime import datetime"
   ]
  },
  {
   "cell_type": "markdown",
   "metadata": {},
   "source": [
    "## 4 goals\n",
    "1. find out country of the user\n",
    "2. build a ML model to predict fraud\n",
    "3. explain what variables differentiate two groups"
   ]
  },
  {
   "cell_type": "code",
   "execution_count": 2,
   "metadata": {},
   "outputs": [],
   "source": [
    "country = pd.read_csv(\"IpAddress_to_Country.csv\")\n",
    "user = pd.read_csv(\"Fraud_Data.csv\")"
   ]
  },
  {
   "cell_type": "code",
   "execution_count": 3,
   "metadata": {},
   "outputs": [
    {
     "name": "stdout",
     "output_type": "stream",
     "text": [
      "user_id  has: 0.0% null values\n",
      "signup_time  has: 0.0% null values\n",
      "purchase_time  has: 0.0% null values\n",
      "purchase_value  has: 0.0% null values\n",
      "device_id  has: 0.0% null values\n",
      "source  has: 0.0% null values\n",
      "browser  has: 0.0% null values\n",
      "sex  has: 0.0% null values\n",
      "age  has: 0.0% null values\n",
      "ip_address  has: 0.0% null values\n",
      "class  has: 0.0% null values\n"
     ]
    }
   ],
   "source": [
    "#basic exploration of user table\n",
    "#1. find out null value percentage\n",
    "for col in user.columns:\n",
    "    print(col, \" has: {}% null values\".format(user[col].isnull().sum() / user.shape[0]))\n",
    "\n",
    "#Good to know that no column has null values, now we map id by country"
   ]
  },
  {
   "cell_type": "markdown",
   "metadata": {},
   "source": [
    "### Map ip_address to country\n",
    "There are some ip addresses that have no map, and in that case, it is simply null."
   ]
  },
  {
   "cell_type": "code",
   "execution_count": 4,
   "metadata": {
    "scrolled": true
   },
   "outputs": [],
   "source": [
    "user['country'] = user['ip_address'].map(lambda val: country.loc[(country.lower_bound_ip_address < val) & \\\n",
    "                                                    (country.upper_bound_ip_address > val), 'country'].values)\n",
    "user['country'] = user['country'].map(lambda row: row[0] if len(row) > 0 else '')"
   ]
  },
  {
   "cell_type": "code",
   "execution_count": 5,
   "metadata": {},
   "outputs": [],
   "source": [
    "#create a new feature purchase duration = purchase_time - signup_time in days\n",
    "user['signup_time'] = user['signup_time'].apply(lambda row: datetime.strptime(row, \"%Y-%m-%d %H:%M:%S\"))\n",
    "user['purchase_time'] = user['purchase_time'].apply(lambda row: datetime.strptime(row, \"%Y-%m-%d %H:%M:%S\"))\n",
    "user['purchase_duration'] = user.apply(lambda x: (x['purchase_time'].to_pydatetime() - x['signup_time'].to_pydatetime()).days, axis = 1)"
   ]
  },
  {
   "cell_type": "code",
   "execution_count": 6,
   "metadata": {},
   "outputs": [
    {
     "data": {
      "text/html": [
       "<div>\n",
       "<style scoped>\n",
       "    .dataframe tbody tr th:only-of-type {\n",
       "        vertical-align: middle;\n",
       "    }\n",
       "\n",
       "    .dataframe tbody tr th {\n",
       "        vertical-align: top;\n",
       "    }\n",
       "\n",
       "    .dataframe thead th {\n",
       "        text-align: right;\n",
       "    }\n",
       "</style>\n",
       "<table border=\"1\" class=\"dataframe\">\n",
       "  <thead>\n",
       "    <tr style=\"text-align: right;\">\n",
       "      <th></th>\n",
       "      <th>user_id</th>\n",
       "      <th>signup_time</th>\n",
       "      <th>purchase_time</th>\n",
       "      <th>purchase_value</th>\n",
       "      <th>device_id</th>\n",
       "      <th>source</th>\n",
       "      <th>browser</th>\n",
       "      <th>sex</th>\n",
       "      <th>age</th>\n",
       "      <th>ip_address</th>\n",
       "      <th>class</th>\n",
       "      <th>country</th>\n",
       "      <th>purchase_duration</th>\n",
       "    </tr>\n",
       "  </thead>\n",
       "  <tbody>\n",
       "    <tr>\n",
       "      <th>0</th>\n",
       "      <td>22058</td>\n",
       "      <td>2015-02-24 22:55:49</td>\n",
       "      <td>2015-04-18 02:47:11</td>\n",
       "      <td>34</td>\n",
       "      <td>QVPSPJUOCKZAR</td>\n",
       "      <td>SEO</td>\n",
       "      <td>Chrome</td>\n",
       "      <td>M</td>\n",
       "      <td>39</td>\n",
       "      <td>7.327584e+08</td>\n",
       "      <td>0</td>\n",
       "      <td>Japan</td>\n",
       "      <td>52</td>\n",
       "    </tr>\n",
       "    <tr>\n",
       "      <th>1</th>\n",
       "      <td>333320</td>\n",
       "      <td>2015-06-07 20:39:50</td>\n",
       "      <td>2015-06-08 01:38:54</td>\n",
       "      <td>16</td>\n",
       "      <td>EOGFQPIZPYXFZ</td>\n",
       "      <td>Ads</td>\n",
       "      <td>Chrome</td>\n",
       "      <td>F</td>\n",
       "      <td>53</td>\n",
       "      <td>3.503114e+08</td>\n",
       "      <td>0</td>\n",
       "      <td>United States</td>\n",
       "      <td>0</td>\n",
       "    </tr>\n",
       "    <tr>\n",
       "      <th>2</th>\n",
       "      <td>1359</td>\n",
       "      <td>2015-01-01 18:52:44</td>\n",
       "      <td>2015-01-01 18:52:45</td>\n",
       "      <td>15</td>\n",
       "      <td>YSSKYOSJHPPLJ</td>\n",
       "      <td>SEO</td>\n",
       "      <td>Opera</td>\n",
       "      <td>M</td>\n",
       "      <td>53</td>\n",
       "      <td>2.621474e+09</td>\n",
       "      <td>1</td>\n",
       "      <td>United States</td>\n",
       "      <td>0</td>\n",
       "    </tr>\n",
       "  </tbody>\n",
       "</table>\n",
       "</div>"
      ],
      "text/plain": [
       "   user_id         signup_time       purchase_time  purchase_value  \\\n",
       "0    22058 2015-02-24 22:55:49 2015-04-18 02:47:11              34   \n",
       "1   333320 2015-06-07 20:39:50 2015-06-08 01:38:54              16   \n",
       "2     1359 2015-01-01 18:52:44 2015-01-01 18:52:45              15   \n",
       "\n",
       "       device_id source browser sex  age    ip_address  class        country  \\\n",
       "0  QVPSPJUOCKZAR    SEO  Chrome   M   39  7.327584e+08      0          Japan   \n",
       "1  EOGFQPIZPYXFZ    Ads  Chrome   F   53  3.503114e+08      0  United States   \n",
       "2  YSSKYOSJHPPLJ    SEO   Opera   M   53  2.621474e+09      1  United States   \n",
       "\n",
       "   purchase_duration  \n",
       "0                 52  \n",
       "1                  0  \n",
       "2                  0  "
      ]
     },
     "execution_count": 6,
     "metadata": {},
     "output_type": "execute_result"
    }
   ],
   "source": [
    "user.head(3)"
   ]
  },
  {
   "cell_type": "code",
   "execution_count": 7,
   "metadata": {},
   "outputs": [
    {
     "name": "stdout",
     "output_type": "stream",
     "text": [
      "user_id has 151112 unique values\n",
      "signup_time has 151112 unique values\n",
      "purchase_time has 150679 unique values\n",
      "purchase_value has 122 unique values\n",
      "device_id has 137956 unique values\n",
      "source has 3 unique values\n",
      "browser has 5 unique values\n",
      "sex has 2 unique values\n",
      "age has 58 unique values\n",
      "ip_address has 143512 unique values\n",
      "class has 2 unique values\n",
      "country has 182 unique values\n",
      "purchase_duration has 120 unique values\n"
     ]
    }
   ],
   "source": [
    "#check out number of unique values of each column\n",
    "for col in user.columns:\n",
    "    print(\"{} has {} unique values\".format(col, len(user[col].unique())))"
   ]
  },
  {
   "cell_type": "code",
   "execution_count": 8,
   "metadata": {},
   "outputs": [
    {
     "data": {
      "text/html": [
       "<div>\n",
       "<style scoped>\n",
       "    .dataframe tbody tr th:only-of-type {\n",
       "        vertical-align: middle;\n",
       "    }\n",
       "\n",
       "    .dataframe tbody tr th {\n",
       "        vertical-align: top;\n",
       "    }\n",
       "\n",
       "    .dataframe thead th {\n",
       "        text-align: right;\n",
       "    }\n",
       "</style>\n",
       "<table border=\"1\" class=\"dataframe\">\n",
       "  <thead>\n",
       "    <tr style=\"text-align: right;\">\n",
       "      <th></th>\n",
       "      <th>user_id</th>\n",
       "      <th>purchase_value</th>\n",
       "      <th>age</th>\n",
       "      <th>ip_address</th>\n",
       "      <th>class</th>\n",
       "      <th>purchase_duration</th>\n",
       "    </tr>\n",
       "  </thead>\n",
       "  <tbody>\n",
       "    <tr>\n",
       "      <th>count</th>\n",
       "      <td>151112.000000</td>\n",
       "      <td>151112.000000</td>\n",
       "      <td>151112.000000</td>\n",
       "      <td>1.511120e+05</td>\n",
       "      <td>151112.000000</td>\n",
       "      <td>151112.000000</td>\n",
       "    </tr>\n",
       "    <tr>\n",
       "      <th>mean</th>\n",
       "      <td>200171.040970</td>\n",
       "      <td>36.935372</td>\n",
       "      <td>33.140704</td>\n",
       "      <td>2.152145e+09</td>\n",
       "      <td>0.093646</td>\n",
       "      <td>56.609799</td>\n",
       "    </tr>\n",
       "    <tr>\n",
       "      <th>std</th>\n",
       "      <td>115369.285024</td>\n",
       "      <td>18.322762</td>\n",
       "      <td>8.617733</td>\n",
       "      <td>1.248497e+09</td>\n",
       "      <td>0.291336</td>\n",
       "      <td>36.142085</td>\n",
       "    </tr>\n",
       "    <tr>\n",
       "      <th>min</th>\n",
       "      <td>2.000000</td>\n",
       "      <td>9.000000</td>\n",
       "      <td>18.000000</td>\n",
       "      <td>5.209350e+04</td>\n",
       "      <td>0.000000</td>\n",
       "      <td>0.000000</td>\n",
       "    </tr>\n",
       "    <tr>\n",
       "      <th>25%</th>\n",
       "      <td>100642.500000</td>\n",
       "      <td>22.000000</td>\n",
       "      <td>27.000000</td>\n",
       "      <td>1.085934e+09</td>\n",
       "      <td>0.000000</td>\n",
       "      <td>25.000000</td>\n",
       "    </tr>\n",
       "    <tr>\n",
       "      <th>50%</th>\n",
       "      <td>199958.000000</td>\n",
       "      <td>35.000000</td>\n",
       "      <td>33.000000</td>\n",
       "      <td>2.154770e+09</td>\n",
       "      <td>0.000000</td>\n",
       "      <td>57.000000</td>\n",
       "    </tr>\n",
       "    <tr>\n",
       "      <th>75%</th>\n",
       "      <td>300054.000000</td>\n",
       "      <td>49.000000</td>\n",
       "      <td>39.000000</td>\n",
       "      <td>3.243258e+09</td>\n",
       "      <td>0.000000</td>\n",
       "      <td>88.000000</td>\n",
       "    </tr>\n",
       "    <tr>\n",
       "      <th>max</th>\n",
       "      <td>400000.000000</td>\n",
       "      <td>154.000000</td>\n",
       "      <td>76.000000</td>\n",
       "      <td>4.294850e+09</td>\n",
       "      <td>1.000000</td>\n",
       "      <td>119.000000</td>\n",
       "    </tr>\n",
       "  </tbody>\n",
       "</table>\n",
       "</div>"
      ],
      "text/plain": [
       "             user_id  purchase_value            age    ip_address  \\\n",
       "count  151112.000000   151112.000000  151112.000000  1.511120e+05   \n",
       "mean   200171.040970       36.935372      33.140704  2.152145e+09   \n",
       "std    115369.285024       18.322762       8.617733  1.248497e+09   \n",
       "min         2.000000        9.000000      18.000000  5.209350e+04   \n",
       "25%    100642.500000       22.000000      27.000000  1.085934e+09   \n",
       "50%    199958.000000       35.000000      33.000000  2.154770e+09   \n",
       "75%    300054.000000       49.000000      39.000000  3.243258e+09   \n",
       "max    400000.000000      154.000000      76.000000  4.294850e+09   \n",
       "\n",
       "               class  purchase_duration  \n",
       "count  151112.000000      151112.000000  \n",
       "mean        0.093646          56.609799  \n",
       "std         0.291336          36.142085  \n",
       "min         0.000000           0.000000  \n",
       "25%         0.000000          25.000000  \n",
       "50%         0.000000          57.000000  \n",
       "75%         0.000000          88.000000  \n",
       "max         1.000000         119.000000  "
      ]
     },
     "execution_count": 8,
     "metadata": {},
     "output_type": "execute_result"
    }
   ],
   "source": [
    "user.describe()"
   ]
  },
  {
   "cell_type": "markdown",
   "metadata": {},
   "source": [
    "### Exploratory data analysis with graphs using helper_f\n",
    "\n",
    "we can see that these three varibles have very balanced distribution for each class of target variable"
   ]
  },
  {
   "cell_type": "code",
   "execution_count": 9,
   "metadata": {},
   "outputs": [
    {
     "data": {
      "text/plain": [
       "<Figure size 432x288 with 0 Axes>"
      ]
     },
     "metadata": {},
     "output_type": "display_data"
    },
    {
     "data": {
      "image/png": "[encoded data removed]",
      "text/plain": [
       "<Figure size 432x288 with 1 Axes>"
      ]
     },
     "metadata": {},
     "output_type": "display_data"
    },
    {
     "data": {
      "text/plain": [
       "<Figure size 432x288 with 0 Axes>"
      ]
     },
     "metadata": {},
     "output_type": "display_data"
    },
    {
     "data": {
      "image/png": "[encoded data removed]",
      "text/plain": [
       "<Figure size 432x288 with 1 Axes>"
      ]
     },
     "metadata": {},
     "output_type": "display_data"
    },
    {
     "data": {
      "text/plain": [
       "<Figure size 432x288 with 0 Axes>"
      ]
     },
     "metadata": {},
     "output_type": "display_data"
    },
    {
     "data": {
      "image/png": "[encoded data removed]",
      "text/plain": [
       "<Figure size 432x288 with 1 Axes>"
      ]
     },
     "metadata": {},
     "output_type": "display_data"
    }
   ],
   "source": [
    "helper_f.plot_freq(columns=['sex','source','browser'], label= 'class', df=user, ylabel= 'fraud rate', rotation=True)"
   ]
  },
  {
   "cell_type": "markdown",
   "metadata": {},
   "source": [
    "1. **purchase value**, we can see that for those types that are not fraud, most of purchases occur from 10 - 50<br>\n",
    "2. **age**, most of fraud activities happen to age between 30 - 40"
   ]
  },
  {
   "cell_type": "code",
   "execution_count": 10,
   "metadata": {},
   "outputs": [
    {
     "name": "stdout",
     "output_type": "stream",
     "text": [
      "purchase_value\n"
     ]
    },
    {
     "data": {
      "image/png": "[encoded data removed]",
      "text/plain": [
       "<Figure size 432x288 with 1 Axes>"
      ]
     },
     "metadata": {},
     "output_type": "display_data"
    },
    {
     "data": {
      "image/png": "[encoded data removed]",
      "text/plain": [
       "<Figure size 432x288 with 2 Axes>"
      ]
     },
     "metadata": {},
     "output_type": "display_data"
    },
    {
     "name": "stdout",
     "output_type": "stream",
     "text": [
      "age\n"
     ]
    },
    {
     "data": {
      "image/png": "[encoded data removed]",
      "text/plain": [
       "<Figure size 432x288 with 1 Axes>"
      ]
     },
     "metadata": {},
     "output_type": "display_data"
    },
    {
     "data": {
      "image/png": "[encoded data removed]",
      "text/plain": [
       "<Figure size 432x288 with 2 Axes>"
      ]
     },
     "metadata": {},
     "output_type": "display_data"
    },
    {
     "name": "stdout",
     "output_type": "stream",
     "text": [
      "purchase_duration\n"
     ]
    },
    {
     "data": {
      "image/png": "[encoded data removed]",
      "text/plain": [
       "<Figure size 432x288 with 1 Axes>"
      ]
     },
     "metadata": {},
     "output_type": "display_data"
    },
    {
     "data": {
      "image/png": "[encoded data removed]",
      "text/plain": [
       "<Figure size 432x288 with 2 Axes>"
      ]
     },
     "metadata": {},
     "output_type": "display_data"
    }
   ],
   "source": [
    "helper_f.plot_continuous(columns= ['purchase_value', 'age', 'purchase_duration'], label = 'class', df= user)"
   ]
  },
  {
   "cell_type": "code",
   "execution_count": 11,
   "metadata": {},
   "outputs": [
    {
     "data": {
      "image/png": "[encoded data removed]",
      "text/plain": [
       "<Figure size 432x288 with 1 Axes>"
      ]
     },
     "metadata": {},
     "output_type": "display_data"
    }
   ],
   "source": [
    "helper_f.plot_target('class',user)"
   ]
  },
  {
   "cell_type": "markdown",
   "metadata": {},
   "source": [
    "### Build a machine learning model for prediction"
   ]
  },
  {
   "cell_type": "code",
   "execution_count": 12,
   "metadata": {},
   "outputs": [],
   "source": [
    "from sklearn.preprocessing import LabelEncoder\n",
    "le = LabelEncoder()\n",
    "\n",
    "#drop these columns\n",
    "to_drop = ['user_id', 'signup_time', 'purchase_time', 'device_id', 'ip_address']\n",
    "user.drop(to_drop, axis = 1, inplace=True)\n",
    "\n",
    "#categorize purchase duration to short and long\n",
    "user['purchase_duration'] = pd.cut(x = user['purchase_duration'], bins = 3, labels= ['short', 'medium','long'])\n",
    "\n",
    "#encode these string columns to categorical values\n",
    "to_encode = ['source', 'browser', 'sex','purchase_duration']\n",
    "for col in to_encode:\n",
    "    user[col] = le.fit_transform(user[col])"
   ]
  },
  {
   "cell_type": "code",
   "execution_count": 13,
   "metadata": {},
   "outputs": [],
   "source": [
    "dummy_country = pd.get_dummies(user['country'])\n",
    "user.drop(['country'], axis = 1, inplace = True)\n",
    "user = pd.concat([user,dummy_country], axis = 1)"
   ]
  },
  {
   "cell_type": "code",
   "execution_count": 14,
   "metadata": {},
   "outputs": [
    {
     "name": "stdout",
     "output_type": "stream",
     "text": [
      "                   Classifier  Accuracy\n",
      "0      RandomForestClassifier  0.944481\n",
      "0          LogisticRegression  0.906353\n",
      "0  GradientBoostingClassifier  0.907213\n"
     ]
    },
    {
     "data": {
      "image/png": "[encoded data removed]",
      "text/plain": [
       "<Figure size 432x288 with 1 Axes>"
      ]
     },
     "metadata": {},
     "output_type": "display_data"
    }
   ],
   "source": [
    "helper_f.plot_classifier(user.loc[:,user.columns != 'class'].values, user['class'].values)"
   ]
  },
  {
   "cell_type": "markdown",
   "metadata": {},
   "source": [
    "### using random forest to find out feature importance\n",
    "\n",
    "By using RF feature importance, we can know which feature differentiates two groups the most"
   ]
  },
  {
   "cell_type": "code",
   "execution_count": 15,
   "metadata": {},
   "outputs": [],
   "source": [
    "from sklearn.ensemble import RandomForestClassifier\n",
    "\n",
    "clf = RandomForestClassifier()\n",
    "clf.fit(user.loc[:, user.columns != 'class'].values, user['class'].values)\n",
    "importances = clf.feature_importances_"
   ]
  },
  {
   "cell_type": "code",
   "execution_count": 19,
   "metadata": {},
   "outputs": [
    {
     "name": "stdout",
     "output_type": "stream",
     "text": [
      "Feature ranking:\n",
      "1. feature 0 (0.409168)\n",
      "2. feature 4 (0.288146)\n",
      "3. feature 5 (0.067671)\n",
      "4. feature 2 (0.066633)\n",
      "5. feature 1 (0.036324)\n",
      "6. feature 3 (0.023598)\n",
      "7. feature 178 (0.007926)\n",
      "8. feature 91 (0.005439)\n",
      "9. feature 6 (0.004849)\n",
      "10. feature 43 (0.004272)\n",
      "11. feature 95 (0.003994)\n",
      "12. feature 177 (0.003486)\n",
      "13. feature 31 (0.003171)\n",
      "14. feature 67 (0.003144)\n",
      "15. feature 39 (0.002801)\n",
      "16. feature 14 (0.002629)\n",
      "17. feature 163 (0.002573)\n",
      "18. feature 89 (0.002458)\n",
      "19. feature 83 (0.002385)\n",
      "20. feature 146 (0.002238)\n",
      "21. feature 114 (0.002225)\n",
      "22. feature 71 (0.002063)\n",
      "23. feature 125 (0.002016)\n",
      "24. feature 166 (0.001986)\n",
      "25. feature 158 (0.001661)\n",
      "26. feature 12 (0.001591)\n",
      "27. feature 160 (0.001560)\n",
      "28. feature 164 (0.001481)\n",
      "29. feature 127 (0.001383)\n",
      "30. feature 84 (0.001337)\n",
      "31. feature 54 (0.001314)\n",
      "32. feature 80 (0.001289)\n",
      "33. feature 66 (0.001248)\n",
      "34. feature 131 (0.001243)\n",
      "35. feature 151 (0.001214)\n",
      "36. feature 175 (0.001191)\n",
      "37. feature 87 (0.001188)\n",
      "38. feature 22 (0.001180)\n",
      "39. feature 171 (0.001176)\n",
      "40. feature 42 (0.001099)\n",
      "41. feature 74 (0.001030)\n",
      "42. feature 172 (0.001030)\n",
      "43. feature 183 (0.000979)\n",
      "44. feature 59 (0.000956)\n",
      "45. feature 85 (0.000946)\n",
      "46. feature 140 (0.000945)\n",
      "47. feature 138 (0.000943)\n",
      "48. feature 15 (0.000921)\n",
      "49. feature 182 (0.000891)\n",
      "50. feature 44 (0.000874)\n",
      "51. feature 145 (0.000813)\n",
      "52. feature 105 (0.000804)\n",
      "53. feature 53 (0.000779)\n",
      "54. feature 161 (0.000752)\n",
      "55. feature 58 (0.000677)\n",
      "56. feature 169 (0.000656)\n",
      "57. feature 96 (0.000633)\n",
      "58. feature 104 (0.000612)\n",
      "59. feature 155 (0.000589)\n",
      "60. feature 63 (0.000571)\n",
      "61. feature 81 (0.000570)\n",
      "62. feature 110 (0.000502)\n",
      "63. feature 122 (0.000485)\n",
      "64. feature 47 (0.000481)\n",
      "65. feature 27 (0.000478)\n",
      "66. feature 9 (0.000462)\n",
      "67. feature 154 (0.000456)\n",
      "68. feature 88 (0.000455)\n",
      "69. feature 133 (0.000408)\n",
      "70. feature 139 (0.000379)\n",
      "71. feature 141 (0.000371)\n",
      "72. feature 176 (0.000370)\n",
      "73. feature 119 (0.000324)\n",
      "74. feature 99 (0.000288)\n",
      "75. feature 49 (0.000279)\n",
      "76. feature 156 (0.000263)\n",
      "77. feature 93 (0.000254)\n",
      "78. feature 179 (0.000249)\n",
      "79. feature 94 (0.000248)\n",
      "80. feature 112 (0.000197)\n",
      "81. feature 162 (0.000188)\n",
      "82. feature 19 (0.000183)\n",
      "83. feature 34 (0.000175)\n",
      "84. feature 100 (0.000172)\n",
      "85. feature 135 (0.000160)\n",
      "86. feature 157 (0.000147)\n",
      "87. feature 170 (0.000142)\n",
      "88. feature 57 (0.000141)\n",
      "89. feature 13 (0.000121)\n",
      "90. feature 21 (0.000118)\n",
      "91. feature 137 (0.000116)\n",
      "92. feature 130 (0.000114)\n",
      "93. feature 115 (0.000110)\n",
      "94. feature 180 (0.000107)\n",
      "95. feature 70 (0.000104)\n",
      "96. feature 113 (0.000098)\n",
      "97. feature 60 (0.000095)\n",
      "98. feature 52 (0.000087)\n",
      "99. feature 153 (0.000080)\n",
      "100. feature 107 (0.000079)\n",
      "101. feature 82 (0.000077)\n",
      "102. feature 184 (0.000075)\n",
      "103. feature 10 (0.000069)\n",
      "104. feature 16 (0.000063)\n",
      "105. feature 7 (0.000063)\n",
      "106. feature 128 (0.000062)\n",
      "107. feature 29 (0.000060)\n",
      "108. feature 79 (0.000060)\n",
      "109. feature 109 (0.000043)\n",
      "110. feature 77 (0.000042)\n",
      "111. feature 143 (0.000041)\n",
      "112. feature 48 (0.000041)\n",
      "113. feature 118 (0.000035)\n",
      "114. feature 61 (0.000032)\n",
      "115. feature 102 (0.000027)\n",
      "116. feature 152 (0.000027)\n",
      "117. feature 92 (0.000023)\n",
      "118. feature 168 (0.000023)\n",
      "119. feature 86 (0.000023)\n",
      "120. feature 120 (0.000021)\n",
      "121. feature 132 (0.000021)\n",
      "122. feature 165 (0.000021)\n",
      "123. feature 72 (0.000016)\n",
      "124. feature 90 (0.000015)\n",
      "125. feature 174 (0.000014)\n",
      "126. feature 147 (0.000013)\n",
      "127. feature 142 (0.000012)\n",
      "128. feature 173 (0.000012)\n",
      "129. feature 106 (0.000012)\n",
      "130. feature 8 (0.000011)\n",
      "131. feature 124 (0.000011)\n",
      "132. feature 186 (0.000009)\n",
      "133. feature 144 (0.000009)\n",
      "134. feature 37 (0.000008)\n",
      "135. feature 35 (0.000008)\n",
      "136. feature 68 (0.000008)\n",
      "137. feature 18 (0.000006)\n",
      "138. feature 97 (0.000006)\n",
      "139. feature 50 (0.000006)\n",
      "140. feature 134 (0.000005)\n",
      "141. feature 17 (0.000005)\n",
      "142. feature 25 (0.000004)\n",
      "143. feature 76 (0.000004)\n",
      "144. feature 33 (0.000004)\n",
      "145. feature 11 (0.000003)\n",
      "146. feature 51 (0.000003)\n",
      "147. feature 148 (0.000003)\n",
      "148. feature 23 (0.000003)\n",
      "149. feature 62 (0.000002)\n",
      "150. feature 103 (0.000002)\n",
      "151. feature 111 (0.000002)\n",
      "152. feature 20 (0.000002)\n",
      "153. feature 117 (0.000002)\n",
      "154. feature 129 (0.000002)\n",
      "155. feature 150 (0.000002)\n",
      "156. feature 78 (0.000002)\n",
      "157. feature 187 (0.000002)\n",
      "158. feature 98 (0.000001)\n",
      "159. feature 38 (0.000001)\n",
      "160. feature 123 (0.000001)\n",
      "161. feature 45 (0.000001)\n",
      "162. feature 65 (0.000001)\n",
      "163. feature 167 (0.000001)\n",
      "164. feature 46 (0.000001)\n",
      "165. feature 108 (0.000001)\n",
      "166. feature 26 (0.000001)\n",
      "167. feature 136 (0.000001)\n",
      "168. feature 75 (0.000001)\n",
      "169. feature 64 (0.000001)\n",
      "170. feature 126 (0.000001)\n",
      "171. feature 30 (0.000001)\n",
      "172. feature 28 (0.000000)\n",
      "173. feature 41 (0.000000)\n",
      "174. feature 73 (0.000000)\n",
      "175. feature 36 (0.000000)\n",
      "176. feature 55 (0.000000)\n",
      "177. feature 116 (0.000000)\n",
      "178. feature 101 (0.000000)\n",
      "179. feature 40 (0.000000)\n",
      "180. feature 185 (0.000000)\n",
      "181. feature 121 (0.000000)\n",
      "182. feature 149 (0.000000)\n",
      "183. feature 159 (0.000000)\n",
      "184. feature 24 (0.000000)\n",
      "185. feature 56 (0.000000)\n",
      "186. feature 69 (0.000000)\n",
      "187. feature 181 (0.000000)\n",
      "188. feature 32 (0.000000)\n"
     ]
    }
   ],
   "source": [
    "std = np.std([tree.feature_importances_ for tree in clf.estimators_], axis=0)\n",
    "indices = np.argsort(importances)[::-1]\n",
    "\n",
    "# Print the feature ranking\n",
    "print(\"Feature ranking:\")\n",
    "\n",
    "for f in range(user.loc[:, user.columns != 'class'].shape[1]):\n",
    "    print(\"%d. feature %d (%f)\" % (f + 1, indices[f], importances[indices[f]]))"
   ]
  },
  {
   "cell_type": "code",
   "execution_count": 33,
   "metadata": {},
   "outputs": [
    {
     "data": {
      "image/png": "[encoded data removed]",
      "text/plain": [
       "<Figure size 432x288 with 1 Axes>"
      ]
     },
     "metadata": {},
     "output_type": "display_data"
    }
   ],
   "source": [
    "#map index and name\n",
    "X = user.loc[:, user.columns != 'class']\n",
    "names = {i: X.columns[i] for i in range(len(X.columns))}\n",
    "idx_name_map = [names[idx] for idx in indices[:10]]\n",
    "# Plot the feature importances of the forest\n",
    "plt.figure()\n",
    "plt.title(\"Feature importances\")\n",
    "plt.bar(range(10), importances[indices][:10], color=\"r\", align=\"center\")\n",
    "plt.xticks(range(10), idx_name_map, rotation = 60)\n",
    "plt.xlim([-1, 10])\n",
    "plt.show()"
   ]
  },
  {
   "cell_type": "markdown",
   "metadata": {},
   "source": [
    "Based on above feature importance plot, we can see that *purchase_value* and *age* separates two classes most"
   ]
  },
  {
   "cell_type": "code",
   "execution_count": null,
   "metadata": {},
   "outputs": [],
   "source": []
  }
 ],
 "metadata": {
  "kernelspec": {
   "display_name": "Python 3",
   "language": "python",
   "name": "python3"
  },
  "language_info": {
   "codemirror_mode": {
    "name": "ipython",
    "version": 3
   },
   "file_extension": ".py",
   "mimetype": "text/x-python",
   "name": "python",
   "nbconvert_exporter": "python",
   "pygments_lexer": "ipython3",
   "version": "3.6.4"
  }
 },
 "nbformat": 4,
 "nbformat_minor": 2
}

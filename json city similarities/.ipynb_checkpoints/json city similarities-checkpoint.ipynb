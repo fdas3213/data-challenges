{
 "cells": [
  {
   "cell_type": "code",
   "execution_count": 1,
   "metadata": {},
   "outputs": [],
   "source": [
    "import pandas as pd\n",
    "import numpy as np\n",
    "import matplotlib.pyplot as plt\n",
    "import seaborn as sns\n",
    "%matplotlib inline"
   ]
  },
  {
   "cell_type": "markdown",
   "metadata": {},
   "source": [
    "# Questions\n",
    "1. Find out the empty country\n",
    "2. For each city, find the most likely city to be searched in the same session\n",
    "3. cluster sessions into 2 groups"
   ]
  },
  {
   "cell_type": "markdown",
   "metadata": {},
   "source": [
    "load data"
   ]
  },
  {
   "cell_type": "code",
   "execution_count": 2,
   "metadata": {},
   "outputs": [],
   "source": [
    "data = pd.read_json(\"city_search.json\")"
   ]
  },
  {
   "cell_type": "markdown",
   "metadata": {},
   "source": [
    "We need to reformat the data to give a better outlook"
   ]
  },
  {
   "cell_type": "code",
   "execution_count": 3,
   "metadata": {},
   "outputs": [],
   "source": [
    "data['session_id'] = data['session_id'].apply(lambda l: l[0])\n",
    "data['unix_timestamp'] = data['unix_timestamp'].apply(lambda l: l[0])\n",
    "data['session_start_time'] = pd.to_datetime(data['unix_timestamp'], unit = 's')\n",
    "data['user_id'] = data['user'].apply(lambda l: l[0][0]['user_id'])\n",
    "data['country'] = data['user'].apply(lambda l: l[0][0]['country'])\n",
    "data['joining_date'] = pd.to_datetime(data['user'].apply(lambda l: l[0][0]['joining_date']))\n",
    "data.drop(['unix_timestamp', 'user'], axis = 1, inplace = True)"
   ]
  },
  {
   "cell_type": "code",
   "execution_count": 4,
   "metadata": {},
   "outputs": [
    {
     "name": "stdout",
     "output_type": "stream",
     "text": [
      "Number of unique users:  5777\n",
      "Number of unique countries:  7\n",
      "Earliest data: 2015-02-28 00:00:00, latest date: 2015-04-03 00:00:00\n"
     ]
    },
    {
     "data": {
      "text/html": [
       "<div>\n",
       "<style scoped>\n",
       "    .dataframe tbody tr th:only-of-type {\n",
       "        vertical-align: middle;\n",
       "    }\n",
       "\n",
       "    .dataframe tbody tr th {\n",
       "        vertical-align: top;\n",
       "    }\n",
       "\n",
       "    .dataframe thead th {\n",
       "        text-align: right;\n",
       "    }\n",
       "</style>\n",
       "<table border=\"1\" class=\"dataframe\">\n",
       "  <thead>\n",
       "    <tr style=\"text-align: right;\">\n",
       "      <th></th>\n",
       "      <th>cities</th>\n",
       "      <th>session_id</th>\n",
       "      <th>session_start_time</th>\n",
       "      <th>user_id</th>\n",
       "      <th>country</th>\n",
       "      <th>joining_date</th>\n",
       "    </tr>\n",
       "  </thead>\n",
       "  <tbody>\n",
       "    <tr>\n",
       "      <th>0</th>\n",
       "      <td>[New York NY, Newark NJ]</td>\n",
       "      <td>X061RFWB06K9V</td>\n",
       "      <td>2015-09-17 15:28:28</td>\n",
       "      <td>2024</td>\n",
       "      <td>UK</td>\n",
       "      <td>2015-03-22</td>\n",
       "    </tr>\n",
       "    <tr>\n",
       "      <th>1</th>\n",
       "      <td>[New York NY, Jersey City NJ, Philadelphia PA]</td>\n",
       "      <td>5AZ2X2A9BHH5U</td>\n",
       "      <td>2015-09-04 08:06:31</td>\n",
       "      <td>2853</td>\n",
       "      <td>DE</td>\n",
       "      <td>2015-03-28</td>\n",
       "    </tr>\n",
       "    <tr>\n",
       "      <th>2</th>\n",
       "      <td>[San Antonio TX]</td>\n",
       "      <td>SHTB4IYAX4PX6</td>\n",
       "      <td>2015-08-29 10:18:10</td>\n",
       "      <td>10958</td>\n",
       "      <td>UK</td>\n",
       "      <td>2015-03-06</td>\n",
       "    </tr>\n",
       "    <tr>\n",
       "      <th>3</th>\n",
       "      <td>[Edmonton AB]</td>\n",
       "      <td>JBRB8MZGTX3M4</td>\n",
       "      <td>2015-03-25 07:21:03</td>\n",
       "      <td>7693</td>\n",
       "      <td>IT</td>\n",
       "      <td>2015-03-12</td>\n",
       "    </tr>\n",
       "    <tr>\n",
       "      <th>4</th>\n",
       "      <td>[Phoenix AZ, Houston TX]</td>\n",
       "      <td>YJCMPURC2FL9C</td>\n",
       "      <td>2015-05-02 09:31:07</td>\n",
       "      <td>7506</td>\n",
       "      <td>UK</td>\n",
       "      <td>2015-02-28</td>\n",
       "    </tr>\n",
       "  </tbody>\n",
       "</table>\n",
       "</div>"
      ],
      "text/plain": [
       "                                           cities     session_id  \\\n",
       "0                        [New York NY, Newark NJ]  X061RFWB06K9V   \n",
       "1  [New York NY, Jersey City NJ, Philadelphia PA]  5AZ2X2A9BHH5U   \n",
       "2                                [San Antonio TX]  SHTB4IYAX4PX6   \n",
       "3                                   [Edmonton AB]  JBRB8MZGTX3M4   \n",
       "4                        [Phoenix AZ, Houston TX]  YJCMPURC2FL9C   \n",
       "\n",
       "   session_start_time  user_id country joining_date  \n",
       "0 2015-09-17 15:28:28     2024      UK   2015-03-22  \n",
       "1 2015-09-04 08:06:31     2853      DE   2015-03-28  \n",
       "2 2015-08-29 10:18:10    10958      UK   2015-03-06  \n",
       "3 2015-03-25 07:21:03     7693      IT   2015-03-12  \n",
       "4 2015-05-02 09:31:07     7506      UK   2015-02-28  "
      ]
     },
     "execution_count": 4,
     "metadata": {},
     "output_type": "execute_result"
    }
   ],
   "source": [
    "print(\"Number of unique users: \", len(data.user_id.unique()))\n",
    "print(\"Number of unique countries: \", len(data.country.unique()))\n",
    "print(\"Earliest data: {}, latest date: {}\".format(data.joining_date.min(), data.joining_date.max()))\n",
    "data.head()"
   ]
  },
  {
   "cell_type": "code",
   "execution_count": 5,
   "metadata": {},
   "outputs": [
    {
     "data": {
      "text/plain": [
       "cities                0\n",
       "session_id            0\n",
       "session_start_time    0\n",
       "user_id               0\n",
       "country               0\n",
       "joining_date          0\n",
       "dtype: int64"
      ]
     },
     "execution_count": 5,
     "metadata": {},
     "output_type": "execute_result"
    }
   ],
   "source": [
    "#check null values\n",
    "data.isnull().sum()"
   ]
  },
  {
   "cell_type": "code",
   "execution_count": 6,
   "metadata": {},
   "outputs": [
    {
     "name": "stdout",
     "output_type": "stream",
     "text": [
      "<class 'pandas.core.frame.DataFrame'>\n",
      "RangeIndex: 20022 entries, 0 to 20021\n",
      "Data columns (total 6 columns):\n",
      "cities                20022 non-null object\n",
      "session_id            20022 non-null object\n",
      "session_start_time    20022 non-null datetime64[ns]\n",
      "user_id               20022 non-null int64\n",
      "country               20022 non-null object\n",
      "joining_date          20022 non-null datetime64[ns]\n",
      "dtypes: datetime64[ns](2), int64(1), object(3)\n",
      "memory usage: 938.6+ KB\n"
     ]
    }
   ],
   "source": [
    "data.info()"
   ]
  },
  {
   "cell_type": "markdown",
   "metadata": {},
   "source": [
    "## Question 1\n",
    "We extract the empty country part data, and try to analyze it using cities<br\\>\n",
    "Based on below plot, we see that people from this country have done many searches for canadian cities: such as *Toronto*, *Montreal*, and *Vancouver*. Therefore, based on this observation, my guess is that this country is **Canada**"
   ]
  },
  {
   "cell_type": "code",
   "execution_count": 7,
   "metadata": {},
   "outputs": [],
   "source": [
    "null_country = data[data.country == \"\"]\n",
    "null_country_city = dict()\n",
    "for val in null_country.cities:\n",
    "    for city in val:\n",
    "        null_country_city[city] = null_country_city.get(city, 0) + 1\n",
    "null_city_list = sorted(null_country_city.items(), key = lambda x: -x[1])"
   ]
  },
  {
   "cell_type": "code",
   "execution_count": 23,
   "metadata": {},
   "outputs": [
    {
     "data": {
      "image/png": "[encoded data removed]",
      "text/plain": [
       "<Figure size 576x432 with 1 Axes>"
      ]
     },
     "metadata": {},
     "output_type": "display_data"
    }
   ],
   "source": [
    "top_15_city = null_city_list[:15]\n",
    "city_df = pd.DataFrame({\"city\":[tup[0] for tup in top_15_city], \"appearances\": [tup[1] for tup in top_15_city]})\n",
    "fig, ax = plt.subplots(figsize = (8,6))\n",
    "city_df.plot.bar(x = 'city', y = 'appearances', ax = ax, rot = 45, legend = False)\n",
    "ax.set_title(\"Number of city searches for null country users\", fontsize = 14)\n",
    "ax.set_ylabel(\"Number of appearances\", fontsize = 14)\n",
    "ax.set_xlabel(\"City\", fontsize = 14)\n",
    "plt.tight_layout()"
   ]
  },
  {
   "cell_type": "code",
   "execution_count": 9,
   "metadata": {},
   "outputs": [],
   "source": [
    "#replace \"\" values in data['country'] by CA based on above analysis\n",
    "data['country'] = data['country'].replace({\"\": \"CA\"})"
   ]
  },
  {
   "cell_type": "markdown",
   "metadata": {},
   "source": [
    "## Question 2\n",
    "\n",
    "I used three dictionaries to each obtain: count of city by user, count of city, and count of co-occuring cities for each city"
   ]
  },
  {
   "cell_type": "code",
   "execution_count": 10,
   "metadata": {},
   "outputs": [],
   "source": [
    "city_user_dict = dict()\n",
    "city_counts = dict()\n",
    "\n",
    "for i in range(len(data)):\n",
    "    city_list = data.cities[i]\n",
    "    u_id = data.user_id[i]\n",
    "    if u_id not in city_user_dict:\n",
    "        city_user_dict[u_id] = dict()\n",
    "    for c in city_list:\n",
    "        city_user_dict[u_id][c] = city_user_dict[u_id].get(c, 0) + 1\n",
    "        city_counts[c] = city_counts.get(c, 0) + 1\n",
    "\n",
    "city_data = pd.DataFrame({\"city\": [k for k in city_counts], \"counts\": [val for val in city_counts.values()]})"
   ]
  },
  {
   "cell_type": "code",
   "execution_count": null,
   "metadata": {},
   "outputs": [],
   "source": [
    "co_occur = dict()"
   ]
  },
  {
   "cell_type": "code",
   "execution_count": 11,
   "metadata": {},
   "outputs": [
    {
     "data": {
      "text/html": [
       "<div>\n",
       "<style scoped>\n",
       "    .dataframe tbody tr th:only-of-type {\n",
       "        vertical-align: middle;\n",
       "    }\n",
       "\n",
       "    .dataframe tbody tr th {\n",
       "        vertical-align: top;\n",
       "    }\n",
       "\n",
       "    .dataframe thead th {\n",
       "        text-align: right;\n",
       "    }\n",
       "</style>\n",
       "<table border=\"1\" class=\"dataframe\">\n",
       "  <thead>\n",
       "    <tr style=\"text-align: right;\">\n",
       "      <th></th>\n",
       "      <th>city</th>\n",
       "      <th>counts</th>\n",
       "    </tr>\n",
       "  </thead>\n",
       "  <tbody>\n",
       "    <tr>\n",
       "      <th>0</th>\n",
       "      <td>New York NY</td>\n",
       "      <td>2278</td>\n",
       "    </tr>\n",
       "    <tr>\n",
       "      <th>1</th>\n",
       "      <td>Toronto ON</td>\n",
       "      <td>1268</td>\n",
       "    </tr>\n",
       "    <tr>\n",
       "      <th>2</th>\n",
       "      <td>Los Angeles CA</td>\n",
       "      <td>1072</td>\n",
       "    </tr>\n",
       "  </tbody>\n",
       "</table>\n",
       "</div>"
      ],
      "text/plain": [
       "             city  counts\n",
       "0     New York NY    2278\n",
       "1      Toronto ON    1268\n",
       "2  Los Angeles CA    1072"
      ]
     },
     "execution_count": 11,
     "metadata": {},
     "output_type": "execute_result"
    }
   ],
   "source": [
    "#sort the city_data dataframe \n",
    "city_data = city_data.sort_values(by= 'counts', ascending=False).reset_index(drop = True)\n",
    "city_data.head(3)"
   ]
  },
  {
   "cell_type": "markdown",
   "metadata": {},
   "source": [
    "**visulization**"
   ]
  },
  {
   "cell_type": "code",
   "execution_count": 18,
   "metadata": {},
   "outputs": [
    {
     "data": {
      "image/png": "[encoded data removed]",
      "text/plain": [
       "<Figure size 1296x432 with 2 Axes>"
      ]
     },
     "metadata": {},
     "output_type": "display_data"
    }
   ],
   "source": [
    "#take a look at the distribution of country and joining time\n",
    "fig, ax = plt.subplots(nrows = 1, ncols = 2, figsize = (18,6))\n",
    "sns.countplot(x='country', data = data,ax= ax[0])\n",
    "ax[0].set_title('Count of country distribution', fontsize = 14)\n",
    "ax[0].set_ylabel(\"Count\")\n",
    "\n",
    "city_data[:10].plot.bar(x = 'city', y='counts', rot = 45, legend = False, ax = ax[1])\n",
    "ax[1].set_title(\"Count of city distribution\", fontsize = 14)\n",
    "ax[1].set_ylabel(\"Count\")\n",
    "plt.tight_layout()"
   ]
  },
  {
   "cell_type": "code",
   "execution_count": null,
   "metadata": {},
   "outputs": [],
   "source": []
  }
 ],
 "metadata": {
  "kernelspec": {
   "display_name": "Python 3",
   "language": "python",
   "name": "python3"
  },
  "language_info": {
   "codemirror_mode": {
    "name": "ipython",
    "version": 3
   },
   "file_extension": ".py",
   "mimetype": "text/x-python",
   "name": "python",
   "nbconvert_exporter": "python",
   "pygments_lexer": "ipython3",
   "version": "3.6.4"
  }
 },
 "nbformat": 4,
 "nbformat_minor": 2
}

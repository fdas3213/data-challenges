{
 "cells": [
  {
   "cell_type": "markdown",
   "metadata": {},
   "source": [
    "## Tasks\n",
    "\n",
    "1. Is the test winning? \n",
    "2. Is the test performing similarly for all user segments or are there differences among different segments?\n",
    "3. If you identified segments that responded differently to the test, can you guess the reason? Would this change your point 1 conclusions?"
   ]
  },
  {
   "cell_type": "code",
   "execution_count": 1,
   "metadata": {},
   "outputs": [],
   "source": [
    "#!unzip Engagement_Test.zip"
   ]
  },
  {
   "cell_type": "code",
   "execution_count": 2,
   "metadata": {},
   "outputs": [
    {
     "name": "stdout",
     "output_type": "stream",
     "text": [
      "\"user_id\",\"date\",\"browser\",\"test\",\"pages_visited\"\r\n",
      "600597,2015-08-13,\"IE\",0,2\r\n",
      "4410028,2015-08-26,\"Chrome\",1,5\r\n",
      "cat: stdout: Broken pipe\r\n"
     ]
    }
   ],
   "source": [
    "!cat test_table.csv | head -3"
   ]
  },
  {
   "cell_type": "code",
   "execution_count": 3,
   "metadata": {},
   "outputs": [
    {
     "name": "stdout",
     "output_type": "stream",
     "text": [
      "\"user_id\",\"signup_date\"\r\n",
      "34,2015-01-01\r\n",
      "59,2015-01-01\r\n",
      "178,2015-01-01\r\n",
      "cat: stdout: Broken pipe\r\n"
     ]
    }
   ],
   "source": [
    "!cat user_table.csv | head -4"
   ]
  },
  {
   "cell_type": "code",
   "execution_count": 4,
   "metadata": {
    "collapsed": true
   },
   "outputs": [],
   "source": [
    "import pandas as pd\n",
    "import warnings\n",
    "warnings.filterwarnings('ignore')\n",
    "import seaborn as sns\n",
    "import matplotlib.pyplot as plt\n",
    "%matplotlib inline"
   ]
  },
  {
   "cell_type": "code",
   "execution_count": 5,
   "metadata": {},
   "outputs": [
    {
     "name": "stdout",
     "output_type": "stream",
     "text": [
      "Test has shape: (100000, 5), User has shape: (100000, 2)\n"
     ]
    }
   ],
   "source": [
    "test_df = pd.read_csv(\"test_table.csv\")\n",
    "user_df = pd.read_csv(\"user_table.csv\")\n",
    "print(\"Test has shape: {}, User has shape: {}\".format(test_df.shape, user_df.shape))\n",
    "df = pd.merge(left = test_df, right = user_df, how='inner')"
   ]
  },
  {
   "cell_type": "code",
   "execution_count": 6,
   "metadata": {},
   "outputs": [
    {
     "data": {
      "text/html": [
       "<div>\n",
       "<style scoped>\n",
       "    .dataframe tbody tr th:only-of-type {\n",
       "        vertical-align: middle;\n",
       "    }\n",
       "\n",
       "    .dataframe tbody tr th {\n",
       "        vertical-align: top;\n",
       "    }\n",
       "\n",
       "    .dataframe thead th {\n",
       "        text-align: right;\n",
       "    }\n",
       "</style>\n",
       "<table border=\"1\" class=\"dataframe\">\n",
       "  <thead>\n",
       "    <tr style=\"text-align: right;\">\n",
       "      <th></th>\n",
       "      <th>user_id</th>\n",
       "      <th>date</th>\n",
       "      <th>browser</th>\n",
       "      <th>test</th>\n",
       "      <th>pages_visited</th>\n",
       "      <th>signup_date</th>\n",
       "    </tr>\n",
       "  </thead>\n",
       "  <tbody>\n",
       "    <tr>\n",
       "      <th>0</th>\n",
       "      <td>600597</td>\n",
       "      <td>2015-08-13</td>\n",
       "      <td>IE</td>\n",
       "      <td>0</td>\n",
       "      <td>2</td>\n",
       "      <td>2015-01-19</td>\n",
       "    </tr>\n",
       "    <tr>\n",
       "      <th>1</th>\n",
       "      <td>4410028</td>\n",
       "      <td>2015-08-26</td>\n",
       "      <td>Chrome</td>\n",
       "      <td>1</td>\n",
       "      <td>5</td>\n",
       "      <td>2015-05-11</td>\n",
       "    </tr>\n",
       "    <tr>\n",
       "      <th>2</th>\n",
       "      <td>6004777</td>\n",
       "      <td>2015-08-17</td>\n",
       "      <td>Chrome</td>\n",
       "      <td>0</td>\n",
       "      <td>8</td>\n",
       "      <td>2015-06-26</td>\n",
       "    </tr>\n",
       "  </tbody>\n",
       "</table>\n",
       "</div>"
      ],
      "text/plain": [
       "   user_id        date browser  test  pages_visited signup_date\n",
       "0   600597  2015-08-13      IE     0              2  2015-01-19\n",
       "1  4410028  2015-08-26  Chrome     1              5  2015-05-11\n",
       "2  6004777  2015-08-17  Chrome     0              8  2015-06-26"
      ]
     },
     "execution_count": 6,
     "metadata": {},
     "output_type": "execute_result"
    }
   ],
   "source": [
    "df.head(3)"
   ]
  },
  {
   "cell_type": "markdown",
   "metadata": {},
   "source": [
    "**1. A/B test result**"
   ]
  },
  {
   "cell_type": "code",
   "execution_count": 7,
   "metadata": {},
   "outputs": [
    {
     "name": "stderr",
     "output_type": "stream",
     "text": [
      "/Users/parker/anaconda/lib/python3.6/site-packages/pandas/plotting/_core.py:2396: UserWarning: To output multiple subplots, the figure containing the passed axes is being cleared\n",
      "  yrot=yrot, **kwds)\n"
     ]
    },
    {
     "data": {
      "image/png": "[encoded data removed]",
      "text/plain": [
       "<Figure size 1152x432 with 2 Axes>"
      ]
     },
     "metadata": {},
     "output_type": "display_data"
    }
   ],
   "source": [
    "#first visualize, we see that the distribution is quite different for two groups\n",
    "fig, ax = plt.subplots(ncols = 2,nrows=1, figsize=(16,6))\n",
    "df.hist(column = 'pages_visited', by = 'test', ax = ax[0], alpha = 0.8)\n",
    "plt.tight_layout()"
   ]
  },
  {
   "cell_type": "markdown",
   "metadata": {},
   "source": [
    "Based on below result, we see that p-value is much bigger than 0.05 significance level, meaning that there is no statistically significant difference for 2 groups.\n",
    "\n",
    "So the test did not win, and should not expand to all users"
   ]
  },
  {
   "cell_type": "code",
   "execution_count": 8,
   "metadata": {},
   "outputs": [
    {
     "name": "stdout",
     "output_type": "stream",
     "text": [
      "P-value is: 0.577\n",
      "P-value does not show statistical significance\n"
     ]
    }
   ],
   "source": [
    "#perform the test\n",
    "from scipy.stats import ttest_ind\n",
    "control_page_visits = df.loc[df['test'] == 0, 'pages_visited']\n",
    "test_page_visits = df.loc[df['test'] == 1, 'pages_visited']\n",
    "t_stat, p_val = ttest_ind(a = control_page_visits, b = test_page_visits)\n",
    "print(\"P-value is: {:.3f}\".format(p_val))\n",
    "if p_val > 0.05:\n",
    "    print(\"P-value does not show statistical significance\")\n",
    "else:\n",
    "    print(\"P-value shows statistical significance\")"
   ]
  },
  {
   "cell_type": "markdown",
   "metadata": {},
   "source": [
    "**2&3. compare test for different segments**"
   ]
  },
  {
   "cell_type": "code",
   "execution_count": 9,
   "metadata": {},
   "outputs": [
    {
     "data": {
      "image/png": "[encoded data removed]",
      "text/plain": [
       "<Figure size 576x360 with 1 Axes>"
      ]
     },
     "metadata": {},
     "output_type": "display_data"
    }
   ],
   "source": [
    "#first compare by browser\n",
    "fig, ax = plt.subplots(nrows = 1, ncols = 1,figsize= (8,5))\n",
    "sns.barplot(x = 'browser', y ='pages_visited', data = df, hue='test', ax = ax)\n",
    "ax.set_title(\"browser vs. pages_visited\")\n",
    "plt.tight_layout()"
   ]
  },
  {
   "cell_type": "markdown",
   "metadata": {},
   "source": [
    "Based on above plot, we observe an abnormal value for **Opera**: its test group people all have **0** pages visited. This might be a data logging error, so let's remove Opera from original dataset and do the t-test again"
   ]
  },
  {
   "cell_type": "code",
   "execution_count": 10,
   "metadata": {},
   "outputs": [
    {
     "name": "stdout",
     "output_type": "stream",
     "text": [
      "(100000, 6)    (97873, 6)\n",
      "After removing Opera, p-value is now: 4.273456891094664e-08\n"
     ]
    }
   ],
   "source": [
    "no_opera_df = df[df['browser'] != 'Opera']\n",
    "print(df.shape, '  ', no_opera_df.shape)\n",
    "no_opera_control = no_opera_df.loc[no_opera_df['test'] == 0, 'pages_visited']\n",
    "no_opera_test = no_opera_df.loc[no_opera_df['test'] == 1, 'pages_visited']\n",
    "t, p = ttest_ind(a = no_opera_control, b = no_opera_test)\n",
    "print(\"After removing Opera, p-value is now: {}\".format(p))"
   ]
  },
  {
   "cell_type": "markdown",
   "metadata": {},
   "source": [
    "Now after removing **Opera** data, we find p-value to be 4.27e-08, which is much lower than 0.05 significance level. And now we can conclude that test wins"
   ]
  },
  {
   "cell_type": "code",
   "execution_count": 11,
   "metadata": {},
   "outputs": [
    {
     "data": {
      "text/html": [
       "<div>\n",
       "<style scoped>\n",
       "    .dataframe tbody tr th:only-of-type {\n",
       "        vertical-align: middle;\n",
       "    }\n",
       "\n",
       "    .dataframe tbody tr th {\n",
       "        vertical-align: top;\n",
       "    }\n",
       "\n",
       "    .dataframe thead th {\n",
       "        text-align: right;\n",
       "    }\n",
       "</style>\n",
       "<table border=\"1\" class=\"dataframe\">\n",
       "  <thead>\n",
       "    <tr style=\"text-align: right;\">\n",
       "      <th></th>\n",
       "      <th>user_id</th>\n",
       "      <th>date</th>\n",
       "      <th>browser</th>\n",
       "      <th>test</th>\n",
       "      <th>pages_visited</th>\n",
       "      <th>signup_date</th>\n",
       "      <th>dayofweek</th>\n",
       "      <th>interval</th>\n",
       "      <th>new_user</th>\n",
       "    </tr>\n",
       "  </thead>\n",
       "  <tbody>\n",
       "    <tr>\n",
       "      <th>0</th>\n",
       "      <td>600597</td>\n",
       "      <td>2015-08-13</td>\n",
       "      <td>IE</td>\n",
       "      <td>0</td>\n",
       "      <td>2</td>\n",
       "      <td>2015-01-19</td>\n",
       "      <td>3</td>\n",
       "      <td>206</td>\n",
       "      <td>0</td>\n",
       "    </tr>\n",
       "    <tr>\n",
       "      <th>1</th>\n",
       "      <td>4410028</td>\n",
       "      <td>2015-08-26</td>\n",
       "      <td>Chrome</td>\n",
       "      <td>1</td>\n",
       "      <td>5</td>\n",
       "      <td>2015-05-11</td>\n",
       "      <td>2</td>\n",
       "      <td>107</td>\n",
       "      <td>0</td>\n",
       "    </tr>\n",
       "    <tr>\n",
       "      <th>2</th>\n",
       "      <td>6004777</td>\n",
       "      <td>2015-08-17</td>\n",
       "      <td>Chrome</td>\n",
       "      <td>0</td>\n",
       "      <td>8</td>\n",
       "      <td>2015-06-26</td>\n",
       "      <td>0</td>\n",
       "      <td>52</td>\n",
       "      <td>0</td>\n",
       "    </tr>\n",
       "    <tr>\n",
       "      <th>3</th>\n",
       "      <td>5990330</td>\n",
       "      <td>2015-08-27</td>\n",
       "      <td>Safari</td>\n",
       "      <td>0</td>\n",
       "      <td>8</td>\n",
       "      <td>2015-06-25</td>\n",
       "      <td>3</td>\n",
       "      <td>63</td>\n",
       "      <td>0</td>\n",
       "    </tr>\n",
       "    <tr>\n",
       "      <th>4</th>\n",
       "      <td>3622310</td>\n",
       "      <td>2015-08-07</td>\n",
       "      <td>Firefox</td>\n",
       "      <td>0</td>\n",
       "      <td>1</td>\n",
       "      <td>2015-04-17</td>\n",
       "      <td>4</td>\n",
       "      <td>112</td>\n",
       "      <td>0</td>\n",
       "    </tr>\n",
       "  </tbody>\n",
       "</table>\n",
       "</div>"
      ],
      "text/plain": [
       "   user_id       date  browser  test  pages_visited signup_date  dayofweek  \\\n",
       "0   600597 2015-08-13       IE     0              2  2015-01-19          3   \n",
       "1  4410028 2015-08-26   Chrome     1              5  2015-05-11          2   \n",
       "2  6004777 2015-08-17   Chrome     0              8  2015-06-26          0   \n",
       "3  5990330 2015-08-27   Safari     0              8  2015-06-25          3   \n",
       "4  3622310 2015-08-07  Firefox     0              1  2015-04-17          4   \n",
       "\n",
       "   interval  new_user  \n",
       "0       206         0  \n",
       "1       107         0  \n",
       "2        52         0  \n",
       "3        63         0  \n",
       "4       112         0  "
      ]
     },
     "execution_count": 11,
     "metadata": {},
     "output_type": "execute_result"
    }
   ],
   "source": [
    "#compare by day of week, and interval to check novelty effect\n",
    "df['date'] = pd.to_datetime(df['date'])\n",
    "df['signup_date'] = pd.to_datetime(df['signup_date'])\n",
    "df['dayofweek'] = df['date'].apply(lambda x:x.dayofweek)\n",
    "df['interval'] = (df['date'] - df['signup_date']).apply(lambda x: x.days)\n",
    "df['new_user'] = (df['interval'] < 10).astype('int')\n",
    "df.head(5)"
   ]
  },
  {
   "cell_type": "code",
   "execution_count": 17,
   "metadata": {},
   "outputs": [
    {
     "data": {
      "image/png": "[encoded data removed]",
      "text/plain": [
       "<Figure size 1296x432 with 2 Axes>"
      ]
     },
     "metadata": {},
     "output_type": "display_data"
    }
   ],
   "source": [
    "fig, ax = plt.subplots(nrows=1,ncols=2,figsize=(18,6))\n",
    "sns.barplot(x = 'dayofweek', y = 'pages_visited', hue='test', data = df, ax = ax[0])\n",
    "sns.barplot(x = 'new_user', y ='pages_visited', hue = 'test', data = df, ax=ax[1])\n",
    "plt.legend()\n",
    "plt.tight_layout()"
   ]
  },
  {
   "cell_type": "code",
   "execution_count": 24,
   "metadata": {},
   "outputs": [
    {
     "name": "stdout",
     "output_type": "stream",
     "text": [
      "For new users, p-value is : 0.19139214817570446\n"
     ]
    }
   ],
   "source": [
    "#compare new user \n",
    "new_df = df.copy()\n",
    "new_df = new_df[new_df['browser'] != 'Opera']\n",
    "new_user_control = new_df.loc[(new_df['new_user'] == 1) & (new_df['test'] == 0), 'pages_visited']\n",
    "new_user_test = new_df.loc[(new_df['new_user'] == 1) & (new_df['test'] == 1), 'pages_visited']\n",
    "t, p = ttest_ind(a = new_user_control, b = new_user_test)\n",
    "print(\"For new users, p-value is : {}\".format(p))"
   ]
  },
  {
   "cell_type": "code",
   "execution_count": 26,
   "metadata": {},
   "outputs": [
    {
     "name": "stdout",
     "output_type": "stream",
     "text": [
      "For old users, p-value is : 1.4975217073177642e-12\n"
     ]
    }
   ],
   "source": [
    "#compare old user\n",
    "old_user_control = new_df.loc[(new_df['new_user'] == 0) & (new_df['test'] == 0), 'pages_visited']\n",
    "old_user_test = new_df.loc[(new_df['new_user'] == 0) & (new_df['test'] == 1), 'pages_visited']\n",
    "t, p = ttest_ind(a = old_user_control, b = old_user_test)\n",
    "print(\"For old users, p-value is : {}\".format(p))"
   ]
  },
  {
   "cell_type": "markdown",
   "metadata": {},
   "source": [
    "Based on above analysis, we did not find a statistically significant result for new users, but there is a statistically significant result for old users, meaning that there is a novelty effect, and therefore, the statistically significant result cannot be fully trusted, and I would suggest **not expanding** this feature to all user groups"
   ]
  },
  {
   "cell_type": "code",
   "execution_count": null,
   "metadata": {
    "collapsed": true
   },
   "outputs": [],
   "source": []
  }
 ],
 "metadata": {
  "kernelspec": {
   "display_name": "Python 3",
   "language": "python",
   "name": "python3"
  },
  "language_info": {
   "codemirror_mode": {
    "name": "ipython",
    "version": 3
   },
   "file_extension": ".py",
   "mimetype": "text/x-python",
   "name": "python",
   "nbconvert_exporter": "python",
   "pygments_lexer": "ipython3",
   "version": "3.6.8"
  }
 },
 "nbformat": 4,
 "nbformat_minor": 2
}

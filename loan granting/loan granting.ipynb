{
 "cells": [
  {
   "cell_type": "code",
   "execution_count": 1,
   "metadata": {},
   "outputs": [],
   "source": [
    "import pandas as pd\n",
    "import numpy as np\n",
    "import matplotlib.pyplot as plt\n",
    "import seaborn as sns\n",
    "\n",
    "%matplotlib inline"
   ]
  },
  {
   "cell_type": "markdown",
   "metadata": {},
   "source": [
    "# Questions\n",
    "\n",
    "1. Build a model which is better than the bank model.\n",
    "2. Using the (-1,1,0) rule, compare bank profitability vs your model profitability\n",
    "3. Most important variable and how does \"is_employed\" impact the model \n",
    "4. Other variables to include?"
   ]
  },
  {
   "cell_type": "markdown",
   "metadata": {},
   "source": [
    "Read data"
   ]
  },
  {
   "cell_type": "code",
   "execution_count": 2,
   "metadata": {},
   "outputs": [
    {
     "name": "stdout",
     "output_type": "stream",
     "text": [
      "Borrower table:  (101100, 12)\n",
      "loan table:  (101100, 5)\n"
     ]
    }
   ],
   "source": [
    "borrower = pd.read_csv(\"borrower_table.csv\")\n",
    "loan = pd.read_csv(\"loan_table.csv\")\n",
    "print(\"Borrower table: \", borrower.shape)\n",
    "print(\"loan table: \", loan.shape)"
   ]
  },
  {
   "cell_type": "code",
   "execution_count": 3,
   "metadata": {},
   "outputs": [
    {
     "name": "stdout",
     "output_type": "stream",
     "text": [
      "Are all loan ids in borrower table unique:  True\n",
      "Are all loan ids in loan table unique:  True\n"
     ]
    }
   ],
   "source": [
    "print(\"Are all loan ids in borrower table unique: \", len(borrower) == len(borrower['loan_id'].unique()))\n",
    "print(\"Are all loan ids in loan table unique: \", len(loan) == len(loan['loan_id'].unique()))"
   ]
  },
  {
   "cell_type": "markdown",
   "metadata": {},
   "source": [
    "1. 54947 of all loans is the first time\n",
    "2. 53446 loan applications are not granted\n",
    "3. There are 6972 missing values in avg_percentage_credit_card"
   ]
  },
  {
   "cell_type": "code",
   "execution_count": 4,
   "metadata": {},
   "outputs": [
    {
     "name": "stdout",
     "output_type": "stream",
     "text": [
      "new data has shape:  (101100, 16) \n",
      "\n",
      "loan_id                                                0\n",
      "is_first_loan                                          0\n",
      "fully_repaid_previous_loans                        54947\n",
      "currently_repaying_other_loans                     54947\n",
      "total_credit_card_limit                                0\n",
      "avg_percentage_credit_card_limit_used_last_year     6972\n",
      "saving_amount                                          0\n",
      "checking_amount                                        0\n",
      "is_employed                                            0\n",
      "yearly_salary                                          0\n",
      "age                                                    0\n",
      "dependent_number                                       0\n",
      "loan_purpose                                           0\n",
      "date                                                   0\n",
      "loan_granted                                           0\n",
      "loan_repaid                                        53446\n",
      "dtype: int64\n"
     ]
    }
   ],
   "source": [
    "#join two tables and check null values other than 'l_r, f_r_p_l, c_r_o_l'\n",
    "data = pd.merge(borrower, loan, on = 'loan_id', how = 'inner')\n",
    "data['date'] = pd.to_datetime(data['date'])\n",
    "\n",
    "print(\"new data has shape: \", data.shape, '\\n')\n",
    "print(data.isnull().sum())"
   ]
  },
  {
   "cell_type": "code",
   "execution_count": 5,
   "metadata": {},
   "outputs": [
    {
     "name": "stdout",
     "output_type": "stream",
     "text": [
      "<class 'pandas.core.frame.DataFrame'>\n",
      "Int64Index: 101100 entries, 0 to 101099\n",
      "Data columns (total 16 columns):\n",
      "loan_id                                            101100 non-null int64\n",
      "is_first_loan                                      101100 non-null int64\n",
      "fully_repaid_previous_loans                        46153 non-null category\n",
      "currently_repaying_other_loans                     46153 non-null category\n",
      "total_credit_card_limit                            101100 non-null int64\n",
      "avg_percentage_credit_card_limit_used_last_year    94128 non-null float64\n",
      "saving_amount                                      101100 non-null int64\n",
      "checking_amount                                    101100 non-null int64\n",
      "is_employed                                        101100 non-null category\n",
      "yearly_salary                                      101100 non-null int64\n",
      "age                                                101100 non-null int64\n",
      "dependent_number                                   101100 non-null int64\n",
      "loan_purpose                                       101100 non-null object\n",
      "date                                               101100 non-null datetime64[ns]\n",
      "loan_granted                                       101100 non-null category\n",
      "loan_repaid                                        47654 non-null category\n",
      "dtypes: category(5), datetime64[ns](1), float64(1), int64(8), object(1)\n",
      "memory usage: 9.7+ MB\n",
      "None\n"
     ]
    }
   ],
   "source": [
    "#some data type transformation\n",
    "cols = ['fully_repaid_previous_loans', 'currently_repaying_other_loans', 'is_employed', 'loan_granted','loan_repaid']\n",
    "for col in cols:\n",
    "    data[col] = data[col].astype('category')\n",
    "print(data.info())"
   ]
  },
  {
   "cell_type": "code",
   "execution_count": 6,
   "metadata": {},
   "outputs": [
    {
     "data": {
      "text/html": [
       "<div>\n",
       "<style scoped>\n",
       "    .dataframe tbody tr th:only-of-type {\n",
       "        vertical-align: middle;\n",
       "    }\n",
       "\n",
       "    .dataframe tbody tr th {\n",
       "        vertical-align: top;\n",
       "    }\n",
       "\n",
       "    .dataframe thead th {\n",
       "        text-align: right;\n",
       "    }\n",
       "</style>\n",
       "<table border=\"1\" class=\"dataframe\">\n",
       "  <thead>\n",
       "    <tr style=\"text-align: right;\">\n",
       "      <th></th>\n",
       "      <th>loan_id</th>\n",
       "      <th>is_first_loan</th>\n",
       "      <th>fully_repaid_previous_loans</th>\n",
       "      <th>currently_repaying_other_loans</th>\n",
       "      <th>total_credit_card_limit</th>\n",
       "      <th>avg_percentage_credit_card_limit_used_last_year</th>\n",
       "      <th>saving_amount</th>\n",
       "      <th>checking_amount</th>\n",
       "      <th>is_employed</th>\n",
       "      <th>yearly_salary</th>\n",
       "      <th>age</th>\n",
       "      <th>dependent_number</th>\n",
       "      <th>loan_purpose</th>\n",
       "      <th>date</th>\n",
       "      <th>loan_granted</th>\n",
       "      <th>loan_repaid</th>\n",
       "    </tr>\n",
       "  </thead>\n",
       "  <tbody>\n",
       "    <tr>\n",
       "      <th>0</th>\n",
       "      <td>289774</td>\n",
       "      <td>1</td>\n",
       "      <td>NaN</td>\n",
       "      <td>NaN</td>\n",
       "      <td>8000</td>\n",
       "      <td>0.49</td>\n",
       "      <td>3285</td>\n",
       "      <td>1073</td>\n",
       "      <td>0</td>\n",
       "      <td>0</td>\n",
       "      <td>47</td>\n",
       "      <td>3</td>\n",
       "      <td>business</td>\n",
       "      <td>2012-01-31</td>\n",
       "      <td>0</td>\n",
       "      <td>NaN</td>\n",
       "    </tr>\n",
       "    <tr>\n",
       "      <th>1</th>\n",
       "      <td>482590</td>\n",
       "      <td>0</td>\n",
       "      <td>1.0</td>\n",
       "      <td>0.0</td>\n",
       "      <td>4500</td>\n",
       "      <td>1.03</td>\n",
       "      <td>636</td>\n",
       "      <td>5299</td>\n",
       "      <td>1</td>\n",
       "      <td>13500</td>\n",
       "      <td>33</td>\n",
       "      <td>1</td>\n",
       "      <td>investment</td>\n",
       "      <td>2012-11-02</td>\n",
       "      <td>0</td>\n",
       "      <td>NaN</td>\n",
       "    </tr>\n",
       "    <tr>\n",
       "      <th>2</th>\n",
       "      <td>135565</td>\n",
       "      <td>1</td>\n",
       "      <td>NaN</td>\n",
       "      <td>NaN</td>\n",
       "      <td>6900</td>\n",
       "      <td>0.82</td>\n",
       "      <td>2085</td>\n",
       "      <td>3422</td>\n",
       "      <td>1</td>\n",
       "      <td>24500</td>\n",
       "      <td>38</td>\n",
       "      <td>8</td>\n",
       "      <td>other</td>\n",
       "      <td>2012-07-16</td>\n",
       "      <td>1</td>\n",
       "      <td>1.0</td>\n",
       "    </tr>\n",
       "  </tbody>\n",
       "</table>\n",
       "</div>"
      ],
      "text/plain": [
       "   loan_id  is_first_loan fully_repaid_previous_loans  \\\n",
       "0   289774              1                         NaN   \n",
       "1   482590              0                         1.0   \n",
       "2   135565              1                         NaN   \n",
       "\n",
       "  currently_repaying_other_loans  total_credit_card_limit  \\\n",
       "0                            NaN                     8000   \n",
       "1                            0.0                     4500   \n",
       "2                            NaN                     6900   \n",
       "\n",
       "   avg_percentage_credit_card_limit_used_last_year  saving_amount  \\\n",
       "0                                             0.49           3285   \n",
       "1                                             1.03            636   \n",
       "2                                             0.82           2085   \n",
       "\n",
       "   checking_amount is_employed  yearly_salary  age  dependent_number  \\\n",
       "0             1073           0              0   47                 3   \n",
       "1             5299           1          13500   33                 1   \n",
       "2             3422           1          24500   38                 8   \n",
       "\n",
       "  loan_purpose       date loan_granted loan_repaid  \n",
       "0     business 2012-01-31            0         NaN  \n",
       "1   investment 2012-11-02            0         NaN  \n",
       "2        other 2012-07-16            1         1.0  "
      ]
     },
     "execution_count": 6,
     "metadata": {},
     "output_type": "execute_result"
    }
   ],
   "source": [
    "data.head(3)"
   ]
  },
  {
   "cell_type": "markdown",
   "metadata": {},
   "source": [
    "## Exploratory data analysis first"
   ]
  },
  {
   "cell_type": "markdown",
   "metadata": {},
   "source": [
    "For both first time borrower and multi time borrower, the *no granted rate* is higher than *grant rate*"
   ]
  },
  {
   "cell_type": "code",
   "execution_count": 12,
   "metadata": {},
   "outputs": [
    {
     "data": {
      "text/plain": [
       "<matplotlib.legend.Legend at 0x172849e9ac8>"
      ]
     },
     "execution_count": 12,
     "metadata": {},
     "output_type": "execute_result"
    },
    {
     "data": {
      "image/png": "[encoded data removed]",
      "text/plain": [
       "<Figure size 576x288 with 1 Axes>"
      ]
     },
     "metadata": {},
     "output_type": "display_data"
    }
   ],
   "source": [
    "#is_first_loan, take a look at its distribution\n",
    "fig, ax = plt.subplots(figsize = (8,4))\n",
    "sns.countplot(x = 'is_first_loan', ax = ax, hue = 'loan_granted', data=data)\n",
    "plt.legend(['no','yes'])"
   ]
  },
  {
   "cell_type": "markdown",
   "metadata": {},
   "source": [
    "Analyze four bank card related features separated by loan_granted:  *total_credit_card_limit*, *avg_percentage_credit_card_limit_used_last_year*, *checking_amount*, *saving_amount*\n",
    "\n",
    "1. **Total credit card limit** plays a very important role in deciding if loan_granted based on the left figure because those who are granted have much higher credit_card_possession rate and higher limit\n",
    "2. **credit card usage** is also distinguishable between two groups since those who are granted loan have smaller usages\n",
    "3. **checking, saving amount** is less distinguishable, but still, those who are granted loan in average have higher amount "
   ]
  },
  {
   "cell_type": "code",
   "execution_count": 25,
   "metadata": {},
   "outputs": [
    {
     "data": {
      "image/png": "[encoded data removed]",
      "text/plain": [
       "<Figure size 1296x864 with 4 Axes>"
      ]
     },
     "metadata": {},
     "output_type": "display_data"
    }
   ],
   "source": [
    "#credit card limit\n",
    "fig, ((ax1,ax2), (ax3,ax4)) = plt.subplots(nrows = 2, ncols = 2, figsize = (18,12))\n",
    "data.groupby('loan_granted').total_credit_card_limit.hist(alpha = 0.3, ax = ax1)\n",
    "ax1.set_title('Distribution of credit card limit by loan_granted', fontsize = 14)\n",
    "#percentage\n",
    "data.groupby(\"loan_granted\").avg_percentage_credit_card_limit_used_last_year.hist(alpha = 0.3, ax=ax2)\n",
    "ax2.set_title(\"Distribution of credit card use percentage by loan_granted\", fontsize = 14)\n",
    "#checking amount\n",
    "data.groupby(\"loan_granted\").checking_amount.hist(alpha = 0.3, ax=ax3)\n",
    "ax3.set_title(\"Distribution of checking amount by loan_granted\", fontsize = 14)\n",
    "#savings amount\n",
    "data.groupby(\"loan_granted\").saving_amount.hist(alpha = 0.3, ax=ax4)\n",
    "ax4.set_title(\"Distribution of saving amount by loan_granted\", fontsize = 14)\n",
    "plt.tight_layout()"
   ]
  },
  {
   "cell_type": "markdown",
   "metadata": {},
   "source": [
    "Analyze *fully_repaid_previous_loans* and *currently_repaying_other_loans* by loan_granted. These two features mainly focus on loan history of the borrower, and see how this affects current status\n",
    "\n",
    "1. For **fully_repaid_previous_loans**, this does not seem to affect loan decision because people in either groups are granted, and the grant rate is even higher for those who have not repaid\n",
    "2. For **currently_repaying_other_loans**, this definitely affects loan decision since those who are not currently paying for other loans have higher grant rate than those who are"
   ]
  },
  {
   "cell_type": "code",
   "execution_count": 34,
   "metadata": {},
   "outputs": [
    {
     "data": {
      "image/png": "[encoded data removed]",
      "text/plain": [
       "<Figure size 1296x432 with 2 Axes>"
      ]
     },
     "metadata": {},
     "output_type": "display_data"
    }
   ],
   "source": [
    "fig, ax = plt.subplots(nrows = 1, ncols = 2, figsize = (18,6))\n",
    "sns.countplot(x = 'fully_repaid_previous_loans', data = data,hue = 'loan_granted', ax = ax[0])\n",
    "ax[0].set_title(\"fully repaid previous loans\",fontsize=14)\n",
    "\n",
    "sns.countplot(x = 'currently_repaying_other_loans',data=data, hue = 'loan_granted', ax = ax[1])\n",
    "ax[1].set_title(\"currently_repaying_other_loans\",fontsize=14)\n",
    "plt.tight_layout()"
   ]
  },
  {
   "cell_type": "markdown",
   "metadata": {},
   "source": [
    "Next we analyze effect of employment on loan granted using *is_employed* and *yearly_salary*"
   ]
  },
  {
   "cell_type": "code",
   "execution_count": 44,
   "metadata": {},
   "outputs": [],
   "source": [
    "from sklearn.preprocessing import StandardScaler, LabelEncoder\n",
    "from sklearn.neighbors import KNeighborsRegressor\n",
    "from sklearn.model_selection import GridSearchCV\n",
    "#impute missing values by using KNN\n",
    "\n",
    "def impute_credit_card(df, k_list):\n",
    "    #remove two features\n",
    "    cols_to_remove = ['loan_id','date']\n",
    "    df.drop(cols_to_remove, axis = 1)\n",
    "    #encode text to categorical values\n",
    "    le = LabelEncoder()\n",
    "    df['loan_purpose'] = le.fit_transform(df['loan_purpose'])\n",
    "    #split train, test\n",
    "    train, test = df[df['avg_percentage_credit_card_limit_used_last_year'].isnull() == False], \\\n",
    "                df[df['avg_percentage_credit_card_limit_used_last_year'].isnull() == True]\n",
    "    X_train, X_test, y_train = train.loc[:, train.columns != 'avg_percentage_credit_card_limit_used_last_year'], \\\n",
    "                test.loc[:,test.columns !='avg_percentage_credit_card_limit_used_last_year'], \\\n",
    "                train.avg_percentage_credit_card_limit_used_last_year\n",
    "    \n",
    "    #scale all columns before fit KNN model and save mean/var of each feature\n",
    "    for col in X_train.columns:\n",
    "        scaler = StandardScaler()\n",
    "        scaler.fit(X_train[col].reshape(-1, 1))\n",
    "        X_train[col] = scaler.transform(X_train[col].reshape(-1, 1))\n",
    "        X_test[col] = scaler.transform(X_test[col].reshape(-1, 1))\n",
    "    #find best k\n",
    "    params = {\"n_neighbors\": k_list}\n",
    "    knn = KNeighborsRegressor()\n",
    "    clf = GridSearchCV(knn, params)\n",
    "    clf.fit(X_train, y_train)\n",
    "    model = clf.best_estimator_\n",
    "    #make predictions\n",
    "    print(X_test.shape)\n",
    "    return model.fit(X_test)"
   ]
  },
  {
   "cell_type": "code",
   "execution_count": null,
   "metadata": {},
   "outputs": [],
   "source": []
  }
 ],
 "metadata": {
  "kernelspec": {
   "display_name": "Python 3",
   "language": "python",
   "name": "python3"
  },
  "language_info": {
   "codemirror_mode": {
    "name": "ipython",
    "version": 3
   },
   "file_extension": ".py",
   "mimetype": "text/x-python",
   "name": "python",
   "nbconvert_exporter": "python",
   "pygments_lexer": "ipython3",
   "version": "3.6.4"
  }
 },
 "nbformat": 4,
 "nbformat_minor": 2
}

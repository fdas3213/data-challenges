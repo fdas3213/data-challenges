{
 "cells": [
  {
   "cell_type": "code",
   "execution_count": 1,
   "metadata": {},
   "outputs": [],
   "source": [
    "import pandas as pd\n",
    "import numpy as np\n",
    "import sys\n",
    "sys.path.append(\"C://Users/sz/Desktop/practice/take_home_challenges/\")\n",
    "import helper_f\n",
    "import matplotlib.pyplot as plt\n",
    "%matplotlib inline"
   ]
  },
  {
   "cell_type": "markdown",
   "metadata": {},
   "source": [
    "## Questions to analyze\n",
    "\n",
    "1. Should the company sell its software for \\$39 or \\$59?\n",
    "2. A holistic view into user behavior, especially focusing on actionable insights that might increase conversion rate. What are main findings looking at the data?\n",
    "3. The VP of Product feels that the test has been running for too long and he should have been able to get statistically significant results in a shorter time. Do you agree with her intuition? After how many days you would have stopped the test? Please, explain why."
   ]
  },
  {
   "cell_type": "markdown",
   "metadata": {},
   "source": [
    "Read data"
   ]
  },
  {
   "cell_type": "code",
   "execution_count": 2,
   "metadata": {},
   "outputs": [],
   "source": [
    "result = pd.read_csv(\"test_results.csv\")\n",
    "user = pd.read_csv(\"user_table.csv\")"
   ]
  },
  {
   "cell_type": "code",
   "execution_count": 3,
   "metadata": {},
   "outputs": [
    {
     "data": {
      "text/html": [
       "<div>\n",
       "<style scoped>\n",
       "    .dataframe tbody tr th:only-of-type {\n",
       "        vertical-align: middle;\n",
       "    }\n",
       "\n",
       "    .dataframe tbody tr th {\n",
       "        vertical-align: top;\n",
       "    }\n",
       "\n",
       "    .dataframe thead th {\n",
       "        text-align: right;\n",
       "    }\n",
       "</style>\n",
       "<table border=\"1\" class=\"dataframe\">\n",
       "  <thead>\n",
       "    <tr style=\"text-align: right;\">\n",
       "      <th></th>\n",
       "      <th>user_id</th>\n",
       "      <th>timestamp</th>\n",
       "      <th>source</th>\n",
       "      <th>device</th>\n",
       "      <th>operative_system</th>\n",
       "      <th>test</th>\n",
       "      <th>price</th>\n",
       "      <th>converted</th>\n",
       "    </tr>\n",
       "  </thead>\n",
       "  <tbody>\n",
       "    <tr>\n",
       "      <th>0</th>\n",
       "      <td>604839</td>\n",
       "      <td>2015-05-08 03:38:34</td>\n",
       "      <td>ads_facebook</td>\n",
       "      <td>mobile</td>\n",
       "      <td>iOS</td>\n",
       "      <td>0</td>\n",
       "      <td>39</td>\n",
       "      <td>0</td>\n",
       "    </tr>\n",
       "    <tr>\n",
       "      <th>1</th>\n",
       "      <td>624057</td>\n",
       "      <td>2015-05-10 21:08:46</td>\n",
       "      <td>seo-google</td>\n",
       "      <td>mobile</td>\n",
       "      <td>android</td>\n",
       "      <td>0</td>\n",
       "      <td>39</td>\n",
       "      <td>0</td>\n",
       "    </tr>\n",
       "    <tr>\n",
       "      <th>2</th>\n",
       "      <td>317970</td>\n",
       "      <td>2015-04-04 15:01:23</td>\n",
       "      <td>ads-bing</td>\n",
       "      <td>mobile</td>\n",
       "      <td>android</td>\n",
       "      <td>0</td>\n",
       "      <td>39</td>\n",
       "      <td>0</td>\n",
       "    </tr>\n",
       "  </tbody>\n",
       "</table>\n",
       "</div>"
      ],
      "text/plain": [
       "   user_id            timestamp        source  device operative_system  test  \\\n",
       "0   604839  2015-05-08 03:38:34  ads_facebook  mobile              iOS     0   \n",
       "1   624057  2015-05-10 21:08:46    seo-google  mobile          android     0   \n",
       "2   317970  2015-04-04 15:01:23      ads-bing  mobile          android     0   \n",
       "\n",
       "   price  converted  \n",
       "0     39          0  \n",
       "1     39          0  \n",
       "2     39          0  "
      ]
     },
     "execution_count": 3,
     "metadata": {},
     "output_type": "execute_result"
    }
   ],
   "source": [
    "result.head(3)"
   ]
  },
  {
   "cell_type": "code",
   "execution_count": 4,
   "metadata": {},
   "outputs": [
    {
     "data": {
      "text/html": [
       "<div>\n",
       "<style scoped>\n",
       "    .dataframe tbody tr th:only-of-type {\n",
       "        vertical-align: middle;\n",
       "    }\n",
       "\n",
       "    .dataframe tbody tr th {\n",
       "        vertical-align: top;\n",
       "    }\n",
       "\n",
       "    .dataframe thead th {\n",
       "        text-align: right;\n",
       "    }\n",
       "</style>\n",
       "<table border=\"1\" class=\"dataframe\">\n",
       "  <thead>\n",
       "    <tr style=\"text-align: right;\">\n",
       "      <th></th>\n",
       "      <th>user_id</th>\n",
       "      <th>city</th>\n",
       "      <th>country</th>\n",
       "      <th>lat</th>\n",
       "      <th>long</th>\n",
       "    </tr>\n",
       "  </thead>\n",
       "  <tbody>\n",
       "    <tr>\n",
       "      <th>0</th>\n",
       "      <td>510335</td>\n",
       "      <td>Peabody</td>\n",
       "      <td>USA</td>\n",
       "      <td>42.53</td>\n",
       "      <td>-70.97</td>\n",
       "    </tr>\n",
       "    <tr>\n",
       "      <th>1</th>\n",
       "      <td>89568</td>\n",
       "      <td>Reno</td>\n",
       "      <td>USA</td>\n",
       "      <td>39.54</td>\n",
       "      <td>-119.82</td>\n",
       "    </tr>\n",
       "    <tr>\n",
       "      <th>2</th>\n",
       "      <td>434134</td>\n",
       "      <td>Rialto</td>\n",
       "      <td>USA</td>\n",
       "      <td>34.11</td>\n",
       "      <td>-117.39</td>\n",
       "    </tr>\n",
       "  </tbody>\n",
       "</table>\n",
       "</div>"
      ],
      "text/plain": [
       "   user_id     city country    lat    long\n",
       "0   510335  Peabody     USA  42.53  -70.97\n",
       "1    89568     Reno     USA  39.54 -119.82\n",
       "2   434134   Rialto     USA  34.11 -117.39"
      ]
     },
     "execution_count": 4,
     "metadata": {},
     "output_type": "execute_result"
    }
   ],
   "source": [
    "user.head(3)"
   ]
  },
  {
   "cell_type": "markdown",
   "metadata": {},
   "source": [
    "Check null: good to know that every column contains no null value"
   ]
  },
  {
   "cell_type": "code",
   "execution_count": 5,
   "metadata": {},
   "outputs": [
    {
     "name": "stdout",
     "output_type": "stream",
     "text": [
      "result table\n",
      "user_id has 0 percent of null values\n",
      "timestamp has 0 percent of null values\n",
      "source has 0 percent of null values\n",
      "device has 0 percent of null values\n",
      "operative_system has 0 percent of null values\n",
      "test has 0 percent of null values\n",
      "price has 0 percent of null values\n",
      "converted has 0 percent of null values\n",
      "User table\n",
      "user_id has 0 percent of null values\n",
      "city has 0 percent of null values\n",
      "country has 0 percent of null values\n",
      "lat has 0 percent of null values\n",
      "long has 0 percent of null values\n"
     ]
    }
   ],
   "source": [
    "print(\"result table\")\n",
    "for col in result.columns:\n",
    "    print(\"{} has {} percent of null values\".format(col, result[col].isnull().sum()))\n",
    "print(\"User table\")\n",
    "for col in user.columns:\n",
    "    print(\"{} has {} percent of null values\".format(col, user[col].isnull().sum()))"
   ]
  },
  {
   "cell_type": "markdown",
   "metadata": {},
   "source": [
    "join two tables"
   ]
  },
  {
   "cell_type": "code",
   "execution_count": 6,
   "metadata": {},
   "outputs": [
    {
     "data": {
      "text/html": [
       "<div>\n",
       "<style scoped>\n",
       "    .dataframe tbody tr th:only-of-type {\n",
       "        vertical-align: middle;\n",
       "    }\n",
       "\n",
       "    .dataframe tbody tr th {\n",
       "        vertical-align: top;\n",
       "    }\n",
       "\n",
       "    .dataframe thead th {\n",
       "        text-align: right;\n",
       "    }\n",
       "</style>\n",
       "<table border=\"1\" class=\"dataframe\">\n",
       "  <thead>\n",
       "    <tr style=\"text-align: right;\">\n",
       "      <th></th>\n",
       "      <th>user_id</th>\n",
       "      <th>timestamp</th>\n",
       "      <th>source</th>\n",
       "      <th>device</th>\n",
       "      <th>operative_system</th>\n",
       "      <th>test</th>\n",
       "      <th>price</th>\n",
       "      <th>converted</th>\n",
       "      <th>city</th>\n",
       "      <th>country</th>\n",
       "      <th>lat</th>\n",
       "      <th>long</th>\n",
       "    </tr>\n",
       "  </thead>\n",
       "  <tbody>\n",
       "    <tr>\n",
       "      <th>0</th>\n",
       "      <td>604839</td>\n",
       "      <td>2015-05-08 03:38:34</td>\n",
       "      <td>ads_facebook</td>\n",
       "      <td>mobile</td>\n",
       "      <td>iOS</td>\n",
       "      <td>0</td>\n",
       "      <td>39</td>\n",
       "      <td>0</td>\n",
       "      <td>Buffalo</td>\n",
       "      <td>USA</td>\n",
       "      <td>42.89</td>\n",
       "      <td>-78.86</td>\n",
       "    </tr>\n",
       "    <tr>\n",
       "      <th>1</th>\n",
       "      <td>624057</td>\n",
       "      <td>2015-05-10 21:08:46</td>\n",
       "      <td>seo-google</td>\n",
       "      <td>mobile</td>\n",
       "      <td>android</td>\n",
       "      <td>0</td>\n",
       "      <td>39</td>\n",
       "      <td>0</td>\n",
       "      <td>Lakeville</td>\n",
       "      <td>USA</td>\n",
       "      <td>44.68</td>\n",
       "      <td>-93.24</td>\n",
       "    </tr>\n",
       "    <tr>\n",
       "      <th>2</th>\n",
       "      <td>317970</td>\n",
       "      <td>2015-04-04 15:01:23</td>\n",
       "      <td>ads-bing</td>\n",
       "      <td>mobile</td>\n",
       "      <td>android</td>\n",
       "      <td>0</td>\n",
       "      <td>39</td>\n",
       "      <td>0</td>\n",
       "      <td>Parma</td>\n",
       "      <td>USA</td>\n",
       "      <td>41.38</td>\n",
       "      <td>-81.73</td>\n",
       "    </tr>\n",
       "  </tbody>\n",
       "</table>\n",
       "</div>"
      ],
      "text/plain": [
       "   user_id            timestamp        source  device operative_system  test  \\\n",
       "0   604839  2015-05-08 03:38:34  ads_facebook  mobile              iOS     0   \n",
       "1   624057  2015-05-10 21:08:46    seo-google  mobile          android     0   \n",
       "2   317970  2015-04-04 15:01:23      ads-bing  mobile          android     0   \n",
       "\n",
       "   price  converted       city country    lat   long  \n",
       "0     39          0    Buffalo     USA  42.89 -78.86  \n",
       "1     39          0  Lakeville     USA  44.68 -93.24  \n",
       "2     39          0      Parma     USA  41.38 -81.73  "
      ]
     },
     "execution_count": 6,
     "metadata": {},
     "output_type": "execute_result"
    }
   ],
   "source": [
    "data = pd.merge(result, user, how='inner', on = 'user_id')\n",
    "data.head(3)"
   ]
  },
  {
   "cell_type": "markdown",
   "metadata": {},
   "source": [
    "**Analyze conversion rate of experiment and control group** <br> Based on plot below, we find that control group has a higher conversion rate than experiment group, meaning that raising price does not show effect by now"
   ]
  },
  {
   "cell_type": "code",
   "execution_count": 7,
   "metadata": {},
   "outputs": [
    {
     "data": {
      "text/plain": [
       "Text(0,0.5,'conversion rate')"
      ]
     },
     "execution_count": 7,
     "metadata": {},
     "output_type": "execute_result"
    },
    {
     "data": {
      "image/png": "[encoded data removed]",
      "text/plain": [
       "<Figure size 432x288 with 1 Axes>"
      ]
     },
     "metadata": {},
     "output_type": "display_data"
    }
   ],
   "source": [
    "test = data.groupby(['test'])['converted'].mean()\n",
    "test.plot(kind = 'bar', title = 'experiment vs. conversion rate', color = 'b')\n",
    "plt.ylabel('conversion rate')"
   ]
  },
  {
   "cell_type": "markdown",
   "metadata": {},
   "source": [
    "### Analyze source, device, operating system, country, city sequentially\n",
    "\n",
    "**Source** first\n",
    "1. friend_referrel leads to highest conversion rate, while *bing* ads lead to lowest conversion rate. ads department could consider paying less for ads on bing\n",
    "2. When looking at specific company or ads segment, we found that google/facebook have significantly higher conversion rate than bings\n",
    "3. ads has a slightly higher conversion rate than seo, so ads are actually paying back\n",
    "4. The company could think of more incentives to ask more users to refer friends to this website since friend referral leads to highest conversion rate"
   ]
  },
  {
   "cell_type": "code",
   "execution_count": 8,
   "metadata": {},
   "outputs": [
    {
     "data": {
      "text/plain": [
       "Text(0,0.5,'conversion rate')"
      ]
     },
     "execution_count": 8,
     "metadata": {},
     "output_type": "execute_result"
    },
    {
     "data": {
      "image/png": "[encoded data removed]",
      "text/plain": [
       "<Figure size 432x288 with 1 Axes>"
      ]
     },
     "metadata": {},
     "output_type": "display_data"
    }
   ],
   "source": [
    "source = data.groupby(['source'])['converted'].mean().sort_values()\n",
    "source.plot(kind = 'bar', title = 'source vs. conversion rate', rot = 60, color = 'b')\n",
    "plt.ylabel(\"conversion rate\")"
   ]
  },
  {
   "cell_type": "code",
   "execution_count": 9,
   "metadata": {},
   "outputs": [
    {
     "data": {
      "text/html": [
       "<div>\n",
       "<style scoped>\n",
       "    .dataframe tbody tr th:only-of-type {\n",
       "        vertical-align: middle;\n",
       "    }\n",
       "\n",
       "    .dataframe tbody tr th {\n",
       "        vertical-align: top;\n",
       "    }\n",
       "\n",
       "    .dataframe thead th {\n",
       "        text-align: right;\n",
       "    }\n",
       "</style>\n",
       "<table border=\"1\" class=\"dataframe\">\n",
       "  <thead>\n",
       "    <tr style=\"text-align: right;\">\n",
       "      <th></th>\n",
       "      <th>user_id</th>\n",
       "      <th>timestamp</th>\n",
       "      <th>source</th>\n",
       "      <th>device</th>\n",
       "      <th>operative_system</th>\n",
       "      <th>test</th>\n",
       "      <th>price</th>\n",
       "      <th>converted</th>\n",
       "      <th>city</th>\n",
       "      <th>country</th>\n",
       "      <th>lat</th>\n",
       "      <th>long</th>\n",
       "      <th>broad_source</th>\n",
       "      <th>specific_company</th>\n",
       "    </tr>\n",
       "  </thead>\n",
       "  <tbody>\n",
       "    <tr>\n",
       "      <th>0</th>\n",
       "      <td>604839</td>\n",
       "      <td>2015-05-08 03:38:34</td>\n",
       "      <td>ads_facebook</td>\n",
       "      <td>mobile</td>\n",
       "      <td>iOS</td>\n",
       "      <td>0</td>\n",
       "      <td>39</td>\n",
       "      <td>0</td>\n",
       "      <td>Buffalo</td>\n",
       "      <td>USA</td>\n",
       "      <td>42.89</td>\n",
       "      <td>-78.86</td>\n",
       "      <td>ads</td>\n",
       "      <td>facebook</td>\n",
       "    </tr>\n",
       "    <tr>\n",
       "      <th>1</th>\n",
       "      <td>624057</td>\n",
       "      <td>2015-05-10 21:08:46</td>\n",
       "      <td>seo-google</td>\n",
       "      <td>mobile</td>\n",
       "      <td>android</td>\n",
       "      <td>0</td>\n",
       "      <td>39</td>\n",
       "      <td>0</td>\n",
       "      <td>Lakeville</td>\n",
       "      <td>USA</td>\n",
       "      <td>44.68</td>\n",
       "      <td>-93.24</td>\n",
       "      <td>seo</td>\n",
       "      <td>google</td>\n",
       "    </tr>\n",
       "    <tr>\n",
       "      <th>2</th>\n",
       "      <td>317970</td>\n",
       "      <td>2015-04-04 15:01:23</td>\n",
       "      <td>ads-bing</td>\n",
       "      <td>mobile</td>\n",
       "      <td>android</td>\n",
       "      <td>0</td>\n",
       "      <td>39</td>\n",
       "      <td>0</td>\n",
       "      <td>Parma</td>\n",
       "      <td>USA</td>\n",
       "      <td>41.38</td>\n",
       "      <td>-81.73</td>\n",
       "      <td>ads</td>\n",
       "      <td>bing</td>\n",
       "    </tr>\n",
       "  </tbody>\n",
       "</table>\n",
       "</div>"
      ],
      "text/plain": [
       "   user_id            timestamp        source  device operative_system  test  \\\n",
       "0   604839  2015-05-08 03:38:34  ads_facebook  mobile              iOS     0   \n",
       "1   624057  2015-05-10 21:08:46    seo-google  mobile          android     0   \n",
       "2   317970  2015-04-04 15:01:23      ads-bing  mobile          android     0   \n",
       "\n",
       "   price  converted       city country    lat   long broad_source  \\\n",
       "0     39          0    Buffalo     USA  42.89 -78.86          ads   \n",
       "1     39          0  Lakeville     USA  44.68 -93.24          seo   \n",
       "2     39          0      Parma     USA  41.38 -81.73          ads   \n",
       "\n",
       "  specific_company  \n",
       "0         facebook  \n",
       "1           google  \n",
       "2             bing  "
      ]
     },
     "execution_count": 9,
     "metadata": {},
     "output_type": "execute_result"
    }
   ],
   "source": [
    "#create a new column to analyze the effect of ads and seo\n",
    "data['broad_source'] = data['source'].apply(lambda string: string.split('-')[0] if '-' in string else string.split('_')[0])\n",
    "data['specific_company'] = data['source'].apply(lambda string: string.split('-')[1] if '-' in string else string.split('_')[1])\n",
    "data.head(3)"
   ]
  },
  {
   "cell_type": "code",
   "execution_count": 10,
   "metadata": {},
   "outputs": [
    {
     "data": {
      "text/plain": [
       "Text(0,0.5,'conversion rate')"
      ]
     },
     "execution_count": 10,
     "metadata": {},
     "output_type": "execute_result"
    },
    {
     "data": {
      "image/png": "[encoded data removed]",
      "text/plain": [
       "<Figure size 432x288 with 1 Axes>"
      ]
     },
     "metadata": {},
     "output_type": "display_data"
    },
    {
     "data": {
      "image/png": "[encoded data removed]",
      "text/plain": [
       "<Figure size 432x288 with 1 Axes>"
      ]
     },
     "metadata": {},
     "output_type": "display_data"
    }
   ],
   "source": [
    "broad_source = data.groupby(['broad_source', 'test'])['converted'].mean().sort_values()\n",
    "company = data.groupby(['specific_company', 'test'])['converted'].mean().sort_values()\n",
    "\n",
    "plt.figure()\n",
    "broad_source.plot(kind = 'bar', title='broadsource vs. conversion rate', rot=60, color = 'b')\n",
    "plt.ylabel('conversion rate')\n",
    "\n",
    "plt.figure()\n",
    "company.plot(kind = 'bar', title ='company vs. conversion rate', rot = 60, color = 'b')\n",
    "plt.ylabel('conversion rate')"
   ]
  },
  {
   "cell_type": "markdown",
   "metadata": {},
   "source": [
    "**device** and **operating system**"
   ]
  },
  {
   "cell_type": "markdown",
   "metadata": {},
   "source": [
    "Based on below plot, <br>\n",
    "1. mobile and web has only a slight difference in terms of conversion rate for control group. However, for experiment group, this difference becomes larger and users are more likely to convert on mobile apps. <br> \n",
    "2. Similarly, we also found that for either device, users in control group are more likely to convert "
   ]
  },
  {
   "cell_type": "code",
   "execution_count": 11,
   "metadata": {},
   "outputs": [
    {
     "data": {
      "text/plain": [
       "Text(0,0.5,'conversion rate')"
      ]
     },
     "execution_count": 11,
     "metadata": {},
     "output_type": "execute_result"
    },
    {
     "data": {
      "image/png": "[encoded data removed]",
      "text/plain": [
       "<Figure size 432x288 with 1 Axes>"
      ]
     },
     "metadata": {},
     "output_type": "display_data"
    }
   ],
   "source": [
    "device = data.groupby(['device','test'])['converted'].mean().sort_values()\n",
    "device.plot(kind = 'bar', color='b', title = 'device vs. conversion rate', rot = 60)\n",
    "plt.ylabel('conversion rate')"
   ]
  },
  {
   "cell_type": "markdown",
   "metadata": {},
   "source": [
    "Analysis of operating system leads to interesting findings.<br>\n",
    "The difference between conversion rate of each system varies by a moderate margin. Mac system leads to highesst rate, while linux system leads to much lower rate. Based on this result, the product or engineering team might need to check out if there is any bugs on windows/linux system that prohibits conversion"
   ]
  },
  {
   "cell_type": "code",
   "execution_count": 12,
   "metadata": {},
   "outputs": [
    {
     "data": {
      "text/plain": [
       "Text(0,0.5,'conversion rate')"
      ]
     },
     "execution_count": 12,
     "metadata": {},
     "output_type": "execute_result"
    },
    {
     "data": {
      "image/png": "[encoded data removed]",
      "text/plain": [
       "<Figure size 432x288 with 1 Axes>"
      ]
     },
     "metadata": {},
     "output_type": "display_data"
    }
   ],
   "source": [
    "system = data.groupby(['operative_system'])['converted'].mean().sort_values()\n",
    "system.plot(kind = 'bar', color ='b', title = 'system vs. conversion rate', rot = 60)\n",
    "plt.ylabel('conversion rate')"
   ]
  },
  {
   "cell_type": "markdown",
   "metadata": {},
   "source": [
    "analyze **country** and **city**\n",
    "1. USA is the only country\n",
    "2. There are too many cities, and some cities have zero conversion rate. We should look at cities that appear at least 1200 times, and analyze those cities\n",
    "3. Very interesting, those cities in the southern state have higher conversion rates: Austin, Memphis, Tucson, etc. This could be related to the **product nature**. Maybe people at south needs this software more than people at other regions. Another possibility is that ads works better in South than in other areas"
   ]
  },
  {
   "cell_type": "code",
   "execution_count": 13,
   "metadata": {},
   "outputs": [],
   "source": [
    "city = data.groupby(['city'])['converted'].count().sort_values()\n",
    "city_data = data[data['city'].isin(city[city.values > 1200].index)]\n",
    "city_series = city_data.groupby(['city'])['converted'].mean().sort_values()"
   ]
  },
  {
   "cell_type": "code",
   "execution_count": 14,
   "metadata": {},
   "outputs": [
    {
     "data": {
      "text/plain": [
       "Text(0,0.5,'conversion rate')"
      ]
     },
     "execution_count": 14,
     "metadata": {},
     "output_type": "execute_result"
    },
    {
     "data": {
      "image/png": "[encoded data removed]",
      "text/plain": [
       "<Figure size 432x288 with 1 Axes>"
      ]
     },
     "metadata": {},
     "output_type": "display_data"
    }
   ],
   "source": [
    "city_series.plot(kind = 'bar', title = 'city vs. conversion rate', rot = 60, color = 'b')\n",
    "plt.ylabel(\"conversion rate\")"
   ]
  },
  {
   "cell_type": "markdown",
   "metadata": {},
   "source": [
    "### Analyze statistical significance of the result\n",
    "\n",
    "We want to apply t-test to find out p-value to verify statistical significance. <br>\n",
    "Because t-score is 8.483 and p value < 0.05, the result is statistically significant, and there is a difference in conversion rate between control and experiment group"
   ]
  },
  {
   "cell_type": "code",
   "execution_count": 15,
   "metadata": {},
   "outputs": [
    {
     "name": "stdout",
     "output_type": "stream",
     "text": [
      "t-test result: 8.483\n",
      "p value is: 2.197603406785742e-17\n"
     ]
    }
   ],
   "source": [
    "import scipy\n",
    "t_score = helper_f.t_test(data, 'test', 'converted')\n",
    "print(\"t-test result: {:.3f}\".format(t_score))\n",
    "print(\"p value is: {}\".format(scipy.stats.t.sf(np.abs(t_score), data.shape[0]-1)*2))"
   ]
  },
  {
   "cell_type": "markdown",
   "metadata": {},
   "source": [
    "We then want to find out at which day we could stop running the test. To find out this, we need to find out the number of people that is required to give a statistically significant result"
   ]
  },
  {
   "cell_type": "code",
   "execution_count": 16,
   "metadata": {},
   "outputs": [
    {
     "name": "stdout",
     "output_type": "stream",
     "text": [
      "t-statistics: 3.00959903596233, p-value: 0.0026326189271902423\n",
      "date: 2015-03-04, population: 3912\n"
     ]
    }
   ],
   "source": [
    "data['timestamp'] = data['timestamp'].apply(lambda x: x.split(\" \")[0])\n",
    "time = data.groupby(['timestamp'])['user_id'].count()\n",
    "\n",
    "for timestamp in time.index:\n",
    "    df = data[data['timestamp'] <= timestamp]\n",
    "    df_t_score = helper_f.t_test(df, 'test', 'converted')\n",
    "    p_val = scipy.stats.t.sf(np.abs(df_t_score), df.shape[0]-1)*2\n",
    "    if (p_val <= 0.05):\n",
    "        print(\"t-statistics: {}, p-value: {}\".format(df_t_score, p_val))\n",
    "        print(\"date: {}, population: {}\".format(timestamp, df.shape[0]))\n",
    "        break"
   ]
  },
  {
   "cell_type": "markdown",
   "metadata": {},
   "source": [
    "## Answers to questions at the top\n",
    "1. The company should definitely sell its product at price of 39 since conversion rate is around 4.5% higher\n",
    "2. Some actionable insights:<br> \n",
    "\n",
    "    - Think of some incentives to ask existing users to refer their friends to buy the product\n",
    "    - Put more ads on google/facebook, less ads on bing/yahoo\n",
    "    - Check non mac/IOS system website bugs, and find out any features that are different than those on mac/IOS systems\n",
    "    - Analyze user behavior and ads of southern cities<br>\n",
    "\n",
    "3. Unsure if the approach is correct. But still, my approach shows that by the end of first day - March 4, 2015, we have already collected enough amount of population to generate a statistically significant result"
   ]
  },
  {
   "cell_type": "code",
   "execution_count": null,
   "metadata": {},
   "outputs": [],
   "source": []
  }
 ],
 "metadata": {
  "kernelspec": {
   "display_name": "Python 3",
   "language": "python",
   "name": "python3"
  },
  "language_info": {
   "codemirror_mode": {
    "name": "ipython",
    "version": 3
   },
   "file_extension": ".py",
   "mimetype": "text/x-python",
   "name": "python",
   "nbconvert_exporter": "python",
   "pygments_lexer": "ipython3",
   "version": "3.6.4"
  }
 },
 "nbformat": 4,
 "nbformat_minor": 2
}

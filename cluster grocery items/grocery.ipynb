{
 "cells": [
  {
   "cell_type": "code",
   "execution_count": 1,
   "metadata": {},
   "outputs": [],
   "source": [
    "import pandas as pd\n",
    "import numpy as np\n",
    "import matplotlib.pyplot as plt\n",
    "%matplotlib inline"
   ]
  },
  {
   "cell_type": "markdown",
   "metadata": {},
   "source": [
    "## Objectives \n",
    "\n",
    "1. The customer who bought the most items overall in her lifetime\n",
    "2. For each item, the customer who bought that product the most\n",
    "3. Cluster items based on user co-purchase history."
   ]
  },
  {
   "cell_type": "markdown",
   "metadata": {},
   "source": [
    "**Merge table and clean data**"
   ]
  },
  {
   "cell_type": "code",
   "execution_count": 2,
   "metadata": {},
   "outputs": [
    {
     "name": "stdout",
     "output_type": "stream",
     "text": [
      "item table has shape:  (48, 2)\n",
      "user table has shape:  (39474, 2)\n"
     ]
    }
   ],
   "source": [
    "#load data\n",
    "item = pd.read_csv(\"item_to_id.csv\")\n",
    "user = pd.read_csv(\"purchase_history.csv\")\n",
    "cluster_user = user.copy()\n",
    "print(\"unique items: \", item.shape)\n",
    "print(\"total number of transactions: \", user.shape)\n",
    "print(\"unique users: \", len(user['user_id'].unique()))"
   ]
  },
  {
   "cell_type": "code",
   "execution_count": 3,
   "metadata": {},
   "outputs": [],
   "source": [
    "#clean user table by removing ',' in id column and separate items by id\n",
    "user = pd.DataFrame(user.id.str.split(',').tolist(), index = user.user_id).stack()\n",
    "user = user.reset_index()[[0, 'user_id']]\n",
    "user.columns = ['id', 'user_id']\n",
    "user['id'] = user['id'].astype('int')\n",
    "item['Item_id'] =item['Item_id'].astype('int')"
   ]
  },
  {
   "cell_type": "code",
   "execution_count": 4,
   "metadata": {},
   "outputs": [
    {
     "data": {
      "text/html": [
       "<div>\n",
       "<style scoped>\n",
       "    .dataframe tbody tr th:only-of-type {\n",
       "        vertical-align: middle;\n",
       "    }\n",
       "\n",
       "    .dataframe tbody tr th {\n",
       "        vertical-align: top;\n",
       "    }\n",
       "\n",
       "    .dataframe thead th {\n",
       "        text-align: right;\n",
       "    }\n",
       "</style>\n",
       "<table border=\"1\" class=\"dataframe\">\n",
       "  <thead>\n",
       "    <tr style=\"text-align: right;\">\n",
       "      <th></th>\n",
       "      <th>user_id</th>\n",
       "      <th>Item_name</th>\n",
       "      <th>Item_id</th>\n",
       "    </tr>\n",
       "  </thead>\n",
       "  <tbody>\n",
       "    <tr>\n",
       "      <th>0</th>\n",
       "      <td>222087</td>\n",
       "      <td>dishwashing</td>\n",
       "      <td>27</td>\n",
       "    </tr>\n",
       "    <tr>\n",
       "      <th>1</th>\n",
       "      <td>404134</td>\n",
       "      <td>dishwashing</td>\n",
       "      <td>27</td>\n",
       "    </tr>\n",
       "    <tr>\n",
       "      <th>2</th>\n",
       "      <td>987613</td>\n",
       "      <td>dishwashing</td>\n",
       "      <td>27</td>\n",
       "    </tr>\n",
       "    <tr>\n",
       "      <th>3</th>\n",
       "      <td>60201</td>\n",
       "      <td>dishwashing</td>\n",
       "      <td>27</td>\n",
       "    </tr>\n",
       "    <tr>\n",
       "      <th>4</th>\n",
       "      <td>1166671</td>\n",
       "      <td>dishwashing</td>\n",
       "      <td>27</td>\n",
       "    </tr>\n",
       "  </tbody>\n",
       "</table>\n",
       "</div>"
      ],
      "text/plain": [
       "   user_id     Item_name  Item_id\n",
       "0   222087  dishwashing        27\n",
       "1   404134  dishwashing        27\n",
       "2   987613  dishwashing        27\n",
       "3    60201  dishwashing        27\n",
       "4  1166671  dishwashing        27"
      ]
     },
     "execution_count": 4,
     "metadata": {},
     "output_type": "execute_result"
    }
   ],
   "source": [
    "data = pd.merge(user, item, left_on = 'id', right_on = 'Item_id')\n",
    "data.drop('id', axis = 1, inplace = True)\n",
    "data.head()"
   ]
  },
  {
   "cell_type": "markdown",
   "metadata": {},
   "source": [
    "Data explorations\n",
    "1. Most users have bought between 1-20 products\n",
    "2. Item bought most by users is *Lettuce*, and item bought by least amount of users is *flour*"
   ]
  },
  {
   "cell_type": "code",
   "execution_count": 5,
   "metadata": {},
   "outputs": [
    {
     "data": {
      "text/plain": [
       "Text(0.5,1,'number of products users purchase')"
      ]
     },
     "execution_count": 5,
     "metadata": {},
     "output_type": "execute_result"
    },
    {
     "data": {
      "image/png": "[encoded data removed]",
      "text/plain": [
       "<Figure size 432x288 with 1 Axes>"
      ]
     },
     "metadata": {},
     "output_type": "display_data"
    }
   ],
   "source": [
    "user = data.groupby('user_id')['Item_name'].count()\n",
    "user.hist(bins = 30)\n",
    "plt.title(\"number of products users purchase\")"
   ]
  },
  {
   "cell_type": "code",
   "execution_count": 6,
   "metadata": {},
   "outputs": [
    {
     "data": {
      "text/plain": [
       "<matplotlib.axes._subplots.AxesSubplot at 0x17e61ab21d0>"
      ]
     },
     "execution_count": 6,
     "metadata": {},
     "output_type": "execute_result"
    },
    {
     "data": {
      "image/png": "[encoded data removed]",
      "text/plain": [
       "<Figure size 432x288 with 1 Axes>"
      ]
     },
     "metadata": {},
     "output_type": "display_data"
    }
   ],
   "source": [
    "product = data.groupby('Item_name')['user_id'].count().sort_values()\n",
    "product[-10:].plot(kind='bar',color = 'b',title ='top ten products been bought', rot = 45)"
   ]
  },
  {
   "cell_type": "code",
   "execution_count": 7,
   "metadata": {},
   "outputs": [
    {
     "data": {
      "text/plain": [
       "<matplotlib.axes._subplots.AxesSubplot at 0x17e61f7fb00>"
      ]
     },
     "execution_count": 7,
     "metadata": {},
     "output_type": "execute_result"
    },
    {
     "data": {
      "image/png": "[encoded data removed]",
      "text/plain": [
       "<Figure size 432x288 with 1 Axes>"
      ]
     },
     "metadata": {},
     "output_type": "display_data"
    }
   ],
   "source": [
    "product[:10].plot(kind = 'bar', color = 'b', title = 'ten products bought by least people', rot=45)"
   ]
  },
  {
   "cell_type": "markdown",
   "metadata": {},
   "source": [
    "**user who bought the most items in her lifetime is 269335**"
   ]
  },
  {
   "cell_type": "code",
   "execution_count": 8,
   "metadata": {},
   "outputs": [
    {
     "name": "stdout",
     "output_type": "stream",
     "text": [
      "The user who bought most products is 269335, and has bought 72 items\n"
     ]
    }
   ],
   "source": [
    "most_product_id = user[user.values == max(user)]\n",
    "print(\"The user who bought most products is {}, and has bought {} items\".format(most_product_id.index[0], most_product_id.values[0]))"
   ]
  },
  {
   "cell_type": "markdown",
   "metadata": {},
   "source": [
    "**For each item, the customer who bought that product the most**"
   ]
  },
  {
   "cell_type": "code",
   "execution_count": 54,
   "metadata": {
    "scrolled": true
   },
   "outputs": [
    {
     "data": {
      "text/html": [
       "<div>\n",
       "<style scoped>\n",
       "    .dataframe tbody tr th:only-of-type {\n",
       "        vertical-align: middle;\n",
       "    }\n",
       "\n",
       "    .dataframe tbody tr th {\n",
       "        vertical-align: top;\n",
       "    }\n",
       "\n",
       "    .dataframe thead th {\n",
       "        text-align: right;\n",
       "    }\n",
       "</style>\n",
       "<table border=\"1\" class=\"dataframe\">\n",
       "  <thead>\n",
       "    <tr style=\"text-align: right;\">\n",
       "      <th></th>\n",
       "      <th>item</th>\n",
       "      <th>number</th>\n",
       "      <th>user</th>\n",
       "    </tr>\n",
       "  </thead>\n",
       "  <tbody>\n",
       "    <tr>\n",
       "      <th>0</th>\n",
       "      <td>aluminum foil</td>\n",
       "      <td>3</td>\n",
       "      <td>143741</td>\n",
       "    </tr>\n",
       "    <tr>\n",
       "      <th>1</th>\n",
       "      <td>apples</td>\n",
       "      <td>4</td>\n",
       "      <td>109578</td>\n",
       "    </tr>\n",
       "    <tr>\n",
       "      <th>2</th>\n",
       "      <td>baby items</td>\n",
       "      <td>3</td>\n",
       "      <td>5289</td>\n",
       "    </tr>\n",
       "    <tr>\n",
       "      <th>3</th>\n",
       "      <td>bagels</td>\n",
       "      <td>4</td>\n",
       "      <td>653800</td>\n",
       "    </tr>\n",
       "    <tr>\n",
       "      <th>4</th>\n",
       "      <td>bananas</td>\n",
       "      <td>4</td>\n",
       "      <td>1218645</td>\n",
       "    </tr>\n",
       "  </tbody>\n",
       "</table>\n",
       "</div>"
      ],
      "text/plain": [
       "            item  number     user\n",
       "0  aluminum foil       3   143741\n",
       "1         apples       4   109578\n",
       "2     baby items       3     5289\n",
       "3         bagels       4   653800\n",
       "4        bananas       4  1218645"
      ]
     },
     "execution_count": 54,
     "metadata": {},
     "output_type": "execute_result"
    }
   ],
   "source": [
    "item_most = data.groupby(['Item_name','user_id'])['user_id'].count()\n",
    "item_most_id = item_most.unstack().idxmax(axis = 1)\n",
    "item_dict = {\"user\":[], \"item\":[], \"number\":[]}\n",
    "for prod in item_most_id.index:\n",
    "    item_dict['user'].append(item_most_id[prod])\n",
    "    item_dict['item'].append(prod)\n",
    "    item_dict['number'].append(item_most[prod][item_most_id[prod]])\n",
    "new_df = pd.DataFrame(item_dict)\n",
    "new_df.head(5)"
   ]
  },
  {
   "cell_type": "markdown",
   "metadata": {},
   "source": [
    "**cluster based on co-purchase history**"
   ]
  },
  {
   "cell_type": "code",
   "execution_count": 28,
   "metadata": {},
   "outputs": [],
   "source": [
    "#create a kxk matrix, and store cooccurence of item i and j into cell (i,j)\n",
    "co_occur = np.zeros((len(item), len(item)))\n",
    "for val in cluster_user.id:\n",
    "    item_list = val.split(\",\")\n",
    "    for i in range(len(item_list)):\n",
    "        for j in range(i, len(item_list), 1):\n",
    "            co_occur[int(item_list[i])-1, int(item_list[j])-1] += 1"
   ]
  },
  {
   "cell_type": "code",
   "execution_count": 48,
   "metadata": {},
   "outputs": [],
   "source": [
    "#calculate the probability of co-occurence by dividing each row by its sum          \n",
    "prob = co_occur / co_occur.sum(axis =1, keepdims=True)\n",
    "\n",
    "#for each item, we find five items that "
   ]
  },
  {
   "cell_type": "code",
   "execution_count": 50,
   "metadata": {},
   "outputs": [
    {
     "data": {
      "text/plain": [
       "[0.1768580296698194,\n",
       " 0.029779798127917492,\n",
       " 0.028997727106092823,\n",
       " 0.028838868929784687,\n",
       " 0.028692230613192562,\n",
       " 0.025319549331573675,\n",
       " 0.02362098883104822,\n",
       " 0.023486570374172105,\n",
       " 0.02303443556467972,\n",
       " 0.022936676686951634,\n",
       " 0.02285113766893956,\n",
       " 0.02279003837035951,\n",
       " 0.022765598650927487,\n",
       " 0.022753378791211476,\n",
       " 0.02255786103575531,\n",
       " 0.02249676173717526,\n",
       " 0.022447882298311215,\n",
       " 0.022411222719163185,\n",
       " 0.022374563140015152,\n",
       " 0.022105726226262924,\n",
       " 0.021885768751374733,\n",
       " 0.02156805239875846,\n",
       " 0.0214947332404624,\n",
       " 0.01751105897304299,\n",
       " 0.01699782486497055,\n",
       " 0.016557909915194173,\n",
       " 0.01617909426399785,\n",
       " 0.01599579636825769,\n",
       " 0.01593469706967764,\n",
       " 0.015775838893369504,\n",
       " 0.014981548011828823,\n",
       " 0.014896008993816752,\n",
       " 0.01488378913410074,\n",
       " 0.014749370677224625,\n",
       " 0.014700491238360584,\n",
       " 0.009739228193660337,\n",
       " 0.009311533103599971,\n",
       " 0.009140455067575824,\n",
       " 0.009079355768995772,\n",
       " 0.009067135909279761,\n",
       " 0.008834958574675563,\n",
       " 0.00878607913581152,\n",
       " 0.008456142923479239,\n",
       " 0.008138426570862967,\n",
       " 0.007270816531026224,\n",
       " 0.007050859056138036,\n",
       " 0.007014199476990004,\n",
       " 0.0068797810201138895]"
      ]
     },
     "execution_count": 50,
     "metadata": {},
     "output_type": "execute_result"
    }
   ],
   "source": [
    "sorted(prob[1], key = lambda x:-x)"
   ]
  },
  {
   "cell_type": "code",
   "execution_count": null,
   "metadata": {},
   "outputs": [],
   "source": []
  }
 ],
 "metadata": {
  "kernelspec": {
   "display_name": "Python 3",
   "language": "python",
   "name": "python3"
  },
  "language_info": {
   "codemirror_mode": {
    "name": "ipython",
    "version": 3
   },
   "file_extension": ".py",
   "mimetype": "text/x-python",
   "name": "python",
   "nbconvert_exporter": "python",
   "pygments_lexer": "ipython3",
   "version": "3.6.4"
  }
 },
 "nbformat": 4,
 "nbformat_minor": 2
}
